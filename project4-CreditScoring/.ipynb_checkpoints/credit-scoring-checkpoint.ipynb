{
 "cells": [
  {
   "cell_type": "code",
   "execution_count": 1,
   "metadata": {
    "execution": {
     "iopub.execute_input": "2021-09-27T18:49:07.964060Z",
     "iopub.status.busy": "2021-09-27T18:49:07.963792Z",
     "iopub.status.idle": "2021-09-27T18:49:10.524757Z",
     "shell.execute_reply": "2021-09-27T18:49:10.522997Z",
     "shell.execute_reply.started": "2021-09-27T18:49:07.964032Z"
    }
   },
   "outputs": [],
   "source": [
    "import pandas as pd\n",
    "import numpy as np\n",
    "\n",
    "\n",
    "import matplotlib.pyplot as plt\n",
    "%matplotlib inline\n",
    "import seaborn as sns\n",
    "\n",
    "from sklearn.feature_selection import f_classif, mutual_info_classif\n",
    "from sklearn.preprocessing import LabelEncoder, OneHotEncoder, StandardScaler\n",
    "\n",
    "from sklearn.model_selection import train_test_split\n",
    "from sklearn.linear_model import LogisticRegression\n",
    "from sklearn.model_selection import GridSearchCV, RandomizedSearchCV\n",
    "\n",
    "\n",
    "from sklearn.metrics import confusion_matrix\n",
    "from sklearn.metrics import auc, roc_auc_score, roc_curve\n",
    "\n",
    "!pip freeze > requirements.txt"
   ]
  },
  {
   "cell_type": "markdown",
   "metadata": {},
   "source": [
    "# Загрузка данных"
   ]
  },
  {
   "cell_type": "markdown",
   "metadata": {},
   "source": [
    "Описания полей:\n",
    "\n",
    "client_id - идентификатор клиента\n",
    "\n",
    "education - уровень образования\n",
    "\n",
    "sex - пол заемщика\n",
    "\n",
    "age - возраст заемщика\n",
    "\n",
    "car - флаг наличия автомобиля\n",
    "\n",
    "car_type - флаг автомобиля иномарки\n",
    "\n",
    "decline_app_cnt - количество отказанных прошлых заявок\n",
    "\n",
    "good_work - флаг наличия “хорошей” работы\n",
    "\n",
    "bki_request_cnt - количество запросов в БКИ\n",
    "\n",
    "home_address - категоризатор домашнего адреса\n",
    "\n",
    "work_address - категоризатор рабочего адреса\n",
    "\n",
    "income - доход заемщика\n",
    "\n",
    "foreign_passport - наличие загранпаспорта\n",
    "\n",
    "sna - связь заемщика с клиентами банка\n",
    "\n",
    "first_time - давность наличия информации о заемщике\n",
    "\n",
    "score_bki - скоринговый балл по данным из БКИ\n",
    "\n",
    "region_rating - рейтинг региона\n",
    "\n",
    "app_date - дата подачи заявки\n",
    "\n",
    "default - флаг дефолта по кредиту (target)"
   ]
  },
  {
   "cell_type": "code",
   "execution_count": 2,
   "metadata": {
    "execution": {
     "iopub.execute_input": "2021-09-27T19:04:43.794619Z",
     "iopub.status.busy": "2021-09-27T19:04:43.793874Z",
     "iopub.status.idle": "2021-09-27T19:04:43.804568Z",
     "shell.execute_reply": "2021-09-27T19:04:43.803694Z",
     "shell.execute_reply.started": "2021-09-27T19:04:43.794570Z"
    }
   },
   "outputs": [],
   "source": [
    "# import os\n",
    "# for dirname, _, filenames in os.walk('/kaggle/input'):\n",
    "#     for filename in filenames:\n",
    "#         print(os.path.join(dirname, filename))"
   ]
  },
  {
   "cell_type": "code",
   "execution_count": 3,
   "metadata": {
    "execution": {
     "iopub.execute_input": "2021-09-27T19:04:44.356588Z",
     "iopub.status.busy": "2021-09-27T19:04:44.355757Z",
     "iopub.status.idle": "2021-09-27T19:04:44.587436Z",
     "shell.execute_reply": "2021-09-27T19:04:44.586362Z",
     "shell.execute_reply.started": "2021-09-27T19:04:44.356549Z"
    }
   },
   "outputs": [],
   "source": [
    "df_train = pd.read_csv('train.csv')\n",
    "df_test = pd.read_csv('test.csv')"
   ]
  },
  {
   "cell_type": "code",
   "execution_count": 4,
   "metadata": {
    "execution": {
     "iopub.execute_input": "2021-09-27T19:04:44.589460Z",
     "iopub.status.busy": "2021-09-27T19:04:44.589159Z",
     "iopub.status.idle": "2021-09-27T19:04:44.654825Z",
     "shell.execute_reply": "2021-09-27T19:04:44.653917Z",
     "shell.execute_reply.started": "2021-09-27T19:04:44.589421Z"
    }
   },
   "outputs": [
    {
     "name": "stdout",
     "output_type": "stream",
     "text": [
      "<class 'pandas.core.frame.DataFrame'>\n",
      "RangeIndex: 73799 entries, 0 to 73798\n",
      "Data columns (total 19 columns):\n",
      " #   Column            Non-Null Count  Dtype  \n",
      "---  ------            --------------  -----  \n",
      " 0   client_id         73799 non-null  int64  \n",
      " 1   app_date          73799 non-null  object \n",
      " 2   education         73492 non-null  object \n",
      " 3   sex               73799 non-null  object \n",
      " 4   age               73799 non-null  int64  \n",
      " 5   car               73799 non-null  object \n",
      " 6   car_type          73799 non-null  object \n",
      " 7   decline_app_cnt   73799 non-null  int64  \n",
      " 8   good_work         73799 non-null  int64  \n",
      " 9   score_bki         73799 non-null  float64\n",
      " 10  bki_request_cnt   73799 non-null  int64  \n",
      " 11  region_rating     73799 non-null  int64  \n",
      " 12  home_address      73799 non-null  int64  \n",
      " 13  work_address      73799 non-null  int64  \n",
      " 14  income            73799 non-null  int64  \n",
      " 15  sna               73799 non-null  int64  \n",
      " 16  first_time        73799 non-null  int64  \n",
      " 17  foreign_passport  73799 non-null  object \n",
      " 18  default           73799 non-null  int64  \n",
      "dtypes: float64(1), int64(12), object(6)\n",
      "memory usage: 10.7+ MB\n"
     ]
    }
   ],
   "source": [
    "df_train.info()"
   ]
  },
  {
   "cell_type": "code",
   "execution_count": 5,
   "metadata": {
    "execution": {
     "iopub.execute_input": "2021-09-27T19:04:44.746181Z",
     "iopub.status.busy": "2021-09-27T19:04:44.745854Z",
     "iopub.status.idle": "2021-09-27T19:04:44.754394Z",
     "shell.execute_reply": "2021-09-27T19:04:44.753812Z",
     "shell.execute_reply.started": "2021-09-27T19:04:44.746151Z"
    }
   },
   "outputs": [
    {
     "name": "stdout",
     "output_type": "stream",
     "text": [
      "Соотношение количество значений 1 к количеству значений 0 в целевой переменной в тренировочной выборке: 14 %\n"
     ]
    }
   ],
   "source": [
    "print('Соотношение количество значений 1 к количеству значений 0 в целевой переменной в тренировочной выборке:',\n",
    "      int(df_train.default.value_counts()[1] / df_train.default.value_counts()[0] *100), '%')"
   ]
  },
  {
   "cell_type": "code",
   "execution_count": 6,
   "metadata": {
    "execution": {
     "iopub.execute_input": "2021-09-27T19:04:45.151584Z",
     "iopub.status.busy": "2021-09-27T19:04:45.150983Z",
     "iopub.status.idle": "2021-09-27T19:04:45.190772Z",
     "shell.execute_reply": "2021-09-27T19:04:45.189817Z",
     "shell.execute_reply.started": "2021-09-27T19:04:45.151536Z"
    }
   },
   "outputs": [
    {
     "name": "stdout",
     "output_type": "stream",
     "text": [
      "<class 'pandas.core.frame.DataFrame'>\n",
      "RangeIndex: 36349 entries, 0 to 36348\n",
      "Data columns (total 18 columns):\n",
      " #   Column            Non-Null Count  Dtype  \n",
      "---  ------            --------------  -----  \n",
      " 0   client_id         36349 non-null  int64  \n",
      " 1   app_date          36349 non-null  object \n",
      " 2   education         36178 non-null  object \n",
      " 3   sex               36349 non-null  object \n",
      " 4   age               36349 non-null  int64  \n",
      " 5   car               36349 non-null  object \n",
      " 6   car_type          36349 non-null  object \n",
      " 7   decline_app_cnt   36349 non-null  int64  \n",
      " 8   good_work         36349 non-null  int64  \n",
      " 9   score_bki         36349 non-null  float64\n",
      " 10  bki_request_cnt   36349 non-null  int64  \n",
      " 11  region_rating     36349 non-null  int64  \n",
      " 12  home_address      36349 non-null  int64  \n",
      " 13  work_address      36349 non-null  int64  \n",
      " 14  income            36349 non-null  int64  \n",
      " 15  sna               36349 non-null  int64  \n",
      " 16  first_time        36349 non-null  int64  \n",
      " 17  foreign_passport  36349 non-null  object \n",
      "dtypes: float64(1), int64(11), object(6)\n",
      "memory usage: 5.0+ MB\n"
     ]
    }
   ],
   "source": [
    "df_test.info()"
   ]
  },
  {
   "cell_type": "code",
   "execution_count": 7,
   "metadata": {
    "execution": {
     "iopub.execute_input": "2021-09-27T19:04:45.373646Z",
     "iopub.status.busy": "2021-09-27T19:04:45.373339Z",
     "iopub.status.idle": "2021-09-27T19:04:45.400006Z",
     "shell.execute_reply": "2021-09-27T19:04:45.399178Z",
     "shell.execute_reply.started": "2021-09-27T19:04:45.373614Z"
    }
   },
   "outputs": [
    {
     "ename": "FileNotFoundError",
     "evalue": "[Errno 2] File ../input/sf-dst-scoring/sample_submission.csv does not exist: '../input/sf-dst-scoring/sample_submission.csv'",
     "output_type": "error",
     "traceback": [
      "\u001b[1;31m---------------------------------------------------------------------------\u001b[0m",
      "\u001b[1;31mFileNotFoundError\u001b[0m                         Traceback (most recent call last)",
      "\u001b[1;32m<ipython-input-7-b655a24a0712>\u001b[0m in \u001b[0;36m<module>\u001b[1;34m\u001b[0m\n\u001b[1;32m----> 1\u001b[1;33m \u001b[0mpd\u001b[0m\u001b[1;33m.\u001b[0m\u001b[0mread_csv\u001b[0m\u001b[1;33m(\u001b[0m\u001b[1;34m'../input/sf-dst-scoring/sample_submission.csv'\u001b[0m\u001b[1;33m)\u001b[0m\u001b[1;33m\u001b[0m\u001b[1;33m\u001b[0m\u001b[0m\n\u001b[0m",
      "\u001b[1;32mC:\\Anaconda3\\lib\\site-packages\\pandas\\io\\parsers.py\u001b[0m in \u001b[0;36mparser_f\u001b[1;34m(filepath_or_buffer, sep, delimiter, header, names, index_col, usecols, squeeze, prefix, mangle_dupe_cols, dtype, engine, converters, true_values, false_values, skipinitialspace, skiprows, skipfooter, nrows, na_values, keep_default_na, na_filter, verbose, skip_blank_lines, parse_dates, infer_datetime_format, keep_date_col, date_parser, dayfirst, cache_dates, iterator, chunksize, compression, thousands, decimal, lineterminator, quotechar, quoting, doublequote, escapechar, comment, encoding, dialect, error_bad_lines, warn_bad_lines, delim_whitespace, low_memory, memory_map, float_precision)\u001b[0m\n\u001b[0;32m    674\u001b[0m         )\n\u001b[0;32m    675\u001b[0m \u001b[1;33m\u001b[0m\u001b[0m\n\u001b[1;32m--> 676\u001b[1;33m         \u001b[1;32mreturn\u001b[0m \u001b[0m_read\u001b[0m\u001b[1;33m(\u001b[0m\u001b[0mfilepath_or_buffer\u001b[0m\u001b[1;33m,\u001b[0m \u001b[0mkwds\u001b[0m\u001b[1;33m)\u001b[0m\u001b[1;33m\u001b[0m\u001b[1;33m\u001b[0m\u001b[0m\n\u001b[0m\u001b[0;32m    677\u001b[0m \u001b[1;33m\u001b[0m\u001b[0m\n\u001b[0;32m    678\u001b[0m     \u001b[0mparser_f\u001b[0m\u001b[1;33m.\u001b[0m\u001b[0m__name__\u001b[0m \u001b[1;33m=\u001b[0m \u001b[0mname\u001b[0m\u001b[1;33m\u001b[0m\u001b[1;33m\u001b[0m\u001b[0m\n",
      "\u001b[1;32mC:\\Anaconda3\\lib\\site-packages\\pandas\\io\\parsers.py\u001b[0m in \u001b[0;36m_read\u001b[1;34m(filepath_or_buffer, kwds)\u001b[0m\n\u001b[0;32m    446\u001b[0m \u001b[1;33m\u001b[0m\u001b[0m\n\u001b[0;32m    447\u001b[0m     \u001b[1;31m# Create the parser.\u001b[0m\u001b[1;33m\u001b[0m\u001b[1;33m\u001b[0m\u001b[1;33m\u001b[0m\u001b[0m\n\u001b[1;32m--> 448\u001b[1;33m     \u001b[0mparser\u001b[0m \u001b[1;33m=\u001b[0m \u001b[0mTextFileReader\u001b[0m\u001b[1;33m(\u001b[0m\u001b[0mfp_or_buf\u001b[0m\u001b[1;33m,\u001b[0m \u001b[1;33m**\u001b[0m\u001b[0mkwds\u001b[0m\u001b[1;33m)\u001b[0m\u001b[1;33m\u001b[0m\u001b[1;33m\u001b[0m\u001b[0m\n\u001b[0m\u001b[0;32m    449\u001b[0m \u001b[1;33m\u001b[0m\u001b[0m\n\u001b[0;32m    450\u001b[0m     \u001b[1;32mif\u001b[0m \u001b[0mchunksize\u001b[0m \u001b[1;32mor\u001b[0m \u001b[0miterator\u001b[0m\u001b[1;33m:\u001b[0m\u001b[1;33m\u001b[0m\u001b[1;33m\u001b[0m\u001b[0m\n",
      "\u001b[1;32mC:\\Anaconda3\\lib\\site-packages\\pandas\\io\\parsers.py\u001b[0m in \u001b[0;36m__init__\u001b[1;34m(self, f, engine, **kwds)\u001b[0m\n\u001b[0;32m    878\u001b[0m             \u001b[0mself\u001b[0m\u001b[1;33m.\u001b[0m\u001b[0moptions\u001b[0m\u001b[1;33m[\u001b[0m\u001b[1;34m\"has_index_names\"\u001b[0m\u001b[1;33m]\u001b[0m \u001b[1;33m=\u001b[0m \u001b[0mkwds\u001b[0m\u001b[1;33m[\u001b[0m\u001b[1;34m\"has_index_names\"\u001b[0m\u001b[1;33m]\u001b[0m\u001b[1;33m\u001b[0m\u001b[1;33m\u001b[0m\u001b[0m\n\u001b[0;32m    879\u001b[0m \u001b[1;33m\u001b[0m\u001b[0m\n\u001b[1;32m--> 880\u001b[1;33m         \u001b[0mself\u001b[0m\u001b[1;33m.\u001b[0m\u001b[0m_make_engine\u001b[0m\u001b[1;33m(\u001b[0m\u001b[0mself\u001b[0m\u001b[1;33m.\u001b[0m\u001b[0mengine\u001b[0m\u001b[1;33m)\u001b[0m\u001b[1;33m\u001b[0m\u001b[1;33m\u001b[0m\u001b[0m\n\u001b[0m\u001b[0;32m    881\u001b[0m \u001b[1;33m\u001b[0m\u001b[0m\n\u001b[0;32m    882\u001b[0m     \u001b[1;32mdef\u001b[0m \u001b[0mclose\u001b[0m\u001b[1;33m(\u001b[0m\u001b[0mself\u001b[0m\u001b[1;33m)\u001b[0m\u001b[1;33m:\u001b[0m\u001b[1;33m\u001b[0m\u001b[1;33m\u001b[0m\u001b[0m\n",
      "\u001b[1;32mC:\\Anaconda3\\lib\\site-packages\\pandas\\io\\parsers.py\u001b[0m in \u001b[0;36m_make_engine\u001b[1;34m(self, engine)\u001b[0m\n\u001b[0;32m   1112\u001b[0m     \u001b[1;32mdef\u001b[0m \u001b[0m_make_engine\u001b[0m\u001b[1;33m(\u001b[0m\u001b[0mself\u001b[0m\u001b[1;33m,\u001b[0m \u001b[0mengine\u001b[0m\u001b[1;33m=\u001b[0m\u001b[1;34m\"c\"\u001b[0m\u001b[1;33m)\u001b[0m\u001b[1;33m:\u001b[0m\u001b[1;33m\u001b[0m\u001b[1;33m\u001b[0m\u001b[0m\n\u001b[0;32m   1113\u001b[0m         \u001b[1;32mif\u001b[0m \u001b[0mengine\u001b[0m \u001b[1;33m==\u001b[0m \u001b[1;34m\"c\"\u001b[0m\u001b[1;33m:\u001b[0m\u001b[1;33m\u001b[0m\u001b[1;33m\u001b[0m\u001b[0m\n\u001b[1;32m-> 1114\u001b[1;33m             \u001b[0mself\u001b[0m\u001b[1;33m.\u001b[0m\u001b[0m_engine\u001b[0m \u001b[1;33m=\u001b[0m \u001b[0mCParserWrapper\u001b[0m\u001b[1;33m(\u001b[0m\u001b[0mself\u001b[0m\u001b[1;33m.\u001b[0m\u001b[0mf\u001b[0m\u001b[1;33m,\u001b[0m \u001b[1;33m**\u001b[0m\u001b[0mself\u001b[0m\u001b[1;33m.\u001b[0m\u001b[0moptions\u001b[0m\u001b[1;33m)\u001b[0m\u001b[1;33m\u001b[0m\u001b[1;33m\u001b[0m\u001b[0m\n\u001b[0m\u001b[0;32m   1115\u001b[0m         \u001b[1;32melse\u001b[0m\u001b[1;33m:\u001b[0m\u001b[1;33m\u001b[0m\u001b[1;33m\u001b[0m\u001b[0m\n\u001b[0;32m   1116\u001b[0m             \u001b[1;32mif\u001b[0m \u001b[0mengine\u001b[0m \u001b[1;33m==\u001b[0m \u001b[1;34m\"python\"\u001b[0m\u001b[1;33m:\u001b[0m\u001b[1;33m\u001b[0m\u001b[1;33m\u001b[0m\u001b[0m\n",
      "\u001b[1;32mC:\\Anaconda3\\lib\\site-packages\\pandas\\io\\parsers.py\u001b[0m in \u001b[0;36m__init__\u001b[1;34m(self, src, **kwds)\u001b[0m\n\u001b[0;32m   1889\u001b[0m         \u001b[0mkwds\u001b[0m\u001b[1;33m[\u001b[0m\u001b[1;34m\"usecols\"\u001b[0m\u001b[1;33m]\u001b[0m \u001b[1;33m=\u001b[0m \u001b[0mself\u001b[0m\u001b[1;33m.\u001b[0m\u001b[0musecols\u001b[0m\u001b[1;33m\u001b[0m\u001b[1;33m\u001b[0m\u001b[0m\n\u001b[0;32m   1890\u001b[0m \u001b[1;33m\u001b[0m\u001b[0m\n\u001b[1;32m-> 1891\u001b[1;33m         \u001b[0mself\u001b[0m\u001b[1;33m.\u001b[0m\u001b[0m_reader\u001b[0m \u001b[1;33m=\u001b[0m \u001b[0mparsers\u001b[0m\u001b[1;33m.\u001b[0m\u001b[0mTextReader\u001b[0m\u001b[1;33m(\u001b[0m\u001b[0msrc\u001b[0m\u001b[1;33m,\u001b[0m \u001b[1;33m**\u001b[0m\u001b[0mkwds\u001b[0m\u001b[1;33m)\u001b[0m\u001b[1;33m\u001b[0m\u001b[1;33m\u001b[0m\u001b[0m\n\u001b[0m\u001b[0;32m   1892\u001b[0m         \u001b[0mself\u001b[0m\u001b[1;33m.\u001b[0m\u001b[0munnamed_cols\u001b[0m \u001b[1;33m=\u001b[0m \u001b[0mself\u001b[0m\u001b[1;33m.\u001b[0m\u001b[0m_reader\u001b[0m\u001b[1;33m.\u001b[0m\u001b[0munnamed_cols\u001b[0m\u001b[1;33m\u001b[0m\u001b[1;33m\u001b[0m\u001b[0m\n\u001b[0;32m   1893\u001b[0m \u001b[1;33m\u001b[0m\u001b[0m\n",
      "\u001b[1;32mpandas\\_libs\\parsers.pyx\u001b[0m in \u001b[0;36mpandas._libs.parsers.TextReader.__cinit__\u001b[1;34m()\u001b[0m\n",
      "\u001b[1;32mpandas\\_libs\\parsers.pyx\u001b[0m in \u001b[0;36mpandas._libs.parsers.TextReader._setup_parser_source\u001b[1;34m()\u001b[0m\n",
      "\u001b[1;31mFileNotFoundError\u001b[0m: [Errno 2] File ../input/sf-dst-scoring/sample_submission.csv does not exist: '../input/sf-dst-scoring/sample_submission.csv'"
     ]
    }
   ],
   "source": [
    "pd.read_csv('../input/sf-dst-scoring/sample_submission.csv')"
   ]
  },
  {
   "cell_type": "markdown",
   "metadata": {},
   "source": [
    "Количество строк в тестовом датасете не соответствует количеству строк в sample_submission, что странно."
   ]
  },
  {
   "cell_type": "code",
   "execution_count": null,
   "metadata": {
    "execution": {
     "iopub.execute_input": "2021-09-27T19:04:45.756059Z",
     "iopub.status.busy": "2021-09-27T19:04:45.755762Z",
     "iopub.status.idle": "2021-09-27T19:04:45.774522Z",
     "shell.execute_reply": "2021-09-27T19:04:45.773651Z",
     "shell.execute_reply.started": "2021-09-27T19:04:45.756032Z"
    }
   },
   "outputs": [],
   "source": [
    "df_train.head()"
   ]
  },
  {
   "cell_type": "code",
   "execution_count": null,
   "metadata": {
    "execution": {
     "iopub.execute_input": "2021-09-27T19:04:45.929727Z",
     "iopub.status.busy": "2021-09-27T19:04:45.929011Z",
     "iopub.status.idle": "2021-09-27T19:04:45.946199Z",
     "shell.execute_reply": "2021-09-27T19:04:45.945651Z",
     "shell.execute_reply.started": "2021-09-27T19:04:45.929667Z"
    }
   },
   "outputs": [],
   "source": [
    "df_test.head()"
   ]
  },
  {
   "cell_type": "code",
   "execution_count": 8,
   "metadata": {
    "execution": {
     "iopub.execute_input": "2021-09-27T19:04:46.176503Z",
     "iopub.status.busy": "2021-09-27T19:04:46.175722Z",
     "iopub.status.idle": "2021-09-27T19:04:46.268100Z",
     "shell.execute_reply": "2021-09-27T19:04:46.267209Z",
     "shell.execute_reply.started": "2021-09-27T19:04:46.176465Z"
    }
   },
   "outputs": [
    {
     "data": {
      "text/html": [
       "<div>\n",
       "<style scoped>\n",
       "    .dataframe tbody tr th:only-of-type {\n",
       "        vertical-align: middle;\n",
       "    }\n",
       "\n",
       "    .dataframe tbody tr th {\n",
       "        vertical-align: top;\n",
       "    }\n",
       "\n",
       "    .dataframe thead th {\n",
       "        text-align: right;\n",
       "    }\n",
       "</style>\n",
       "<table border=\"1\" class=\"dataframe\">\n",
       "  <thead>\n",
       "    <tr style=\"text-align: right;\">\n",
       "      <th></th>\n",
       "      <th>client_id</th>\n",
       "      <th>app_date</th>\n",
       "      <th>education</th>\n",
       "      <th>sex</th>\n",
       "      <th>age</th>\n",
       "      <th>car</th>\n",
       "      <th>car_type</th>\n",
       "      <th>decline_app_cnt</th>\n",
       "      <th>good_work</th>\n",
       "      <th>score_bki</th>\n",
       "      <th>bki_request_cnt</th>\n",
       "      <th>region_rating</th>\n",
       "      <th>home_address</th>\n",
       "      <th>work_address</th>\n",
       "      <th>income</th>\n",
       "      <th>sna</th>\n",
       "      <th>first_time</th>\n",
       "      <th>foreign_passport</th>\n",
       "      <th>default</th>\n",
       "      <th>is_test</th>\n",
       "    </tr>\n",
       "  </thead>\n",
       "  <tbody>\n",
       "    <tr>\n",
       "      <th>0</th>\n",
       "      <td>25905</td>\n",
       "      <td>01FEB2014</td>\n",
       "      <td>SCH</td>\n",
       "      <td>M</td>\n",
       "      <td>62</td>\n",
       "      <td>Y</td>\n",
       "      <td>Y</td>\n",
       "      <td>0</td>\n",
       "      <td>0</td>\n",
       "      <td>-2.008753</td>\n",
       "      <td>1</td>\n",
       "      <td>50</td>\n",
       "      <td>1</td>\n",
       "      <td>2</td>\n",
       "      <td>18000</td>\n",
       "      <td>4</td>\n",
       "      <td>1</td>\n",
       "      <td>N</td>\n",
       "      <td>0.0</td>\n",
       "      <td>0</td>\n",
       "    </tr>\n",
       "    <tr>\n",
       "      <th>1</th>\n",
       "      <td>63161</td>\n",
       "      <td>12MAR2014</td>\n",
       "      <td>SCH</td>\n",
       "      <td>F</td>\n",
       "      <td>59</td>\n",
       "      <td>N</td>\n",
       "      <td>N</td>\n",
       "      <td>0</td>\n",
       "      <td>0</td>\n",
       "      <td>-1.532276</td>\n",
       "      <td>3</td>\n",
       "      <td>50</td>\n",
       "      <td>2</td>\n",
       "      <td>3</td>\n",
       "      <td>19000</td>\n",
       "      <td>4</td>\n",
       "      <td>1</td>\n",
       "      <td>N</td>\n",
       "      <td>0.0</td>\n",
       "      <td>0</td>\n",
       "    </tr>\n",
       "    <tr>\n",
       "      <th>2</th>\n",
       "      <td>25887</td>\n",
       "      <td>01FEB2014</td>\n",
       "      <td>SCH</td>\n",
       "      <td>M</td>\n",
       "      <td>25</td>\n",
       "      <td>Y</td>\n",
       "      <td>N</td>\n",
       "      <td>2</td>\n",
       "      <td>0</td>\n",
       "      <td>-1.408142</td>\n",
       "      <td>1</td>\n",
       "      <td>80</td>\n",
       "      <td>1</td>\n",
       "      <td>2</td>\n",
       "      <td>30000</td>\n",
       "      <td>1</td>\n",
       "      <td>4</td>\n",
       "      <td>Y</td>\n",
       "      <td>0.0</td>\n",
       "      <td>0</td>\n",
       "    </tr>\n",
       "    <tr>\n",
       "      <th>3</th>\n",
       "      <td>16222</td>\n",
       "      <td>23JAN2014</td>\n",
       "      <td>SCH</td>\n",
       "      <td>F</td>\n",
       "      <td>53</td>\n",
       "      <td>N</td>\n",
       "      <td>N</td>\n",
       "      <td>0</td>\n",
       "      <td>0</td>\n",
       "      <td>-2.057471</td>\n",
       "      <td>2</td>\n",
       "      <td>50</td>\n",
       "      <td>2</td>\n",
       "      <td>3</td>\n",
       "      <td>10000</td>\n",
       "      <td>1</td>\n",
       "      <td>3</td>\n",
       "      <td>N</td>\n",
       "      <td>0.0</td>\n",
       "      <td>0</td>\n",
       "    </tr>\n",
       "    <tr>\n",
       "      <th>4</th>\n",
       "      <td>101655</td>\n",
       "      <td>18APR2014</td>\n",
       "      <td>GRD</td>\n",
       "      <td>M</td>\n",
       "      <td>48</td>\n",
       "      <td>N</td>\n",
       "      <td>N</td>\n",
       "      <td>0</td>\n",
       "      <td>1</td>\n",
       "      <td>-1.244723</td>\n",
       "      <td>1</td>\n",
       "      <td>60</td>\n",
       "      <td>2</td>\n",
       "      <td>3</td>\n",
       "      <td>30000</td>\n",
       "      <td>1</td>\n",
       "      <td>4</td>\n",
       "      <td>Y</td>\n",
       "      <td>0.0</td>\n",
       "      <td>0</td>\n",
       "    </tr>\n",
       "  </tbody>\n",
       "</table>\n",
       "</div>"
      ],
      "text/plain": [
       "   client_id   app_date education sex  age car car_type  decline_app_cnt  \\\n",
       "0      25905  01FEB2014       SCH   M   62   Y        Y                0   \n",
       "1      63161  12MAR2014       SCH   F   59   N        N                0   \n",
       "2      25887  01FEB2014       SCH   M   25   Y        N                2   \n",
       "3      16222  23JAN2014       SCH   F   53   N        N                0   \n",
       "4     101655  18APR2014       GRD   M   48   N        N                0   \n",
       "\n",
       "   good_work  score_bki  bki_request_cnt  region_rating  home_address  \\\n",
       "0          0  -2.008753                1             50             1   \n",
       "1          0  -1.532276                3             50             2   \n",
       "2          0  -1.408142                1             80             1   \n",
       "3          0  -2.057471                2             50             2   \n",
       "4          1  -1.244723                1             60             2   \n",
       "\n",
       "   work_address  income  sna  first_time foreign_passport  default  is_test  \n",
       "0             2   18000    4           1                N      0.0        0  \n",
       "1             3   19000    4           1                N      0.0        0  \n",
       "2             2   30000    1           4                Y      0.0        0  \n",
       "3             3   10000    1           3                N      0.0        0  \n",
       "4             3   30000    1           4                Y      0.0        0  "
      ]
     },
     "execution_count": 8,
     "metadata": {},
     "output_type": "execute_result"
    }
   ],
   "source": [
    "# Объединение тренировочной и тестовой выборки для совместной обработки.\n",
    "# Для последующего разделения создаётся флаг is_test\n",
    "df_train['is_test'] = 0\n",
    "df_test['is_test'] = 1\n",
    "\n",
    "df = pd.concat([df_train, df_test]).reset_index(drop=True) # без reset_index НЕ РАБОТАЕТ!!!!!!!!\n",
    "df.head()"
   ]
  },
  {
   "cell_type": "code",
   "execution_count": 9,
   "metadata": {
    "execution": {
     "iopub.execute_input": "2021-09-27T19:04:46.328965Z",
     "iopub.status.busy": "2021-09-27T19:04:46.328645Z",
     "iopub.status.idle": "2021-09-27T19:04:46.349316Z",
     "shell.execute_reply": "2021-09-27T19:04:46.348264Z",
     "shell.execute_reply.started": "2021-09-27T19:04:46.328932Z"
    }
   },
   "outputs": [
    {
     "data": {
      "text/html": [
       "<div>\n",
       "<style scoped>\n",
       "    .dataframe tbody tr th:only-of-type {\n",
       "        vertical-align: middle;\n",
       "    }\n",
       "\n",
       "    .dataframe tbody tr th {\n",
       "        vertical-align: top;\n",
       "    }\n",
       "\n",
       "    .dataframe thead th {\n",
       "        text-align: right;\n",
       "    }\n",
       "</style>\n",
       "<table border=\"1\" class=\"dataframe\">\n",
       "  <thead>\n",
       "    <tr style=\"text-align: right;\">\n",
       "      <th></th>\n",
       "      <th>client_id</th>\n",
       "      <th>app_date</th>\n",
       "      <th>education</th>\n",
       "      <th>sex</th>\n",
       "      <th>age</th>\n",
       "      <th>car</th>\n",
       "      <th>car_type</th>\n",
       "      <th>decline_app_cnt</th>\n",
       "      <th>good_work</th>\n",
       "      <th>score_bki</th>\n",
       "      <th>bki_request_cnt</th>\n",
       "      <th>region_rating</th>\n",
       "      <th>home_address</th>\n",
       "      <th>work_address</th>\n",
       "      <th>income</th>\n",
       "      <th>sna</th>\n",
       "      <th>first_time</th>\n",
       "      <th>foreign_passport</th>\n",
       "      <th>default</th>\n",
       "      <th>is_test</th>\n",
       "    </tr>\n",
       "  </thead>\n",
       "  <tbody>\n",
       "    <tr>\n",
       "      <th>110143</th>\n",
       "      <td>83775</td>\n",
       "      <td>31MAR2014</td>\n",
       "      <td>SCH</td>\n",
       "      <td>F</td>\n",
       "      <td>37</td>\n",
       "      <td>N</td>\n",
       "      <td>N</td>\n",
       "      <td>1</td>\n",
       "      <td>0</td>\n",
       "      <td>-1.744976</td>\n",
       "      <td>3</td>\n",
       "      <td>50</td>\n",
       "      <td>2</td>\n",
       "      <td>3</td>\n",
       "      <td>15000</td>\n",
       "      <td>4</td>\n",
       "      <td>1</td>\n",
       "      <td>N</td>\n",
       "      <td>NaN</td>\n",
       "      <td>1</td>\n",
       "    </tr>\n",
       "    <tr>\n",
       "      <th>110144</th>\n",
       "      <td>106254</td>\n",
       "      <td>25APR2014</td>\n",
       "      <td>GRD</td>\n",
       "      <td>F</td>\n",
       "      <td>64</td>\n",
       "      <td>Y</td>\n",
       "      <td>Y</td>\n",
       "      <td>0</td>\n",
       "      <td>0</td>\n",
       "      <td>-2.293781</td>\n",
       "      <td>3</td>\n",
       "      <td>60</td>\n",
       "      <td>1</td>\n",
       "      <td>2</td>\n",
       "      <td>200000</td>\n",
       "      <td>1</td>\n",
       "      <td>4</td>\n",
       "      <td>N</td>\n",
       "      <td>NaN</td>\n",
       "      <td>1</td>\n",
       "    </tr>\n",
       "    <tr>\n",
       "      <th>110145</th>\n",
       "      <td>81852</td>\n",
       "      <td>30MAR2014</td>\n",
       "      <td>GRD</td>\n",
       "      <td>M</td>\n",
       "      <td>31</td>\n",
       "      <td>N</td>\n",
       "      <td>N</td>\n",
       "      <td>2</td>\n",
       "      <td>0</td>\n",
       "      <td>-0.940752</td>\n",
       "      <td>1</td>\n",
       "      <td>50</td>\n",
       "      <td>1</td>\n",
       "      <td>2</td>\n",
       "      <td>60000</td>\n",
       "      <td>4</td>\n",
       "      <td>2</td>\n",
       "      <td>N</td>\n",
       "      <td>NaN</td>\n",
       "      <td>1</td>\n",
       "    </tr>\n",
       "    <tr>\n",
       "      <th>110146</th>\n",
       "      <td>1971</td>\n",
       "      <td>07JAN2014</td>\n",
       "      <td>UGR</td>\n",
       "      <td>F</td>\n",
       "      <td>27</td>\n",
       "      <td>N</td>\n",
       "      <td>N</td>\n",
       "      <td>1</td>\n",
       "      <td>0</td>\n",
       "      <td>-1.242392</td>\n",
       "      <td>2</td>\n",
       "      <td>80</td>\n",
       "      <td>2</td>\n",
       "      <td>3</td>\n",
       "      <td>30000</td>\n",
       "      <td>1</td>\n",
       "      <td>1</td>\n",
       "      <td>N</td>\n",
       "      <td>NaN</td>\n",
       "      <td>1</td>\n",
       "    </tr>\n",
       "    <tr>\n",
       "      <th>110147</th>\n",
       "      <td>69044</td>\n",
       "      <td>17MAR2014</td>\n",
       "      <td>SCH</td>\n",
       "      <td>M</td>\n",
       "      <td>38</td>\n",
       "      <td>N</td>\n",
       "      <td>N</td>\n",
       "      <td>0</td>\n",
       "      <td>0</td>\n",
       "      <td>-1.507549</td>\n",
       "      <td>2</td>\n",
       "      <td>50</td>\n",
       "      <td>1</td>\n",
       "      <td>2</td>\n",
       "      <td>15000</td>\n",
       "      <td>4</td>\n",
       "      <td>2</td>\n",
       "      <td>N</td>\n",
       "      <td>NaN</td>\n",
       "      <td>1</td>\n",
       "    </tr>\n",
       "  </tbody>\n",
       "</table>\n",
       "</div>"
      ],
      "text/plain": [
       "        client_id   app_date education sex  age car car_type  decline_app_cnt  \\\n",
       "110143      83775  31MAR2014       SCH   F   37   N        N                1   \n",
       "110144     106254  25APR2014       GRD   F   64   Y        Y                0   \n",
       "110145      81852  30MAR2014       GRD   M   31   N        N                2   \n",
       "110146       1971  07JAN2014       UGR   F   27   N        N                1   \n",
       "110147      69044  17MAR2014       SCH   M   38   N        N                0   \n",
       "\n",
       "        good_work  score_bki  bki_request_cnt  region_rating  home_address  \\\n",
       "110143          0  -1.744976                3             50             2   \n",
       "110144          0  -2.293781                3             60             1   \n",
       "110145          0  -0.940752                1             50             1   \n",
       "110146          0  -1.242392                2             80             2   \n",
       "110147          0  -1.507549                2             50             1   \n",
       "\n",
       "        work_address  income  sna  first_time foreign_passport  default  \\\n",
       "110143             3   15000    4           1                N      NaN   \n",
       "110144             2  200000    1           4                N      NaN   \n",
       "110145             2   60000    4           2                N      NaN   \n",
       "110146             3   30000    1           1                N      NaN   \n",
       "110147             2   15000    4           2                N      NaN   \n",
       "\n",
       "        is_test  \n",
       "110143        1  \n",
       "110144        1  \n",
       "110145        1  \n",
       "110146        1  \n",
       "110147        1  "
      ]
     },
     "execution_count": 9,
     "metadata": {},
     "output_type": "execute_result"
    }
   ],
   "source": [
    "df.tail()"
   ]
  },
  {
   "cell_type": "code",
   "execution_count": 10,
   "metadata": {
    "execution": {
     "iopub.execute_input": "2021-09-27T19:04:46.507652Z",
     "iopub.status.busy": "2021-09-27T19:04:46.507363Z",
     "iopub.status.idle": "2021-09-27T19:04:46.513581Z",
     "shell.execute_reply": "2021-09-27T19:04:46.512866Z",
     "shell.execute_reply.started": "2021-09-27T19:04:46.507622Z"
    }
   },
   "outputs": [
    {
     "data": {
      "text/plain": [
       "(110148, 20)"
      ]
     },
     "execution_count": 10,
     "metadata": {},
     "output_type": "execute_result"
    }
   ],
   "source": [
    "df.shape"
   ]
  },
  {
   "cell_type": "markdown",
   "metadata": {},
   "source": [
    "# Заполнение пропусков"
   ]
  },
  {
   "cell_type": "code",
   "execution_count": 11,
   "metadata": {
    "execution": {
     "iopub.execute_input": "2021-09-27T19:04:46.896761Z",
     "iopub.status.busy": "2021-09-27T19:04:46.896019Z",
     "iopub.status.idle": "2021-09-27T19:04:46.981099Z",
     "shell.execute_reply": "2021-09-27T19:04:46.980255Z",
     "shell.execute_reply.started": "2021-09-27T19:04:46.896719Z"
    }
   },
   "outputs": [
    {
     "data": {
      "text/plain": [
       "client_id               0\n",
       "app_date                0\n",
       "education             478\n",
       "sex                     0\n",
       "age                     0\n",
       "car                     0\n",
       "car_type                0\n",
       "decline_app_cnt         0\n",
       "good_work               0\n",
       "score_bki               0\n",
       "bki_request_cnt         0\n",
       "region_rating           0\n",
       "home_address            0\n",
       "work_address            0\n",
       "income                  0\n",
       "sna                     0\n",
       "first_time              0\n",
       "foreign_passport        0\n",
       "default             36349\n",
       "is_test                 0\n",
       "dtype: int64"
      ]
     },
     "execution_count": 11,
     "metadata": {},
     "output_type": "execute_result"
    }
   ],
   "source": [
    "df.isna().sum()"
   ]
  },
  {
   "cell_type": "markdown",
   "metadata": {},
   "source": [
    "Пропуски содержатся только в признаке education."
   ]
  },
  {
   "cell_type": "code",
   "execution_count": 12,
   "metadata": {
    "execution": {
     "iopub.execute_input": "2021-09-27T19:04:47.313818Z",
     "iopub.status.busy": "2021-09-27T19:04:47.313179Z",
     "iopub.status.idle": "2021-09-27T19:04:47.340310Z",
     "shell.execute_reply": "2021-09-27T19:04:47.339422Z",
     "shell.execute_reply.started": "2021-09-27T19:04:47.313765Z"
    }
   },
   "outputs": [
    {
     "data": {
      "text/plain": [
       "SCH    57998\n",
       "GRD    34768\n",
       "UGR    14748\n",
       "PGR     1865\n",
       "ACD      291\n",
       "Name: education, dtype: int64"
      ]
     },
     "execution_count": 12,
     "metadata": {},
     "output_type": "execute_result"
    }
   ],
   "source": [
    "df.education.value_counts()"
   ]
  },
  {
   "cell_type": "code",
   "execution_count": 13,
   "metadata": {
    "execution": {
     "iopub.execute_input": "2021-09-27T19:04:47.529331Z",
     "iopub.status.busy": "2021-09-27T19:04:47.529046Z",
     "iopub.status.idle": "2021-09-27T19:04:47.569441Z",
     "shell.execute_reply": "2021-09-27T19:04:47.568420Z",
     "shell.execute_reply.started": "2021-09-27T19:04:47.529303Z"
    }
   },
   "outputs": [
    {
     "name": "stderr",
     "output_type": "stream",
     "text": [
      "<ipython-input-13-6743dd20b659>:2: SettingWithCopyWarning: \n",
      "A value is trying to be set on a copy of a slice from a DataFrame\n",
      "\n",
      "See the caveats in the documentation: https://pandas.pydata.org/pandas-docs/stable/user_guide/indexing.html#returning-a-view-versus-a-copy\n",
      "  df.education[df.education.isna()] = df.education.mode()[0]\n"
     ]
    }
   ],
   "source": [
    "# Пропущенные значения признака education заполняются модой\n",
    "df.education[df.education.isna()] = df.education.mode()[0]"
   ]
  },
  {
   "cell_type": "code",
   "execution_count": 14,
   "metadata": {
    "execution": {
     "iopub.execute_input": "2021-09-27T19:04:47.780947Z",
     "iopub.status.busy": "2021-09-27T19:04:47.780617Z",
     "iopub.status.idle": "2021-09-27T19:04:47.864806Z",
     "shell.execute_reply": "2021-09-27T19:04:47.863929Z",
     "shell.execute_reply.started": "2021-09-27T19:04:47.780916Z"
    }
   },
   "outputs": [
    {
     "data": {
      "text/plain": [
       "client_id               0\n",
       "app_date                0\n",
       "education               0\n",
       "sex                     0\n",
       "age                     0\n",
       "car                     0\n",
       "car_type                0\n",
       "decline_app_cnt         0\n",
       "good_work               0\n",
       "score_bki               0\n",
       "bki_request_cnt         0\n",
       "region_rating           0\n",
       "home_address            0\n",
       "work_address            0\n",
       "income                  0\n",
       "sna                     0\n",
       "first_time              0\n",
       "foreign_passport        0\n",
       "default             36349\n",
       "is_test                 0\n",
       "dtype: int64"
      ]
     },
     "execution_count": 14,
     "metadata": {},
     "output_type": "execute_result"
    }
   ],
   "source": [
    "df.isna().sum()"
   ]
  },
  {
   "cell_type": "markdown",
   "metadata": {},
   "source": [
    "Пропуски ликвидированы"
   ]
  },
  {
   "cell_type": "markdown",
   "metadata": {},
   "source": [
    "# Обработка даты"
   ]
  },
  {
   "cell_type": "code",
   "execution_count": 15,
   "metadata": {
    "execution": {
     "iopub.execute_input": "2021-09-27T19:04:48.601467Z",
     "iopub.status.busy": "2021-09-27T19:04:48.601162Z",
     "iopub.status.idle": "2021-09-27T19:04:48.671009Z",
     "shell.execute_reply": "2021-09-27T19:04:48.670050Z",
     "shell.execute_reply.started": "2021-09-27T19:04:48.601419Z"
    }
   },
   "outputs": [
    {
     "data": {
      "text/plain": [
       "2014    110148\n",
       "Name: app_date, dtype: int64"
      ]
     },
     "execution_count": 15,
     "metadata": {},
     "output_type": "execute_result"
    }
   ],
   "source": [
    "df.app_date = pd.to_datetime(df.app_date)\n",
    "df.app_date.dt.year.value_counts()"
   ]
  },
  {
   "cell_type": "code",
   "execution_count": 16,
   "metadata": {
    "execution": {
     "iopub.execute_input": "2021-09-27T19:04:48.965841Z",
     "iopub.status.busy": "2021-09-27T19:04:48.965529Z",
     "iopub.status.idle": "2021-09-27T19:04:48.985301Z",
     "shell.execute_reply": "2021-09-27T19:04:48.984401Z",
     "shell.execute_reply.started": "2021-09-27T19:04:48.965811Z"
    }
   },
   "outputs": [
    {
     "data": {
      "text/plain": [
       "3    31597\n",
       "2    27097\n",
       "4    26266\n",
       "1    25188\n",
       "Name: app_date, dtype: int64"
      ]
     },
     "execution_count": 16,
     "metadata": {},
     "output_type": "execute_result"
    }
   ],
   "source": [
    "df.app_date.dt.month.value_counts()"
   ]
  },
  {
   "cell_type": "code",
   "execution_count": 17,
   "metadata": {
    "execution": {
     "iopub.execute_input": "2021-09-27T19:04:49.403354Z",
     "iopub.status.busy": "2021-09-27T19:04:49.403073Z",
     "iopub.status.idle": "2021-09-27T19:04:49.428616Z",
     "shell.execute_reply": "2021-09-27T19:04:49.427803Z",
     "shell.execute_reply.started": "2021-09-27T19:04:49.403327Z"
    }
   },
   "outputs": [
    {
     "data": {
      "text/plain": [
       "3    10419\n",
       "2     9069\n",
       "4     8583\n",
       "1     8278\n",
       "Name: app_date, dtype: int64"
      ]
     },
     "execution_count": 17,
     "metadata": {},
     "output_type": "execute_result"
    }
   ],
   "source": [
    "df[df.is_test==1].app_date.dt.month.value_counts()"
   ]
  },
  {
   "cell_type": "markdown",
   "metadata": {},
   "source": [
    "Интервал дат в выборке: январь-апрель 2014. Даты распределены в тренировочной и в тестовой выборках примерно одинаково."
   ]
  },
  {
   "cell_type": "code",
   "execution_count": 18,
   "metadata": {
    "execution": {
     "iopub.execute_input": "2021-09-27T19:04:49.914939Z",
     "iopub.status.busy": "2021-09-27T19:04:49.914613Z",
     "iopub.status.idle": "2021-09-27T19:04:49.938294Z",
     "shell.execute_reply": "2021-09-27T19:04:49.937413Z",
     "shell.execute_reply.started": "2021-09-27T19:04:49.914904Z"
    }
   },
   "outputs": [
    {
     "data": {
      "text/plain": [
       "1    18180\n",
       "0    17858\n",
       "2    17581\n",
       "3    17421\n",
       "4    16749\n",
       "5    12202\n",
       "6    10157\n",
       "Name: app_weekday, dtype: int64"
      ]
     },
     "execution_count": 18,
     "metadata": {},
     "output_type": "execute_result"
    }
   ],
   "source": [
    "# новый признак: день недели подачи заявки\n",
    "df['app_weekday'] = df.app_date.dt.weekday\n",
    "df.app_weekday.value_counts()"
   ]
  },
  {
   "cell_type": "markdown",
   "metadata": {},
   "source": [
    "На выходные дни приходится значительно меньше заявок, чем на будни."
   ]
  },
  {
   "cell_type": "code",
   "execution_count": 19,
   "metadata": {
    "execution": {
     "iopub.execute_input": "2021-09-27T19:04:50.592352Z",
     "iopub.status.busy": "2021-09-27T19:04:50.592043Z",
     "iopub.status.idle": "2021-09-27T19:04:51.414662Z",
     "shell.execute_reply": "2021-09-27T19:04:51.413759Z",
     "shell.execute_reply.started": "2021-09-27T19:04:50.592321Z"
    }
   },
   "outputs": [],
   "source": [
    "# преобразование даты в число\n",
    "df.app_date = df.app_date.dt.strftime('%m%d').astype('int64')"
   ]
  },
  {
   "cell_type": "code",
   "execution_count": 20,
   "metadata": {
    "execution": {
     "iopub.execute_input": "2021-09-27T19:04:51.416676Z",
     "iopub.status.busy": "2021-09-27T19:04:51.416438Z",
     "iopub.status.idle": "2021-09-27T19:04:51.422030Z",
     "shell.execute_reply": "2021-09-27T19:04:51.421193Z",
     "shell.execute_reply.started": "2021-09-27T19:04:51.416648Z"
    }
   },
   "outputs": [],
   "source": [
    "# новый признак: количество заявок в данный день\n",
    "apps_per_date = df.app_date.value_counts()"
   ]
  },
  {
   "cell_type": "code",
   "execution_count": 21,
   "metadata": {
    "execution": {
     "iopub.execute_input": "2021-09-27T19:04:51.423711Z",
     "iopub.status.busy": "2021-09-27T19:04:51.423397Z",
     "iopub.status.idle": "2021-09-27T19:04:51.436964Z",
     "shell.execute_reply": "2021-09-27T19:04:51.436022Z",
     "shell.execute_reply.started": "2021-09-27T19:04:51.423684Z"
    }
   },
   "outputs": [],
   "source": [
    "df['apps_per_day'] = df.app_date.map(apps_per_date)"
   ]
  },
  {
   "cell_type": "markdown",
   "metadata": {},
   "source": [
    "# Разделение признаков на группы"
   ]
  },
  {
   "cell_type": "code",
   "execution_count": 22,
   "metadata": {
    "execution": {
     "iopub.execute_input": "2021-09-27T19:04:51.564352Z",
     "iopub.status.busy": "2021-09-27T19:04:51.563546Z",
     "iopub.status.idle": "2021-09-27T19:04:51.569541Z",
     "shell.execute_reply": "2021-09-27T19:04:51.568568Z",
     "shell.execute_reply.started": "2021-09-27T19:04:51.564316Z"
    }
   },
   "outputs": [],
   "source": [
    "# бинарные признаки\n",
    "bin_cols = ['sex', 'car', 'car_type', 'good_work', 'foreign_passport']\n",
    "\n",
    "# категориальные признаки\n",
    "cat_cols = ['education', 'home_address', 'work_address',\n",
    "        'sna', 'first_time',\n",
    "            'app_weekday'\n",
    "           ]\n",
    "\n",
    "# числовые признаки\n",
    "num_cols = ['app_date', 'age', 'decline_app_cnt', 'score_bki',\n",
    "        'bki_request_cnt', 'region_rating', 'income',\n",
    "            'apps_per_day'\n",
    "           ]"
   ]
  },
  {
   "cell_type": "markdown",
   "metadata": {},
   "source": [
    "# Обработка признаков"
   ]
  },
  {
   "cell_type": "markdown",
   "metadata": {},
   "source": [
    "## Числовые признаки"
   ]
  },
  {
   "cell_type": "code",
   "execution_count": 23,
   "metadata": {
    "execution": {
     "iopub.execute_input": "2021-09-27T19:04:52.209864Z",
     "iopub.status.busy": "2021-09-27T19:04:52.209142Z",
     "iopub.status.idle": "2021-09-27T19:04:55.484867Z",
     "shell.execute_reply": "2021-09-27T19:04:55.484213Z",
     "shell.execute_reply.started": "2021-09-27T19:04:52.209829Z"
    }
   },
   "outputs": [
    {
     "data": {
      "image/png": "[encoded data removed]",
      "text/plain": [
       "<Figure size 1800x720 with 9 Axes>"
      ]
     },
     "metadata": {
      "needs_background": "light"
     },
     "output_type": "display_data"
    }
   ],
   "source": [
    "df[df.is_test == 0][num_cols].hist(figsize=(25,10),bins=100);"
   ]
  },
  {
   "cell_type": "code",
   "execution_count": 24,
   "metadata": {
    "execution": {
     "iopub.execute_input": "2021-09-27T19:04:55.486662Z",
     "iopub.status.busy": "2021-09-27T19:04:55.486008Z",
     "iopub.status.idle": "2021-09-27T19:04:58.503103Z",
     "shell.execute_reply": "2021-09-27T19:04:58.502260Z",
     "shell.execute_reply.started": "2021-09-27T19:04:55.486632Z"
    }
   },
   "outputs": [
    {
     "data": {
      "image/png": "[encoded data removed]",
      "text/plain": [
       "<Figure size 1800x720 with 9 Axes>"
      ]
     },
     "metadata": {
      "needs_background": "light"
     },
     "output_type": "display_data"
    }
   ],
   "source": [
    "df[df.is_test == 1][num_cols].hist(figsize=(25,10),bins=100);"
   ]
  },
  {
   "cell_type": "markdown",
   "metadata": {},
   "source": [
    "Распределение признаков в тренировочной и тестовой выборках одинаково."
   ]
  },
  {
   "cell_type": "code",
   "execution_count": 25,
   "metadata": {
    "execution": {
     "iopub.execute_input": "2021-09-27T19:04:58.504831Z",
     "iopub.status.busy": "2021-09-27T19:04:58.504557Z",
     "iopub.status.idle": "2021-09-27T19:05:01.884525Z",
     "shell.execute_reply": "2021-09-27T19:05:01.883727Z",
     "shell.execute_reply.started": "2021-09-27T19:04:58.504793Z"
    }
   },
   "outputs": [
    {
     "name": "stderr",
     "output_type": "stream",
     "text": [
      "<ipython-input-25-108fcbe9e560>:2: RuntimeWarning: invalid value encountered in log\n",
      "  (np.log(df[num_cols]+1)).hist(figsize=(25,10),bins=100)\n"
     ]
    },
    {
     "data": {
      "text/plain": [
       "array([[<matplotlib.axes._subplots.AxesSubplot object at 0x0000023ED79C46A0>,\n",
       "        <matplotlib.axes._subplots.AxesSubplot object at 0x0000023ED79B9670>,\n",
       "        <matplotlib.axes._subplots.AxesSubplot object at 0x0000023ED9069AC0>],\n",
       "       [<matplotlib.axes._subplots.AxesSubplot object at 0x0000023ED904C5E0>,\n",
       "        <matplotlib.axes._subplots.AxesSubplot object at 0x0000023ED8DB9D60>,\n",
       "        <matplotlib.axes._subplots.AxesSubplot object at 0x0000023ED8D04460>],\n",
       "       [<matplotlib.axes._subplots.AxesSubplot object at 0x0000023ED8D04550>,\n",
       "        <matplotlib.axes._subplots.AxesSubplot object at 0x0000023ED8D0ED60>,\n",
       "        <matplotlib.axes._subplots.AxesSubplot object at 0x0000023ED7A60B50>]],\n",
       "      dtype=object)"
      ]
     },
     "execution_count": 25,
     "metadata": {},
     "output_type": "execute_result"
    },
    {
     "data": {
      "image/png": "[encoded data removed]",
      "text/plain": [
       "<Figure size 1800x720 with 9 Axes>"
      ]
     },
     "metadata": {
      "needs_background": "light"
     },
     "output_type": "display_data"
    }
   ],
   "source": [
    "# попытка прологарифмировать признаки для приближения к виду нормального распределения\n",
    "(np.log(df[num_cols]+1)).hist(figsize=(25,10),bins=100)"
   ]
  },
  {
   "cell_type": "markdown",
   "metadata": {},
   "source": [
    "Некоторые признаки после логарифмирования выглядят более приближенными к виду нормального распеределения."
   ]
  },
  {
   "cell_type": "code",
   "execution_count": 26,
   "metadata": {
    "execution": {
     "iopub.execute_input": "2021-09-27T19:05:01.886922Z",
     "iopub.status.busy": "2021-09-27T19:05:01.886643Z",
     "iopub.status.idle": "2021-09-27T19:05:01.918659Z",
     "shell.execute_reply": "2021-09-27T19:05:01.917787Z",
     "shell.execute_reply.started": "2021-09-27T19:05:01.886892Z"
    }
   },
   "outputs": [],
   "source": [
    "for i in ['age', 'bki_request_cnt', 'decline_app_cnt', 'income']:\n",
    "    df[i] = np.log(df[i]+1)"
   ]
  },
  {
   "cell_type": "code",
   "execution_count": 27,
   "metadata": {
    "execution": {
     "iopub.execute_input": "2021-09-27T19:05:01.920128Z",
     "iopub.status.busy": "2021-09-27T19:05:01.919887Z",
     "iopub.status.idle": "2021-09-27T19:05:02.260679Z",
     "shell.execute_reply": "2021-09-27T19:05:02.259862Z",
     "shell.execute_reply.started": "2021-09-27T19:05:01.920100Z"
    }
   },
   "outputs": [
    {
     "data": {
      "text/plain": [
       "<matplotlib.axes._subplots.AxesSubplot at 0x23ed79cfd30>"
      ]
     },
     "execution_count": 27,
     "metadata": {},
     "output_type": "execute_result"
    },
    {
     "data": {
      "image/png": "[encoded data removed]",
      "text/plain": [
       "<Figure size 432x288 with 2 Axes>"
      ]
     },
     "metadata": {
      "needs_background": "light"
     },
     "output_type": "display_data"
    }
   ],
   "source": [
    "sns.heatmap(df[num_cols].corr())"
   ]
  },
  {
   "cell_type": "markdown",
   "metadata": {},
   "source": [
    "Корреляции незначительны."
   ]
  },
  {
   "cell_type": "code",
   "execution_count": 28,
   "metadata": {
    "execution": {
     "iopub.execute_input": "2021-09-27T19:05:02.262215Z",
     "iopub.status.busy": "2021-09-27T19:05:02.261962Z",
     "iopub.status.idle": "2021-09-27T19:05:02.301664Z",
     "shell.execute_reply": "2021-09-27T19:05:02.300897Z",
     "shell.execute_reply.started": "2021-09-27T19:05:02.262185Z"
    }
   },
   "outputs": [],
   "source": [
    "# # стандартизация:\n",
    "sscaler = StandardScaler()\n",
    "df[num_cols] = pd.DataFrame(sscaler.fit_transform(df[num_cols]),columns=num_cols)"
   ]
  },
  {
   "cell_type": "code",
   "execution_count": 29,
   "metadata": {
    "execution": {
     "iopub.execute_input": "2021-09-27T19:05:02.303075Z",
     "iopub.status.busy": "2021-09-27T19:05:02.302850Z",
     "iopub.status.idle": "2021-09-27T19:05:02.372031Z",
     "shell.execute_reply": "2021-09-27T19:05:02.371213Z",
     "shell.execute_reply.started": "2021-09-27T19:05:02.303049Z"
    }
   },
   "outputs": [
    {
     "data": {
      "text/html": [
       "<div>\n",
       "<style scoped>\n",
       "    .dataframe tbody tr th:only-of-type {\n",
       "        vertical-align: middle;\n",
       "    }\n",
       "\n",
       "    .dataframe tbody tr th {\n",
       "        vertical-align: top;\n",
       "    }\n",
       "\n",
       "    .dataframe thead th {\n",
       "        text-align: right;\n",
       "    }\n",
       "</style>\n",
       "<table border=\"1\" class=\"dataframe\">\n",
       "  <thead>\n",
       "    <tr style=\"text-align: right;\">\n",
       "      <th></th>\n",
       "      <th>app_date</th>\n",
       "      <th>age</th>\n",
       "      <th>decline_app_cnt</th>\n",
       "      <th>score_bki</th>\n",
       "      <th>bki_request_cnt</th>\n",
       "      <th>region_rating</th>\n",
       "      <th>income</th>\n",
       "      <th>apps_per_day</th>\n",
       "    </tr>\n",
       "  </thead>\n",
       "  <tbody>\n",
       "    <tr>\n",
       "      <th>count</th>\n",
       "      <td>1.101480e+05</td>\n",
       "      <td>1.101480e+05</td>\n",
       "      <td>1.101480e+05</td>\n",
       "      <td>1.101480e+05</td>\n",
       "      <td>1.101480e+05</td>\n",
       "      <td>1.101480e+05</td>\n",
       "      <td>1.101480e+05</td>\n",
       "      <td>1.101480e+05</td>\n",
       "    </tr>\n",
       "    <tr>\n",
       "      <th>mean</th>\n",
       "      <td>-1.173637e-16</td>\n",
       "      <td>1.004110e-15</td>\n",
       "      <td>-3.789093e-15</td>\n",
       "      <td>-4.903485e-16</td>\n",
       "      <td>3.587481e-16</td>\n",
       "      <td>-2.509444e-15</td>\n",
       "      <td>7.210120e-16</td>\n",
       "      <td>-2.744574e-16</td>\n",
       "    </tr>\n",
       "    <tr>\n",
       "      <th>std</th>\n",
       "      <td>1.000005e+00</td>\n",
       "      <td>1.000005e+00</td>\n",
       "      <td>1.000005e+00</td>\n",
       "      <td>1.000005e+00</td>\n",
       "      <td>1.000005e+00</td>\n",
       "      <td>1.000005e+00</td>\n",
       "      <td>1.000005e+00</td>\n",
       "      <td>1.000005e+00</td>\n",
       "    </tr>\n",
       "    <tr>\n",
       "      <th>min</th>\n",
       "      <td>-1.564737e+00</td>\n",
       "      <td>-1.976836e+00</td>\n",
       "      <td>-4.188152e-01</td>\n",
       "      <td>-3.444269e+00</td>\n",
       "      <td>-1.334144e+00</td>\n",
       "      <td>-2.812764e+00</td>\n",
       "      <td>-4.933787e+00</td>\n",
       "      <td>-4.029483e+00</td>\n",
       "    </tr>\n",
       "    <tr>\n",
       "      <th>25%</th>\n",
       "      <td>-6.173676e-01</td>\n",
       "      <td>-7.737452e-01</td>\n",
       "      <td>-4.188152e-01</td>\n",
       "      <td>-7.126592e-01</td>\n",
       "      <td>-1.334144e+00</td>\n",
       "      <td>-5.167044e-01</td>\n",
       "      <td>-6.348458e-01</td>\n",
       "      <td>-6.586749e-01</td>\n",
       "    </tr>\n",
       "    <tr>\n",
       "      <th>50%</th>\n",
       "      <td>3.207140e-01</td>\n",
       "      <td>-5.949589e-02</td>\n",
       "      <td>-4.188152e-01</td>\n",
       "      <td>-3.261521e-02</td>\n",
       "      <td>-2.817904e-01</td>\n",
       "      <td>-5.167044e-01</td>\n",
       "      <td>-5.283405e-02</td>\n",
       "      <td>2.904289e-01</td>\n",
       "    </tr>\n",
       "    <tr>\n",
       "      <th>75%</th>\n",
       "      <td>5.714883e-01</td>\n",
       "      <td>8.323877e-01</td>\n",
       "      <td>-4.188152e-01</td>\n",
       "      <td>6.741092e-01</td>\n",
       "      <td>7.705631e-01</td>\n",
       "      <td>2.486488e-01</td>\n",
       "      <td>6.218273e-01</td>\n",
       "      <td>7.245480e-01</td>\n",
       "    </tr>\n",
       "    <tr>\n",
       "      <th>max</th>\n",
       "      <td>1.490994e+00</td>\n",
       "      <td>2.230861e+00</td>\n",
       "      <td>9.340604e+00</td>\n",
       "      <td>4.213712e+00</td>\n",
       "      <td>4.722032e+00</td>\n",
       "      <td>1.779355e+00</td>\n",
       "      <td>4.980702e+00</td>\n",
       "      <td>2.077978e+00</td>\n",
       "    </tr>\n",
       "  </tbody>\n",
       "</table>\n",
       "</div>"
      ],
      "text/plain": [
       "           app_date           age  decline_app_cnt     score_bki  \\\n",
       "count  1.101480e+05  1.101480e+05     1.101480e+05  1.101480e+05   \n",
       "mean  -1.173637e-16  1.004110e-15    -3.789093e-15 -4.903485e-16   \n",
       "std    1.000005e+00  1.000005e+00     1.000005e+00  1.000005e+00   \n",
       "min   -1.564737e+00 -1.976836e+00    -4.188152e-01 -3.444269e+00   \n",
       "25%   -6.173676e-01 -7.737452e-01    -4.188152e-01 -7.126592e-01   \n",
       "50%    3.207140e-01 -5.949589e-02    -4.188152e-01 -3.261521e-02   \n",
       "75%    5.714883e-01  8.323877e-01    -4.188152e-01  6.741092e-01   \n",
       "max    1.490994e+00  2.230861e+00     9.340604e+00  4.213712e+00   \n",
       "\n",
       "       bki_request_cnt  region_rating        income  apps_per_day  \n",
       "count     1.101480e+05   1.101480e+05  1.101480e+05  1.101480e+05  \n",
       "mean      3.587481e-16  -2.509444e-15  7.210120e-16 -2.744574e-16  \n",
       "std       1.000005e+00   1.000005e+00  1.000005e+00  1.000005e+00  \n",
       "min      -1.334144e+00  -2.812764e+00 -4.933787e+00 -4.029483e+00  \n",
       "25%      -1.334144e+00  -5.167044e-01 -6.348458e-01 -6.586749e-01  \n",
       "50%      -2.817904e-01  -5.167044e-01 -5.283405e-02  2.904289e-01  \n",
       "75%       7.705631e-01   2.486488e-01  6.218273e-01  7.245480e-01  \n",
       "max       4.722032e+00   1.779355e+00  4.980702e+00  2.077978e+00  "
      ]
     },
     "execution_count": 29,
     "metadata": {},
     "output_type": "execute_result"
    }
   ],
   "source": [
    "df[num_cols].describe()"
   ]
  },
  {
   "cell_type": "code",
   "execution_count": 30,
   "metadata": {
    "execution": {
     "iopub.execute_input": "2021-09-27T19:05:02.373384Z",
     "iopub.status.busy": "2021-09-27T19:05:02.373143Z",
     "iopub.status.idle": "2021-09-27T19:05:02.582091Z",
     "shell.execute_reply": "2021-09-27T19:05:02.581259Z",
     "shell.execute_reply.started": "2021-09-27T19:05:02.373357Z"
    }
   },
   "outputs": [
    {
     "data": {
      "text/plain": [
       "<matplotlib.axes._subplots.AxesSubplot at 0x23eda16f310>"
      ]
     },
     "execution_count": 30,
     "metadata": {},
     "output_type": "execute_result"
    },
    {
     "data": {
      "image/png": "[encoded data removed]",
      "text/plain": [
       "<Figure size 432x288 with 1 Axes>"
      ]
     },
     "metadata": {
      "needs_background": "light"
     },
     "output_type": "display_data"
    }
   ],
   "source": [
    "# оценка значимости числовых признаков:\n",
    "imp_num = pd.Series(f_classif(df[df.is_test==0][num_cols], df[df.is_test==0]['default'])[0], index = num_cols)\n",
    "imp_num.sort_values(inplace = True)\n",
    "imp_num.plot(kind = 'barh')"
   ]
  },
  {
   "cell_type": "markdown",
   "metadata": {},
   "source": [
    "Из числовых признаков наиболее значимым является score_bki"
   ]
  },
  {
   "cell_type": "markdown",
   "metadata": {},
   "source": [
    "## Бинарные признаки"
   ]
  },
  {
   "cell_type": "code",
   "execution_count": 31,
   "metadata": {
    "execution": {
     "iopub.execute_input": "2021-09-27T19:05:02.583620Z",
     "iopub.status.busy": "2021-09-27T19:05:02.583344Z",
     "iopub.status.idle": "2021-09-27T19:05:02.590056Z",
     "shell.execute_reply": "2021-09-27T19:05:02.589297Z",
     "shell.execute_reply.started": "2021-09-27T19:05:02.583583Z"
    }
   },
   "outputs": [
    {
     "data": {
      "text/plain": [
       "['sex', 'car', 'car_type', 'good_work', 'foreign_passport']"
      ]
     },
     "execution_count": 31,
     "metadata": {},
     "output_type": "execute_result"
    }
   ],
   "source": [
    "bin_cols"
   ]
  },
  {
   "cell_type": "code",
   "execution_count": 32,
   "metadata": {
    "execution": {
     "iopub.execute_input": "2021-09-27T19:05:02.595111Z",
     "iopub.status.busy": "2021-09-27T19:05:02.594754Z",
     "iopub.status.idle": "2021-09-27T19:05:02.756050Z",
     "shell.execute_reply": "2021-09-27T19:05:02.755243Z",
     "shell.execute_reply.started": "2021-09-27T19:05:02.595070Z"
    }
   },
   "outputs": [],
   "source": [
    "# преобразование в числа\n",
    "label_encoder = LabelEncoder()\n",
    "\n",
    "for i in bin_cols:\n",
    "    df[i] = label_encoder.fit_transform(df[i])  "
   ]
  },
  {
   "cell_type": "code",
   "execution_count": 33,
   "metadata": {
    "execution": {
     "iopub.execute_input": "2021-09-27T19:05:02.757536Z",
     "iopub.status.busy": "2021-09-27T19:05:02.757328Z",
     "iopub.status.idle": "2021-09-27T19:05:03.326895Z",
     "shell.execute_reply": "2021-09-27T19:05:03.325907Z",
     "shell.execute_reply.started": "2021-09-27T19:05:02.757512Z"
    }
   },
   "outputs": [
    {
     "data": {
      "text/plain": [
       "array([[<matplotlib.axes._subplots.AxesSubplot object at 0x0000023EDA0BD7F0>,\n",
       "        <matplotlib.axes._subplots.AxesSubplot object at 0x0000023EDA0A1A90>],\n",
       "       [<matplotlib.axes._subplots.AxesSubplot object at 0x0000023EDA0ED190>,\n",
       "        <matplotlib.axes._subplots.AxesSubplot object at 0x0000023EDA259910>],\n",
       "       [<matplotlib.axes._subplots.AxesSubplot object at 0x0000023EDA258130>,\n",
       "        <matplotlib.axes._subplots.AxesSubplot object at 0x0000023ED920E8B0>]],\n",
       "      dtype=object)"
      ]
     },
     "execution_count": 33,
     "metadata": {},
     "output_type": "execute_result"
    },
    {
     "data": {
      "image/png": "[encoded data removed]",
      "text/plain": [
       "<Figure size 432x288 with 6 Axes>"
      ]
     },
     "metadata": {
      "needs_background": "light"
     },
     "output_type": "display_data"
    }
   ],
   "source": [
    "df[bin_cols].hist(bins=2)"
   ]
  },
  {
   "cell_type": "code",
   "execution_count": 34,
   "metadata": {
    "execution": {
     "iopub.execute_input": "2021-09-27T19:05:03.328373Z",
     "iopub.status.busy": "2021-09-27T19:05:03.328161Z",
     "iopub.status.idle": "2021-09-27T19:05:03.366611Z",
     "shell.execute_reply": "2021-09-27T19:05:03.365660Z",
     "shell.execute_reply.started": "2021-09-27T19:05:03.328347Z"
    }
   },
   "outputs": [
    {
     "data": {
      "text/html": [
       "<div>\n",
       "<style scoped>\n",
       "    .dataframe tbody tr th:only-of-type {\n",
       "        vertical-align: middle;\n",
       "    }\n",
       "\n",
       "    .dataframe tbody tr th {\n",
       "        vertical-align: top;\n",
       "    }\n",
       "\n",
       "    .dataframe thead th {\n",
       "        text-align: right;\n",
       "    }\n",
       "</style>\n",
       "<table border=\"1\" class=\"dataframe\">\n",
       "  <thead>\n",
       "    <tr style=\"text-align: right;\">\n",
       "      <th></th>\n",
       "      <th>sex</th>\n",
       "      <th>car</th>\n",
       "      <th>car_type</th>\n",
       "      <th>good_work</th>\n",
       "      <th>foreign_passport</th>\n",
       "    </tr>\n",
       "  </thead>\n",
       "  <tbody>\n",
       "    <tr>\n",
       "      <th>count</th>\n",
       "      <td>110148.000000</td>\n",
       "      <td>110148.000000</td>\n",
       "      <td>110148.000000</td>\n",
       "      <td>110148.000000</td>\n",
       "      <td>110148.000000</td>\n",
       "    </tr>\n",
       "    <tr>\n",
       "      <th>mean</th>\n",
       "      <td>0.438610</td>\n",
       "      <td>0.325544</td>\n",
       "      <td>0.190725</td>\n",
       "      <td>0.165514</td>\n",
       "      <td>0.149136</td>\n",
       "    </tr>\n",
       "    <tr>\n",
       "      <th>std</th>\n",
       "      <td>0.496219</td>\n",
       "      <td>0.468580</td>\n",
       "      <td>0.392875</td>\n",
       "      <td>0.371645</td>\n",
       "      <td>0.356224</td>\n",
       "    </tr>\n",
       "    <tr>\n",
       "      <th>min</th>\n",
       "      <td>0.000000</td>\n",
       "      <td>0.000000</td>\n",
       "      <td>0.000000</td>\n",
       "      <td>0.000000</td>\n",
       "      <td>0.000000</td>\n",
       "    </tr>\n",
       "    <tr>\n",
       "      <th>25%</th>\n",
       "      <td>0.000000</td>\n",
       "      <td>0.000000</td>\n",
       "      <td>0.000000</td>\n",
       "      <td>0.000000</td>\n",
       "      <td>0.000000</td>\n",
       "    </tr>\n",
       "    <tr>\n",
       "      <th>50%</th>\n",
       "      <td>0.000000</td>\n",
       "      <td>0.000000</td>\n",
       "      <td>0.000000</td>\n",
       "      <td>0.000000</td>\n",
       "      <td>0.000000</td>\n",
       "    </tr>\n",
       "    <tr>\n",
       "      <th>75%</th>\n",
       "      <td>1.000000</td>\n",
       "      <td>1.000000</td>\n",
       "      <td>0.000000</td>\n",
       "      <td>0.000000</td>\n",
       "      <td>0.000000</td>\n",
       "    </tr>\n",
       "    <tr>\n",
       "      <th>max</th>\n",
       "      <td>1.000000</td>\n",
       "      <td>1.000000</td>\n",
       "      <td>1.000000</td>\n",
       "      <td>1.000000</td>\n",
       "      <td>1.000000</td>\n",
       "    </tr>\n",
       "  </tbody>\n",
       "</table>\n",
       "</div>"
      ],
      "text/plain": [
       "                 sex            car       car_type      good_work  \\\n",
       "count  110148.000000  110148.000000  110148.000000  110148.000000   \n",
       "mean        0.438610       0.325544       0.190725       0.165514   \n",
       "std         0.496219       0.468580       0.392875       0.371645   \n",
       "min         0.000000       0.000000       0.000000       0.000000   \n",
       "25%         0.000000       0.000000       0.000000       0.000000   \n",
       "50%         0.000000       0.000000       0.000000       0.000000   \n",
       "75%         1.000000       1.000000       0.000000       0.000000   \n",
       "max         1.000000       1.000000       1.000000       1.000000   \n",
       "\n",
       "       foreign_passport  \n",
       "count     110148.000000  \n",
       "mean           0.149136  \n",
       "std            0.356224  \n",
       "min            0.000000  \n",
       "25%            0.000000  \n",
       "50%            0.000000  \n",
       "75%            0.000000  \n",
       "max            1.000000  "
      ]
     },
     "execution_count": 34,
     "metadata": {},
     "output_type": "execute_result"
    }
   ],
   "source": [
    "df[bin_cols].describe()"
   ]
  },
  {
   "cell_type": "code",
   "execution_count": 35,
   "metadata": {
    "execution": {
     "iopub.execute_input": "2021-09-27T19:05:03.368165Z",
     "iopub.status.busy": "2021-09-27T19:05:03.367859Z",
     "iopub.status.idle": "2021-09-27T19:05:03.372549Z",
     "shell.execute_reply": "2021-09-27T19:05:03.371553Z",
     "shell.execute_reply.started": "2021-09-27T19:05:03.368134Z"
    }
   },
   "outputs": [],
   "source": [
    "# # стандартизация:\n",
    "# df[bin_cols] = pd.DataFrame(sscaler.fit_transform(df[bin_cols]),columns=bin_cols)"
   ]
  },
  {
   "cell_type": "code",
   "execution_count": 36,
   "metadata": {
    "execution": {
     "iopub.execute_input": "2021-09-27T19:05:03.374432Z",
     "iopub.status.busy": "2021-09-27T19:05:03.373766Z",
     "iopub.status.idle": "2021-09-27T19:05:03.821487Z",
     "shell.execute_reply": "2021-09-27T19:05:03.820483Z",
     "shell.execute_reply.started": "2021-09-27T19:05:03.374397Z"
    }
   },
   "outputs": [
    {
     "data": {
      "text/plain": [
       "<matplotlib.axes._subplots.AxesSubplot at 0x23ed9fa9700>"
      ]
     },
     "execution_count": 36,
     "metadata": {},
     "output_type": "execute_result"
    },
    {
     "data": {
      "image/png": "[encoded data removed]",
      "text/plain": [
       "<Figure size 432x288 with 1 Axes>"
      ]
     },
     "metadata": {
      "needs_background": "light"
     },
     "output_type": "display_data"
    }
   ],
   "source": [
    "# оценка значимости бинарных признаков:\n",
    "imp_cat = pd.Series(mutual_info_classif(df[df.is_test == 0][bin_cols], df[df.is_test == 0]['default'],\n",
    "                                        discrete_features=True), index=bin_cols)\n",
    "imp_cat.sort_values(inplace=True)\n",
    "imp_cat.plot(kind='barh')"
   ]
  },
  {
   "cell_type": "markdown",
   "metadata": {},
   "source": [
    "Из бинарных признаков наиболее значимыми являются foreign_passport и car_type."
   ]
  },
  {
   "cell_type": "markdown",
   "metadata": {},
   "source": [
    "## Категориальные признаки"
   ]
  },
  {
   "cell_type": "code",
   "execution_count": 37,
   "metadata": {
    "execution": {
     "iopub.execute_input": "2021-09-27T19:05:03.823480Z",
     "iopub.status.busy": "2021-09-27T19:05:03.822866Z",
     "iopub.status.idle": "2021-09-27T19:05:03.829608Z",
     "shell.execute_reply": "2021-09-27T19:05:03.828758Z",
     "shell.execute_reply.started": "2021-09-27T19:05:03.823446Z"
    }
   },
   "outputs": [
    {
     "data": {
      "text/plain": [
       "['education',\n",
       " 'home_address',\n",
       " 'work_address',\n",
       " 'sna',\n",
       " 'first_time',\n",
       " 'app_weekday']"
      ]
     },
     "execution_count": 37,
     "metadata": {},
     "output_type": "execute_result"
    }
   ],
   "source": [
    "cat_cols"
   ]
  },
  {
   "cell_type": "code",
   "execution_count": 38,
   "metadata": {
    "execution": {
     "iopub.execute_input": "2021-09-27T19:05:03.831304Z",
     "iopub.status.busy": "2021-09-27T19:05:03.830998Z",
     "iopub.status.idle": "2021-09-27T19:05:03.864831Z",
     "shell.execute_reply": "2021-09-27T19:05:03.864027Z",
     "shell.execute_reply.started": "2021-09-27T19:05:03.831265Z"
    }
   },
   "outputs": [
    {
     "name": "stdout",
     "output_type": "stream",
     "text": [
      "<class 'pandas.core.frame.DataFrame'>\n",
      "RangeIndex: 110148 entries, 0 to 110147\n",
      "Data columns (total 6 columns):\n",
      " #   Column        Non-Null Count   Dtype \n",
      "---  ------        --------------   ----- \n",
      " 0   education     110148 non-null  object\n",
      " 1   home_address  110148 non-null  int64 \n",
      " 2   work_address  110148 non-null  int64 \n",
      " 3   sna           110148 non-null  int64 \n",
      " 4   first_time    110148 non-null  int64 \n",
      " 5   app_weekday   110148 non-null  int64 \n",
      "dtypes: int64(5), object(1)\n",
      "memory usage: 5.0+ MB\n"
     ]
    }
   ],
   "source": [
    "df[cat_cols].info()"
   ]
  },
  {
   "cell_type": "code",
   "execution_count": 39,
   "metadata": {
    "execution": {
     "iopub.execute_input": "2021-09-27T19:05:03.866341Z",
     "iopub.status.busy": "2021-09-27T19:05:03.866132Z",
     "iopub.status.idle": "2021-09-27T19:05:03.885607Z",
     "shell.execute_reply": "2021-09-27T19:05:03.884550Z",
     "shell.execute_reply.started": "2021-09-27T19:05:03.866315Z"
    }
   },
   "outputs": [
    {
     "data": {
      "text/plain": [
       "SCH    0.526565\n",
       "GRD    0.316603\n",
       "UGR    0.133010\n",
       "PGR    0.017033\n",
       "ACD    0.002629\n",
       "Name: education, dtype: float64"
      ]
     },
     "execution_count": 39,
     "metadata": {},
     "output_type": "execute_result"
    }
   ],
   "source": [
    "df_train['education'].value_counts() / len(df_train)"
   ]
  },
  {
   "cell_type": "code",
   "execution_count": 40,
   "metadata": {
    "execution": {
     "iopub.execute_input": "2021-09-27T19:05:03.887074Z",
     "iopub.status.busy": "2021-09-27T19:05:03.886835Z",
     "iopub.status.idle": "2021-09-27T19:05:03.904967Z",
     "shell.execute_reply": "2021-09-27T19:05:03.903837Z",
     "shell.execute_reply.started": "2021-09-27T19:05:03.887045Z"
    }
   },
   "outputs": [
    {
     "data": {
      "text/plain": [
       "SCH    0.526507\n",
       "GRD    0.313709\n",
       "UGR    0.135685\n",
       "PGR    0.016727\n",
       "ACD    0.002669\n",
       "Name: education, dtype: float64"
      ]
     },
     "execution_count": 40,
     "metadata": {},
     "output_type": "execute_result"
    }
   ],
   "source": [
    "df_test['education'].value_counts() / len(df_test)"
   ]
  },
  {
   "cell_type": "code",
   "execution_count": 41,
   "metadata": {
    "execution": {
     "iopub.execute_input": "2021-09-27T19:05:03.906321Z",
     "iopub.status.busy": "2021-09-27T19:05:03.906002Z",
     "iopub.status.idle": "2021-09-27T19:05:04.030346Z",
     "shell.execute_reply": "2021-09-27T19:05:04.029472Z",
     "shell.execute_reply.started": "2021-09-27T19:05:03.906283Z"
    }
   },
   "outputs": [
    {
     "data": {
      "text/html": [
       "<div>\n",
       "<style scoped>\n",
       "    .dataframe tbody tr th:only-of-type {\n",
       "        vertical-align: middle;\n",
       "    }\n",
       "\n",
       "    .dataframe tbody tr th {\n",
       "        vertical-align: top;\n",
       "    }\n",
       "\n",
       "    .dataframe thead th {\n",
       "        text-align: right;\n",
       "    }\n",
       "</style>\n",
       "<table border=\"1\" class=\"dataframe\">\n",
       "  <thead>\n",
       "    <tr style=\"text-align: right;\">\n",
       "      <th></th>\n",
       "      <th>education_ACD</th>\n",
       "      <th>education_GRD</th>\n",
       "      <th>education_PGR</th>\n",
       "      <th>education_SCH</th>\n",
       "      <th>education_UGR</th>\n",
       "      <th>home_address_1</th>\n",
       "      <th>home_address_2</th>\n",
       "      <th>home_address_3</th>\n",
       "      <th>work_address_1</th>\n",
       "      <th>work_address_2</th>\n",
       "      <th>...</th>\n",
       "      <th>first_time_2</th>\n",
       "      <th>first_time_3</th>\n",
       "      <th>first_time_4</th>\n",
       "      <th>app_weekday_0</th>\n",
       "      <th>app_weekday_1</th>\n",
       "      <th>app_weekday_2</th>\n",
       "      <th>app_weekday_3</th>\n",
       "      <th>app_weekday_4</th>\n",
       "      <th>app_weekday_5</th>\n",
       "      <th>app_weekday_6</th>\n",
       "    </tr>\n",
       "  </thead>\n",
       "  <tbody>\n",
       "    <tr>\n",
       "      <th>0</th>\n",
       "      <td>0</td>\n",
       "      <td>0</td>\n",
       "      <td>0</td>\n",
       "      <td>1</td>\n",
       "      <td>0</td>\n",
       "      <td>1</td>\n",
       "      <td>0</td>\n",
       "      <td>0</td>\n",
       "      <td>0</td>\n",
       "      <td>1</td>\n",
       "      <td>...</td>\n",
       "      <td>0</td>\n",
       "      <td>0</td>\n",
       "      <td>0</td>\n",
       "      <td>0</td>\n",
       "      <td>0</td>\n",
       "      <td>0</td>\n",
       "      <td>0</td>\n",
       "      <td>0</td>\n",
       "      <td>1</td>\n",
       "      <td>0</td>\n",
       "    </tr>\n",
       "    <tr>\n",
       "      <th>1</th>\n",
       "      <td>0</td>\n",
       "      <td>0</td>\n",
       "      <td>0</td>\n",
       "      <td>1</td>\n",
       "      <td>0</td>\n",
       "      <td>0</td>\n",
       "      <td>1</td>\n",
       "      <td>0</td>\n",
       "      <td>0</td>\n",
       "      <td>0</td>\n",
       "      <td>...</td>\n",
       "      <td>0</td>\n",
       "      <td>0</td>\n",
       "      <td>0</td>\n",
       "      <td>0</td>\n",
       "      <td>0</td>\n",
       "      <td>1</td>\n",
       "      <td>0</td>\n",
       "      <td>0</td>\n",
       "      <td>0</td>\n",
       "      <td>0</td>\n",
       "    </tr>\n",
       "    <tr>\n",
       "      <th>2</th>\n",
       "      <td>0</td>\n",
       "      <td>0</td>\n",
       "      <td>0</td>\n",
       "      <td>1</td>\n",
       "      <td>0</td>\n",
       "      <td>1</td>\n",
       "      <td>0</td>\n",
       "      <td>0</td>\n",
       "      <td>0</td>\n",
       "      <td>1</td>\n",
       "      <td>...</td>\n",
       "      <td>0</td>\n",
       "      <td>0</td>\n",
       "      <td>1</td>\n",
       "      <td>0</td>\n",
       "      <td>0</td>\n",
       "      <td>0</td>\n",
       "      <td>0</td>\n",
       "      <td>0</td>\n",
       "      <td>1</td>\n",
       "      <td>0</td>\n",
       "    </tr>\n",
       "    <tr>\n",
       "      <th>3</th>\n",
       "      <td>0</td>\n",
       "      <td>0</td>\n",
       "      <td>0</td>\n",
       "      <td>1</td>\n",
       "      <td>0</td>\n",
       "      <td>0</td>\n",
       "      <td>1</td>\n",
       "      <td>0</td>\n",
       "      <td>0</td>\n",
       "      <td>0</td>\n",
       "      <td>...</td>\n",
       "      <td>0</td>\n",
       "      <td>1</td>\n",
       "      <td>0</td>\n",
       "      <td>0</td>\n",
       "      <td>0</td>\n",
       "      <td>0</td>\n",
       "      <td>1</td>\n",
       "      <td>0</td>\n",
       "      <td>0</td>\n",
       "      <td>0</td>\n",
       "    </tr>\n",
       "    <tr>\n",
       "      <th>4</th>\n",
       "      <td>0</td>\n",
       "      <td>1</td>\n",
       "      <td>0</td>\n",
       "      <td>0</td>\n",
       "      <td>0</td>\n",
       "      <td>0</td>\n",
       "      <td>1</td>\n",
       "      <td>0</td>\n",
       "      <td>0</td>\n",
       "      <td>0</td>\n",
       "      <td>...</td>\n",
       "      <td>0</td>\n",
       "      <td>0</td>\n",
       "      <td>1</td>\n",
       "      <td>0</td>\n",
       "      <td>0</td>\n",
       "      <td>0</td>\n",
       "      <td>0</td>\n",
       "      <td>1</td>\n",
       "      <td>0</td>\n",
       "      <td>0</td>\n",
       "    </tr>\n",
       "    <tr>\n",
       "      <th>...</th>\n",
       "      <td>...</td>\n",
       "      <td>...</td>\n",
       "      <td>...</td>\n",
       "      <td>...</td>\n",
       "      <td>...</td>\n",
       "      <td>...</td>\n",
       "      <td>...</td>\n",
       "      <td>...</td>\n",
       "      <td>...</td>\n",
       "      <td>...</td>\n",
       "      <td>...</td>\n",
       "      <td>...</td>\n",
       "      <td>...</td>\n",
       "      <td>...</td>\n",
       "      <td>...</td>\n",
       "      <td>...</td>\n",
       "      <td>...</td>\n",
       "      <td>...</td>\n",
       "      <td>...</td>\n",
       "      <td>...</td>\n",
       "      <td>...</td>\n",
       "    </tr>\n",
       "    <tr>\n",
       "      <th>110143</th>\n",
       "      <td>0</td>\n",
       "      <td>0</td>\n",
       "      <td>0</td>\n",
       "      <td>1</td>\n",
       "      <td>0</td>\n",
       "      <td>0</td>\n",
       "      <td>1</td>\n",
       "      <td>0</td>\n",
       "      <td>0</td>\n",
       "      <td>0</td>\n",
       "      <td>...</td>\n",
       "      <td>0</td>\n",
       "      <td>0</td>\n",
       "      <td>0</td>\n",
       "      <td>1</td>\n",
       "      <td>0</td>\n",
       "      <td>0</td>\n",
       "      <td>0</td>\n",
       "      <td>0</td>\n",
       "      <td>0</td>\n",
       "      <td>0</td>\n",
       "    </tr>\n",
       "    <tr>\n",
       "      <th>110144</th>\n",
       "      <td>0</td>\n",
       "      <td>1</td>\n",
       "      <td>0</td>\n",
       "      <td>0</td>\n",
       "      <td>0</td>\n",
       "      <td>1</td>\n",
       "      <td>0</td>\n",
       "      <td>0</td>\n",
       "      <td>0</td>\n",
       "      <td>1</td>\n",
       "      <td>...</td>\n",
       "      <td>0</td>\n",
       "      <td>0</td>\n",
       "      <td>1</td>\n",
       "      <td>0</td>\n",
       "      <td>0</td>\n",
       "      <td>0</td>\n",
       "      <td>0</td>\n",
       "      <td>1</td>\n",
       "      <td>0</td>\n",
       "      <td>0</td>\n",
       "    </tr>\n",
       "    <tr>\n",
       "      <th>110145</th>\n",
       "      <td>0</td>\n",
       "      <td>1</td>\n",
       "      <td>0</td>\n",
       "      <td>0</td>\n",
       "      <td>0</td>\n",
       "      <td>1</td>\n",
       "      <td>0</td>\n",
       "      <td>0</td>\n",
       "      <td>0</td>\n",
       "      <td>1</td>\n",
       "      <td>...</td>\n",
       "      <td>1</td>\n",
       "      <td>0</td>\n",
       "      <td>0</td>\n",
       "      <td>0</td>\n",
       "      <td>0</td>\n",
       "      <td>0</td>\n",
       "      <td>0</td>\n",
       "      <td>0</td>\n",
       "      <td>0</td>\n",
       "      <td>1</td>\n",
       "    </tr>\n",
       "    <tr>\n",
       "      <th>110146</th>\n",
       "      <td>0</td>\n",
       "      <td>0</td>\n",
       "      <td>0</td>\n",
       "      <td>0</td>\n",
       "      <td>1</td>\n",
       "      <td>0</td>\n",
       "      <td>1</td>\n",
       "      <td>0</td>\n",
       "      <td>0</td>\n",
       "      <td>0</td>\n",
       "      <td>...</td>\n",
       "      <td>0</td>\n",
       "      <td>0</td>\n",
       "      <td>0</td>\n",
       "      <td>0</td>\n",
       "      <td>1</td>\n",
       "      <td>0</td>\n",
       "      <td>0</td>\n",
       "      <td>0</td>\n",
       "      <td>0</td>\n",
       "      <td>0</td>\n",
       "    </tr>\n",
       "    <tr>\n",
       "      <th>110147</th>\n",
       "      <td>0</td>\n",
       "      <td>0</td>\n",
       "      <td>0</td>\n",
       "      <td>1</td>\n",
       "      <td>0</td>\n",
       "      <td>1</td>\n",
       "      <td>0</td>\n",
       "      <td>0</td>\n",
       "      <td>0</td>\n",
       "      <td>1</td>\n",
       "      <td>...</td>\n",
       "      <td>1</td>\n",
       "      <td>0</td>\n",
       "      <td>0</td>\n",
       "      <td>1</td>\n",
       "      <td>0</td>\n",
       "      <td>0</td>\n",
       "      <td>0</td>\n",
       "      <td>0</td>\n",
       "      <td>0</td>\n",
       "      <td>0</td>\n",
       "    </tr>\n",
       "  </tbody>\n",
       "</table>\n",
       "<p>110148 rows × 26 columns</p>\n",
       "</div>"
      ],
      "text/plain": [
       "        education_ACD  education_GRD  education_PGR  education_SCH  \\\n",
       "0                   0              0              0              1   \n",
       "1                   0              0              0              1   \n",
       "2                   0              0              0              1   \n",
       "3                   0              0              0              1   \n",
       "4                   0              1              0              0   \n",
       "...               ...            ...            ...            ...   \n",
       "110143              0              0              0              1   \n",
       "110144              0              1              0              0   \n",
       "110145              0              1              0              0   \n",
       "110146              0              0              0              0   \n",
       "110147              0              0              0              1   \n",
       "\n",
       "        education_UGR  home_address_1  home_address_2  home_address_3  \\\n",
       "0                   0               1               0               0   \n",
       "1                   0               0               1               0   \n",
       "2                   0               1               0               0   \n",
       "3                   0               0               1               0   \n",
       "4                   0               0               1               0   \n",
       "...               ...             ...             ...             ...   \n",
       "110143              0               0               1               0   \n",
       "110144              0               1               0               0   \n",
       "110145              0               1               0               0   \n",
       "110146              1               0               1               0   \n",
       "110147              0               1               0               0   \n",
       "\n",
       "        work_address_1  work_address_2  ...  first_time_2  first_time_3  \\\n",
       "0                    0               1  ...             0             0   \n",
       "1                    0               0  ...             0             0   \n",
       "2                    0               1  ...             0             0   \n",
       "3                    0               0  ...             0             1   \n",
       "4                    0               0  ...             0             0   \n",
       "...                ...             ...  ...           ...           ...   \n",
       "110143               0               0  ...             0             0   \n",
       "110144               0               1  ...             0             0   \n",
       "110145               0               1  ...             1             0   \n",
       "110146               0               0  ...             0             0   \n",
       "110147               0               1  ...             1             0   \n",
       "\n",
       "        first_time_4  app_weekday_0  app_weekday_1  app_weekday_2  \\\n",
       "0                  0              0              0              0   \n",
       "1                  0              0              0              1   \n",
       "2                  1              0              0              0   \n",
       "3                  0              0              0              0   \n",
       "4                  1              0              0              0   \n",
       "...              ...            ...            ...            ...   \n",
       "110143             0              1              0              0   \n",
       "110144             1              0              0              0   \n",
       "110145             0              0              0              0   \n",
       "110146             0              0              1              0   \n",
       "110147             0              1              0              0   \n",
       "\n",
       "        app_weekday_3  app_weekday_4  app_weekday_5  app_weekday_6  \n",
       "0                   0              0              1              0  \n",
       "1                   0              0              0              0  \n",
       "2                   0              0              1              0  \n",
       "3                   1              0              0              0  \n",
       "4                   0              1              0              0  \n",
       "...               ...            ...            ...            ...  \n",
       "110143              0              0              0              0  \n",
       "110144              0              1              0              0  \n",
       "110145              0              0              0              1  \n",
       "110146              0              0              0              0  \n",
       "110147              0              0              0              0  \n",
       "\n",
       "[110148 rows x 26 columns]"
      ]
     },
     "execution_count": 41,
     "metadata": {},
     "output_type": "execute_result"
    }
   ],
   "source": [
    "df_dummies = pd.get_dummies(df[cat_cols].astype('object'))\n",
    "df_dummies"
   ]
  },
  {
   "cell_type": "code",
   "execution_count": 42,
   "metadata": {
    "execution": {
     "iopub.execute_input": "2021-09-27T19:05:04.031821Z",
     "iopub.status.busy": "2021-09-27T19:05:04.031517Z",
     "iopub.status.idle": "2021-09-27T19:05:04.036130Z",
     "shell.execute_reply": "2021-09-27T19:05:04.035062Z",
     "shell.execute_reply.started": "2021-09-27T19:05:04.031792Z"
    }
   },
   "outputs": [],
   "source": [
    "dummy_cols = df_dummies.columns"
   ]
  },
  {
   "cell_type": "code",
   "execution_count": 43,
   "metadata": {
    "execution": {
     "iopub.execute_input": "2021-09-27T19:05:04.037635Z",
     "iopub.status.busy": "2021-09-27T19:05:04.037236Z",
     "iopub.status.idle": "2021-09-27T19:05:04.058054Z",
     "shell.execute_reply": "2021-09-27T19:05:04.056904Z",
     "shell.execute_reply.started": "2021-09-27T19:05:04.037589Z"
    }
   },
   "outputs": [],
   "source": [
    "df = pd.concat([df, df_dummies], axis=1)"
   ]
  },
  {
   "cell_type": "code",
   "execution_count": 44,
   "metadata": {
    "execution": {
     "iopub.execute_input": "2021-09-27T19:05:04.059384Z",
     "iopub.status.busy": "2021-09-27T19:05:04.059168Z",
     "iopub.status.idle": "2021-09-27T19:05:04.065771Z",
     "shell.execute_reply": "2021-09-27T19:05:04.065012Z",
     "shell.execute_reply.started": "2021-09-27T19:05:04.059359Z"
    }
   },
   "outputs": [
    {
     "data": {
      "text/plain": [
       "Index(['client_id', 'app_date', 'education', 'sex', 'age', 'car', 'car_type',\n",
       "       'decline_app_cnt', 'good_work', 'score_bki', 'bki_request_cnt',\n",
       "       'region_rating', 'home_address', 'work_address', 'income', 'sna',\n",
       "       'first_time', 'foreign_passport', 'default', 'is_test', 'app_weekday',\n",
       "       'apps_per_day', 'education_ACD', 'education_GRD', 'education_PGR',\n",
       "       'education_SCH', 'education_UGR', 'home_address_1', 'home_address_2',\n",
       "       'home_address_3', 'work_address_1', 'work_address_2', 'work_address_3',\n",
       "       'sna_1', 'sna_2', 'sna_3', 'sna_4', 'first_time_1', 'first_time_2',\n",
       "       'first_time_3', 'first_time_4', 'app_weekday_0', 'app_weekday_1',\n",
       "       'app_weekday_2', 'app_weekday_3', 'app_weekday_4', 'app_weekday_5',\n",
       "       'app_weekday_6'],\n",
       "      dtype='object')"
      ]
     },
     "execution_count": 44,
     "metadata": {},
     "output_type": "execute_result"
    }
   ],
   "source": [
    "df.columns"
   ]
  },
  {
   "cell_type": "code",
   "execution_count": 45,
   "metadata": {
    "execution": {
     "iopub.execute_input": "2021-09-27T19:05:04.067187Z",
     "iopub.status.busy": "2021-09-27T19:05:04.066982Z",
     "iopub.status.idle": "2021-09-27T19:05:04.092320Z",
     "shell.execute_reply": "2021-09-27T19:05:04.091388Z",
     "shell.execute_reply.started": "2021-09-27T19:05:04.067162Z"
    }
   },
   "outputs": [],
   "source": [
    "df.drop(columns=cat_cols, inplace=True)"
   ]
  },
  {
   "cell_type": "code",
   "execution_count": 46,
   "metadata": {
    "execution": {
     "iopub.execute_input": "2021-09-27T19:05:04.094050Z",
     "iopub.status.busy": "2021-09-27T19:05:04.093822Z",
     "iopub.status.idle": "2021-09-27T19:05:04.115498Z",
     "shell.execute_reply": "2021-09-27T19:05:04.114903Z",
     "shell.execute_reply.started": "2021-09-27T19:05:04.094025Z"
    }
   },
   "outputs": [
    {
     "name": "stdout",
     "output_type": "stream",
     "text": [
      "<class 'pandas.core.frame.DataFrame'>\n",
      "RangeIndex: 110148 entries, 0 to 110147\n",
      "Data columns (total 42 columns):\n",
      " #   Column            Non-Null Count   Dtype  \n",
      "---  ------            --------------   -----  \n",
      " 0   client_id         110148 non-null  int64  \n",
      " 1   app_date          110148 non-null  float64\n",
      " 2   sex               110148 non-null  int32  \n",
      " 3   age               110148 non-null  float64\n",
      " 4   car               110148 non-null  int32  \n",
      " 5   car_type          110148 non-null  int32  \n",
      " 6   decline_app_cnt   110148 non-null  float64\n",
      " 7   good_work         110148 non-null  int64  \n",
      " 8   score_bki         110148 non-null  float64\n",
      " 9   bki_request_cnt   110148 non-null  float64\n",
      " 10  region_rating     110148 non-null  float64\n",
      " 11  income            110148 non-null  float64\n",
      " 12  foreign_passport  110148 non-null  int32  \n",
      " 13  default           73799 non-null   float64\n",
      " 14  is_test           110148 non-null  int64  \n",
      " 15  apps_per_day      110148 non-null  float64\n",
      " 16  education_ACD     110148 non-null  uint8  \n",
      " 17  education_GRD     110148 non-null  uint8  \n",
      " 18  education_PGR     110148 non-null  uint8  \n",
      " 19  education_SCH     110148 non-null  uint8  \n",
      " 20  education_UGR     110148 non-null  uint8  \n",
      " 21  home_address_1    110148 non-null  uint8  \n",
      " 22  home_address_2    110148 non-null  uint8  \n",
      " 23  home_address_3    110148 non-null  uint8  \n",
      " 24  work_address_1    110148 non-null  uint8  \n",
      " 25  work_address_2    110148 non-null  uint8  \n",
      " 26  work_address_3    110148 non-null  uint8  \n",
      " 27  sna_1             110148 non-null  uint8  \n",
      " 28  sna_2             110148 non-null  uint8  \n",
      " 29  sna_3             110148 non-null  uint8  \n",
      " 30  sna_4             110148 non-null  uint8  \n",
      " 31  first_time_1      110148 non-null  uint8  \n",
      " 32  first_time_2      110148 non-null  uint8  \n",
      " 33  first_time_3      110148 non-null  uint8  \n",
      " 34  first_time_4      110148 non-null  uint8  \n",
      " 35  app_weekday_0     110148 non-null  uint8  \n",
      " 36  app_weekday_1     110148 non-null  uint8  \n",
      " 37  app_weekday_2     110148 non-null  uint8  \n",
      " 38  app_weekday_3     110148 non-null  uint8  \n",
      " 39  app_weekday_4     110148 non-null  uint8  \n",
      " 40  app_weekday_5     110148 non-null  uint8  \n",
      " 41  app_weekday_6     110148 non-null  uint8  \n",
      "dtypes: float64(9), int32(4), int64(3), uint8(26)\n",
      "memory usage: 14.5 MB\n"
     ]
    }
   ],
   "source": [
    "df.info()"
   ]
  },
  {
   "cell_type": "code",
   "execution_count": 47,
   "metadata": {
    "execution": {
     "iopub.execute_input": "2021-09-27T19:05:04.116888Z",
     "iopub.status.busy": "2021-09-27T19:05:04.116548Z",
     "iopub.status.idle": "2021-09-27T19:05:04.121611Z",
     "shell.execute_reply": "2021-09-27T19:05:04.119515Z",
     "shell.execute_reply.started": "2021-09-27T19:05:04.116860Z"
    }
   },
   "outputs": [],
   "source": [
    "cat_cols=dummy_cols"
   ]
  },
  {
   "cell_type": "markdown",
   "metadata": {},
   "source": [
    "# Модель"
   ]
  },
  {
   "cell_type": "code",
   "execution_count": 48,
   "metadata": {
    "execution": {
     "iopub.execute_input": "2021-09-27T19:05:04.123751Z",
     "iopub.status.busy": "2021-09-27T19:05:04.122825Z",
     "iopub.status.idle": "2021-09-27T19:05:04.157416Z",
     "shell.execute_reply": "2021-09-27T19:05:04.156542Z",
     "shell.execute_reply.started": "2021-09-27T19:05:04.123713Z"
    }
   },
   "outputs": [],
   "source": [
    "x = df[df.is_test == 0].drop(columns=['client_id','default'])\n",
    "y = df[df.is_test == 0]['default']"
   ]
  },
  {
   "cell_type": "code",
   "execution_count": 49,
   "metadata": {
    "_kg_hide-input": true,
    "execution": {
     "iopub.execute_input": "2021-09-27T19:05:04.159227Z",
     "iopub.status.busy": "2021-09-27T19:05:04.158602Z",
     "iopub.status.idle": "2021-09-27T19:05:04.170157Z",
     "shell.execute_reply": "2021-09-27T19:05:04.169140Z",
     "shell.execute_reply.started": "2021-09-27T19:05:04.159196Z"
    }
   },
   "outputs": [],
   "source": [
    "x_pred = df[df.is_test == 1].drop(columns=['client_id','default'])"
   ]
  },
  {
   "cell_type": "code",
   "execution_count": 50,
   "metadata": {
    "execution": {
     "iopub.execute_input": "2021-09-27T19:05:04.174505Z",
     "iopub.status.busy": "2021-09-27T19:05:04.174232Z",
     "iopub.status.idle": "2021-09-27T19:05:04.209069Z",
     "shell.execute_reply": "2021-09-27T19:05:04.208364Z",
     "shell.execute_reply.started": "2021-09-27T19:05:04.174473Z"
    }
   },
   "outputs": [],
   "source": [
    "x_train, x_test, y_train, y_test = train_test_split(\n",
    "    x, y, test_size=0.20, random_state=13)"
   ]
  },
  {
   "cell_type": "code",
   "execution_count": 51,
   "metadata": {
    "execution": {
     "iopub.execute_input": "2021-09-27T19:05:04.210541Z",
     "iopub.status.busy": "2021-09-27T19:05:04.210292Z",
     "iopub.status.idle": "2021-09-27T19:05:05.958620Z",
     "shell.execute_reply": "2021-09-27T19:05:05.957661Z",
     "shell.execute_reply.started": "2021-09-27T19:05:04.210512Z"
    }
   },
   "outputs": [
    {
     "data": {
      "text/plain": [
       "LogisticRegression(max_iter=1000, random_state=13)"
      ]
     },
     "execution_count": 51,
     "metadata": {},
     "output_type": "execute_result"
    }
   ],
   "source": [
    "model = LogisticRegression(random_state=13, max_iter=1000, solver='lbfgs')\n",
    "model.fit(x_train, y_train)"
   ]
  },
  {
   "cell_type": "code",
   "execution_count": 52,
   "metadata": {
    "execution": {
     "iopub.execute_input": "2021-09-27T19:05:05.960691Z",
     "iopub.status.busy": "2021-09-27T19:05:05.960081Z",
     "iopub.status.idle": "2021-09-27T19:05:05.985449Z",
     "shell.execute_reply": "2021-09-27T19:05:05.984391Z",
     "shell.execute_reply.started": "2021-09-27T19:05:05.960643Z"
    }
   },
   "outputs": [],
   "source": [
    "probs = model.predict_proba(x_test)\n",
    "probs = probs[:, 1]"
   ]
  },
  {
   "cell_type": "code",
   "execution_count": 53,
   "metadata": {
    "execution": {
     "iopub.execute_input": "2021-09-27T19:05:05.988161Z",
     "iopub.status.busy": "2021-09-27T19:05:05.987453Z",
     "iopub.status.idle": "2021-09-27T19:05:06.217896Z",
     "shell.execute_reply": "2021-09-27T19:05:06.217274Z",
     "shell.execute_reply.started": "2021-09-27T19:05:05.988109Z"
    }
   },
   "outputs": [
    {
     "data": {
      "image/png": "[encoded data removed]",
      "text/plain": [
       "<Figure size 432x288 with 1 Axes>"
      ]
     },
     "metadata": {
      "needs_background": "light"
     },
     "output_type": "display_data"
    }
   ],
   "source": [
    "fpr, tpr, threshold = roc_curve(y_test, probs)\n",
    "roc_auc = roc_auc_score(y_test, probs)\n",
    "\n",
    "plt.figure()\n",
    "plt.plot([0, 1], label='Baseline', linestyle='--')\n",
    "plt.plot(fpr, tpr, label='Regression')\n",
    "plt.title('Logistic Regression ROC AUC = %0.5f' % roc_auc)\n",
    "plt.ylabel('True Positive Rate')\n",
    "plt.xlabel('False Positive Rate')\n",
    "plt.legend(loc='lower right')\n",
    "plt.show()"
   ]
  },
  {
   "cell_type": "code",
   "execution_count": 54,
   "metadata": {
    "execution": {
     "iopub.execute_input": "2021-09-27T19:05:06.244625Z",
     "iopub.status.busy": "2021-09-27T19:05:06.243805Z",
     "iopub.status.idle": "2021-09-27T19:05:06.255653Z",
     "shell.execute_reply": "2021-09-27T19:05:06.254401Z",
     "shell.execute_reply.started": "2021-09-27T19:05:06.244570Z"
    }
   },
   "outputs": [],
   "source": [
    "y_pred = model.predict(x_test)"
   ]
  },
  {
   "cell_type": "code",
   "execution_count": 55,
   "metadata": {
    "execution": {
     "iopub.execute_input": "2021-09-27T19:05:06.459179Z",
     "iopub.status.busy": "2021-09-27T19:05:06.458911Z",
     "iopub.status.idle": "2021-09-27T19:05:06.467550Z",
     "shell.execute_reply": "2021-09-27T19:05:06.466640Z",
     "shell.execute_reply.started": "2021-09-27T19:05:06.459153Z"
    }
   },
   "outputs": [
    {
     "data": {
      "text/plain": [
       "0.0    14633\n",
       "1.0      127\n",
       "dtype: int64"
      ]
     },
     "execution_count": 55,
     "metadata": {},
     "output_type": "execute_result"
    }
   ],
   "source": [
    "pd.Series(y_pred).value_counts()"
   ]
  },
  {
   "cell_type": "code",
   "execution_count": 56,
   "metadata": {
    "execution": {
     "iopub.execute_input": "2021-09-27T19:05:06.998330Z",
     "iopub.status.busy": "2021-09-27T19:05:06.998028Z",
     "iopub.status.idle": "2021-09-27T19:05:07.009191Z",
     "shell.execute_reply": "2021-09-27T19:05:07.008096Z",
     "shell.execute_reply.started": "2021-09-27T19:05:06.998297Z"
    }
   },
   "outputs": [
    {
     "data": {
      "text/plain": [
       "count    14760.000000\n",
       "mean         0.129362\n",
       "std          0.102555\n",
       "min          0.004447\n",
       "25%          0.056563\n",
       "50%          0.098425\n",
       "75%          0.170583\n",
       "max          0.762773\n",
       "dtype: float64"
      ]
     },
     "execution_count": 56,
     "metadata": {},
     "output_type": "execute_result"
    }
   ],
   "source": [
    "pd.Series(probs).describe()"
   ]
  },
  {
   "cell_type": "code",
   "execution_count": 57,
   "metadata": {
    "execution": {
     "iopub.execute_input": "2021-09-27T19:05:07.916883Z",
     "iopub.status.busy": "2021-09-27T19:05:07.916063Z",
     "iopub.status.idle": "2021-09-27T19:05:07.945679Z",
     "shell.execute_reply": "2021-09-27T19:05:07.944862Z",
     "shell.execute_reply.started": "2021-09-27T19:05:07.916834Z"
    }
   },
   "outputs": [
    {
     "data": {
      "text/plain": [
       "array([[12850,    61],\n",
       "       [ 1783,    66]], dtype=int64)"
      ]
     },
     "execution_count": 57,
     "metadata": {},
     "output_type": "execute_result"
    }
   ],
   "source": [
    "confusion_matrix(y_test, y_pred)"
   ]
  },
  {
   "cell_type": "markdown",
   "metadata": {},
   "source": [
    "# Регуляризация"
   ]
  },
  {
   "cell_type": "code",
   "execution_count": 58,
   "metadata": {
    "execution": {
     "iopub.execute_input": "2021-09-27T19:05:10.199916Z",
     "iopub.status.busy": "2021-09-27T19:05:10.198941Z",
     "iopub.status.idle": "2021-09-27T19:05:10.204247Z",
     "shell.execute_reply": "2021-09-27T19:05:10.203479Z",
     "shell.execute_reply.started": "2021-09-27T19:05:10.199860Z"
    }
   },
   "outputs": [],
   "source": [
    "# Добавим типы регуляризации\n",
    "penalty = ['l2']"
   ]
  },
  {
   "cell_type": "code",
   "execution_count": 59,
   "metadata": {
    "execution": {
     "iopub.execute_input": "2021-09-27T19:05:11.376621Z",
     "iopub.status.busy": "2021-09-27T19:05:11.375897Z",
     "iopub.status.idle": "2021-09-27T19:05:11.385067Z",
     "shell.execute_reply": "2021-09-27T19:05:11.384100Z",
     "shell.execute_reply.started": "2021-09-27T19:05:11.376580Z"
    }
   },
   "outputs": [
    {
     "data": {
      "text/plain": [
       "array([  1.        ,   1.27427499,   1.62377674,   2.06913808,\n",
       "         2.6366509 ,   3.35981829,   4.2813324 ,   5.45559478,\n",
       "         6.95192796,   8.8586679 ,  11.28837892,  14.38449888,\n",
       "        18.32980711,  23.35721469,  29.76351442,  37.92690191,\n",
       "        48.32930239,  61.58482111,  78.47599704, 100.        ])"
      ]
     },
     "execution_count": 59,
     "metadata": {},
     "output_type": "execute_result"
    }
   ],
   "source": [
    "# Зададим ограничения для параметра регуляризации\n",
    "C = np.logspace(0, 2, 20)\n",
    "C"
   ]
  },
  {
   "cell_type": "code",
   "execution_count": 60,
   "metadata": {
    "execution": {
     "iopub.execute_input": "2021-09-27T19:05:14.201582Z",
     "iopub.status.busy": "2021-09-27T19:05:14.201289Z",
     "iopub.status.idle": "2021-09-27T19:05:14.206380Z",
     "shell.execute_reply": "2021-09-27T19:05:14.205303Z",
     "shell.execute_reply.started": "2021-09-27T19:05:14.201551Z"
    }
   },
   "outputs": [],
   "source": [
    "# Создадим гиперпараметры\n",
    "hyperparameters = dict(C=C, penalty=penalty)\n"
   ]
  },
  {
   "cell_type": "code",
   "execution_count": 61,
   "metadata": {
    "execution": {
     "iopub.execute_input": "2021-09-27T19:05:14.816745Z",
     "iopub.status.busy": "2021-09-27T19:05:14.816476Z",
     "iopub.status.idle": "2021-09-27T19:05:14.822946Z",
     "shell.execute_reply": "2021-09-27T19:05:14.821838Z",
     "shell.execute_reply.started": "2021-09-27T19:05:14.816718Z"
    }
   },
   "outputs": [],
   "source": [
    "# Создаем сетку поиска с использованием 5-кратной перекрестной проверки\n",
    "model = LogisticRegression(random_state=13, max_iter=1000, solver='lbfgs')\n",
    "clf = GridSearchCV(model, hyperparameters, cv=5, verbose=0)\n"
   ]
  },
  {
   "cell_type": "code",
   "execution_count": 62,
   "metadata": {
    "execution": {
     "iopub.execute_input": "2021-09-27T19:05:15.712597Z",
     "iopub.status.busy": "2021-09-27T19:05:15.712299Z",
     "iopub.status.idle": "2021-09-27T19:06:48.993958Z",
     "shell.execute_reply": "2021-09-27T19:06:48.992906Z",
     "shell.execute_reply.started": "2021-09-27T19:05:15.712562Z"
    }
   },
   "outputs": [],
   "source": [
    "best_model = clf.fit(x_train, y_train)"
   ]
  },
  {
   "cell_type": "code",
   "execution_count": 63,
   "metadata": {
    "execution": {
     "iopub.execute_input": "2021-09-27T19:06:48.996558Z",
     "iopub.status.busy": "2021-09-27T19:06:48.995939Z",
     "iopub.status.idle": "2021-09-27T19:06:49.005089Z",
     "shell.execute_reply": "2021-09-27T19:06:49.004172Z",
     "shell.execute_reply.started": "2021-09-27T19:06:48.996514Z"
    }
   },
   "outputs": [
    {
     "name": "stdout",
     "output_type": "stream",
     "text": [
      "Лучшее Penalty: l2\n",
      "Лучшее C: 1.2742749857031337\n"
     ]
    }
   ],
   "source": [
    "# View best hyperparameters\n",
    "print('Лучшее Penalty:', best_model.best_estimator_.get_params()['penalty'])\n",
    "print('Лучшее C:', best_model.best_estimator_.get_params()['C'])"
   ]
  },
  {
   "cell_type": "code",
   "execution_count": 64,
   "metadata": {
    "execution": {
     "iopub.execute_input": "2021-09-27T19:06:49.007550Z",
     "iopub.status.busy": "2021-09-27T19:06:49.006966Z",
     "iopub.status.idle": "2021-09-27T19:06:49.017346Z",
     "shell.execute_reply": "2021-09-27T19:06:49.016221Z",
     "shell.execute_reply.started": "2021-09-27T19:06:49.007507Z"
    }
   },
   "outputs": [],
   "source": [
    "p = best_model.best_estimator_.get_params()['penalty']\n",
    "c = best_model.best_estimator_.get_params()['C']"
   ]
  },
  {
   "cell_type": "code",
   "execution_count": 65,
   "metadata": {
    "execution": {
     "iopub.execute_input": "2021-09-27T19:06:49.021921Z",
     "iopub.status.busy": "2021-09-27T19:06:49.020541Z",
     "iopub.status.idle": "2021-09-27T19:06:49.036095Z",
     "shell.execute_reply": "2021-09-27T19:06:49.034598Z",
     "shell.execute_reply.started": "2021-09-27T19:06:49.021813Z"
    }
   },
   "outputs": [],
   "source": [
    "model = LogisticRegression(penalty=p,C=c, random_state=13, max_iter=1000, solver='lbfgs')"
   ]
  },
  {
   "cell_type": "code",
   "execution_count": 66,
   "metadata": {
    "execution": {
     "iopub.execute_input": "2021-09-27T19:06:49.037749Z",
     "iopub.status.busy": "2021-09-27T19:06:49.037411Z",
     "iopub.status.idle": "2021-09-27T19:06:50.878267Z",
     "shell.execute_reply": "2021-09-27T19:06:50.877442Z",
     "shell.execute_reply.started": "2021-09-27T19:06:49.037708Z"
    }
   },
   "outputs": [
    {
     "data": {
      "text/plain": [
       "LogisticRegression(C=1.2742749857031337, max_iter=1000, random_state=13)"
      ]
     },
     "execution_count": 66,
     "metadata": {},
     "output_type": "execute_result"
    }
   ],
   "source": [
    "model.fit(x_train, y_train)"
   ]
  },
  {
   "cell_type": "code",
   "execution_count": 67,
   "metadata": {
    "execution": {
     "iopub.execute_input": "2021-09-27T19:06:50.880020Z",
     "iopub.status.busy": "2021-09-27T19:06:50.879542Z",
     "iopub.status.idle": "2021-09-27T19:06:50.892094Z",
     "shell.execute_reply": "2021-09-27T19:06:50.891128Z",
     "shell.execute_reply.started": "2021-09-27T19:06:50.879978Z"
    }
   },
   "outputs": [],
   "source": [
    "probs = model.predict_proba(x_test)\n",
    "probs = probs[:, 1]"
   ]
  },
  {
   "cell_type": "code",
   "execution_count": 68,
   "metadata": {
    "execution": {
     "iopub.execute_input": "2021-09-27T19:06:50.894014Z",
     "iopub.status.busy": "2021-09-27T19:06:50.893474Z",
     "iopub.status.idle": "2021-09-27T19:06:51.129074Z",
     "shell.execute_reply": "2021-09-27T19:06:51.128064Z",
     "shell.execute_reply.started": "2021-09-27T19:06:50.893971Z"
    }
   },
   "outputs": [
    {
     "data": {
      "image/png": "[encoded data removed]",
      "text/plain": [
       "<Figure size 432x288 with 1 Axes>"
      ]
     },
     "metadata": {
      "needs_background": "light"
     },
     "output_type": "display_data"
    }
   ],
   "source": [
    "fpr, tpr, threshold = roc_curve(y_test, probs)\n",
    "roc_auc = roc_auc_score(y_test, probs)\n",
    "\n",
    "plt.figure()\n",
    "plt.plot([0, 1], label='Baseline', linestyle='--')\n",
    "plt.plot(fpr, tpr, label='Regression')\n",
    "plt.title('Logistic Regression ROC AUC = %0.5f' % roc_auc)\n",
    "plt.ylabel('True Positive Rate')\n",
    "plt.xlabel('False Positive Rate')\n",
    "plt.legend(loc='lower right')\n",
    "plt.show()"
   ]
  },
  {
   "cell_type": "markdown",
   "metadata": {},
   "source": [
    "Регуляризация не показала видимого улучшения качества модели."
   ]
  },
  {
   "cell_type": "code",
   "execution_count": 69,
   "metadata": {
    "execution": {
     "iopub.execute_input": "2021-09-27T19:06:51.131364Z",
     "iopub.status.busy": "2021-09-27T19:06:51.130694Z",
     "iopub.status.idle": "2021-09-27T19:06:51.144713Z",
     "shell.execute_reply": "2021-09-27T19:06:51.143441Z",
     "shell.execute_reply.started": "2021-09-27T19:06:51.131315Z"
    }
   },
   "outputs": [],
   "source": [
    "y_pred = model.predict(x_test)"
   ]
  },
  {
   "cell_type": "code",
   "execution_count": 70,
   "metadata": {
    "execution": {
     "iopub.execute_input": "2021-09-27T19:06:51.146732Z",
     "iopub.status.busy": "2021-09-27T19:06:51.146324Z",
     "iopub.status.idle": "2021-09-27T19:06:51.197874Z",
     "shell.execute_reply": "2021-09-27T19:06:51.197000Z",
     "shell.execute_reply.started": "2021-09-27T19:06:51.146681Z"
    }
   },
   "outputs": [
    {
     "data": {
      "text/plain": [
       "array([[12850,    61],\n",
       "       [ 1783,    66]], dtype=int64)"
      ]
     },
     "execution_count": 70,
     "metadata": {},
     "output_type": "execute_result"
    }
   ],
   "source": [
    "confusion_matrix(y_test, y_pred)"
   ]
  },
  {
   "cell_type": "markdown",
   "metadata": {},
   "source": [
    "# Результат"
   ]
  },
  {
   "cell_type": "code",
   "execution_count": 71,
   "metadata": {
    "execution": {
     "iopub.execute_input": "2021-09-27T19:06:51.201514Z",
     "iopub.status.busy": "2021-09-27T19:06:51.200858Z",
     "iopub.status.idle": "2021-09-27T19:06:51.224608Z",
     "shell.execute_reply": "2021-09-27T19:06:51.223567Z",
     "shell.execute_reply.started": "2021-09-27T19:06:51.201460Z"
    }
   },
   "outputs": [],
   "source": [
    "y_pred = model.predict(x_pred)\n",
    "y_pred_proba = model.predict_proba(x_pred)"
   ]
  },
  {
   "cell_type": "code",
   "execution_count": 72,
   "metadata": {
    "execution": {
     "iopub.execute_input": "2021-09-27T19:06:51.227168Z",
     "iopub.status.busy": "2021-09-27T19:06:51.226123Z",
     "iopub.status.idle": "2021-09-27T19:06:51.275998Z",
     "shell.execute_reply": "2021-09-27T19:06:51.275106Z",
     "shell.execute_reply.started": "2021-09-27T19:06:51.227124Z"
    }
   },
   "outputs": [
    {
     "data": {
      "text/html": [
       "<div>\n",
       "<style scoped>\n",
       "    .dataframe tbody tr th:only-of-type {\n",
       "        vertical-align: middle;\n",
       "    }\n",
       "\n",
       "    .dataframe tbody tr th {\n",
       "        vertical-align: top;\n",
       "    }\n",
       "\n",
       "    .dataframe thead th {\n",
       "        text-align: right;\n",
       "    }\n",
       "</style>\n",
       "<table border=\"1\" class=\"dataframe\">\n",
       "  <thead>\n",
       "    <tr style=\"text-align: right;\">\n",
       "      <th></th>\n",
       "      <th>app_date</th>\n",
       "      <th>sex</th>\n",
       "      <th>age</th>\n",
       "      <th>car</th>\n",
       "      <th>car_type</th>\n",
       "      <th>decline_app_cnt</th>\n",
       "      <th>good_work</th>\n",
       "      <th>score_bki</th>\n",
       "      <th>bki_request_cnt</th>\n",
       "      <th>region_rating</th>\n",
       "      <th>...</th>\n",
       "      <th>first_time_2</th>\n",
       "      <th>first_time_3</th>\n",
       "      <th>first_time_4</th>\n",
       "      <th>app_weekday_0</th>\n",
       "      <th>app_weekday_1</th>\n",
       "      <th>app_weekday_2</th>\n",
       "      <th>app_weekday_3</th>\n",
       "      <th>app_weekday_4</th>\n",
       "      <th>app_weekday_5</th>\n",
       "      <th>app_weekday_6</th>\n",
       "    </tr>\n",
       "  </thead>\n",
       "  <tbody>\n",
       "    <tr>\n",
       "      <th>73799</th>\n",
       "      <td>0.487897</td>\n",
       "      <td>1</td>\n",
       "      <td>-0.888776</td>\n",
       "      <td>1</td>\n",
       "      <td>1</td>\n",
       "      <td>-0.418815</td>\n",
       "      <td>0</td>\n",
       "      <td>-0.735587</td>\n",
       "      <td>0.770563</td>\n",
       "      <td>-0.516704</td>\n",
       "      <td>...</td>\n",
       "      <td>0</td>\n",
       "      <td>0</td>\n",
       "      <td>1</td>\n",
       "      <td>0</td>\n",
       "      <td>0</td>\n",
       "      <td>0</td>\n",
       "      <td>0</td>\n",
       "      <td>0</td>\n",
       "      <td>1</td>\n",
       "      <td>0</td>\n",
       "    </tr>\n",
       "    <tr>\n",
       "      <th>73800</th>\n",
       "      <td>-1.351115</td>\n",
       "      <td>0</td>\n",
       "      <td>0.120447</td>\n",
       "      <td>0</td>\n",
       "      <td>0</td>\n",
       "      <td>4.539989</td>\n",
       "      <td>0</td>\n",
       "      <td>0.800039</td>\n",
       "      <td>0.333797</td>\n",
       "      <td>-0.516704</td>\n",
       "      <td>...</td>\n",
       "      <td>0</td>\n",
       "      <td>1</td>\n",
       "      <td>0</td>\n",
       "      <td>0</td>\n",
       "      <td>0</td>\n",
       "      <td>0</td>\n",
       "      <td>0</td>\n",
       "      <td>1</td>\n",
       "      <td>0</td>\n",
       "      <td>0</td>\n",
       "    </tr>\n",
       "    <tr>\n",
       "      <th>73801</th>\n",
       "      <td>0.497185</td>\n",
       "      <td>1</td>\n",
       "      <td>0.972731</td>\n",
       "      <td>1</td>\n",
       "      <td>1</td>\n",
       "      <td>-0.418815</td>\n",
       "      <td>0</td>\n",
       "      <td>0.426908</td>\n",
       "      <td>-0.281790</td>\n",
       "      <td>-0.516704</td>\n",
       "      <td>...</td>\n",
       "      <td>0</td>\n",
       "      <td>1</td>\n",
       "      <td>0</td>\n",
       "      <td>0</td>\n",
       "      <td>0</td>\n",
       "      <td>0</td>\n",
       "      <td>0</td>\n",
       "      <td>0</td>\n",
       "      <td>0</td>\n",
       "      <td>1</td>\n",
       "    </tr>\n",
       "    <tr>\n",
       "      <th>73802</th>\n",
       "      <td>-0.617368</td>\n",
       "      <td>1</td>\n",
       "      <td>1.362924</td>\n",
       "      <td>0</td>\n",
       "      <td>0</td>\n",
       "      <td>-0.418815</td>\n",
       "      <td>0</td>\n",
       "      <td>-0.940432</td>\n",
       "      <td>-0.281790</td>\n",
       "      <td>-1.282058</td>\n",
       "      <td>...</td>\n",
       "      <td>0</td>\n",
       "      <td>1</td>\n",
       "      <td>0</td>\n",
       "      <td>1</td>\n",
       "      <td>0</td>\n",
       "      <td>0</td>\n",
       "      <td>0</td>\n",
       "      <td>0</td>\n",
       "      <td>0</td>\n",
       "      <td>0</td>\n",
       "    </tr>\n",
       "    <tr>\n",
       "      <th>73803</th>\n",
       "      <td>-0.608080</td>\n",
       "      <td>0</td>\n",
       "      <td>0.031629</td>\n",
       "      <td>0</td>\n",
       "      <td>0</td>\n",
       "      <td>-0.418815</td>\n",
       "      <td>0</td>\n",
       "      <td>-1.167347</td>\n",
       "      <td>-1.334144</td>\n",
       "      <td>1.779355</td>\n",
       "      <td>...</td>\n",
       "      <td>0</td>\n",
       "      <td>1</td>\n",
       "      <td>0</td>\n",
       "      <td>0</td>\n",
       "      <td>1</td>\n",
       "      <td>0</td>\n",
       "      <td>0</td>\n",
       "      <td>0</td>\n",
       "      <td>0</td>\n",
       "      <td>0</td>\n",
       "    </tr>\n",
       "    <tr>\n",
       "      <th>...</th>\n",
       "      <td>...</td>\n",
       "      <td>...</td>\n",
       "      <td>...</td>\n",
       "      <td>...</td>\n",
       "      <td>...</td>\n",
       "      <td>...</td>\n",
       "      <td>...</td>\n",
       "      <td>...</td>\n",
       "      <td>...</td>\n",
       "      <td>...</td>\n",
       "      <td>...</td>\n",
       "      <td>...</td>\n",
       "      <td>...</td>\n",
       "      <td>...</td>\n",
       "      <td>...</td>\n",
       "      <td>...</td>\n",
       "      <td>...</td>\n",
       "      <td>...</td>\n",
       "      <td>...</td>\n",
       "      <td>...</td>\n",
       "      <td>...</td>\n",
       "    </tr>\n",
       "    <tr>\n",
       "      <th>110143</th>\n",
       "      <td>0.571488</td>\n",
       "      <td>0</td>\n",
       "      <td>-0.059496</td>\n",
       "      <td>0</td>\n",
       "      <td>0</td>\n",
       "      <td>1.499512</td>\n",
       "      <td>0</td>\n",
       "      <td>0.319505</td>\n",
       "      <td>0.770563</td>\n",
       "      <td>-0.516704</td>\n",
       "      <td>...</td>\n",
       "      <td>0</td>\n",
       "      <td>0</td>\n",
       "      <td>0</td>\n",
       "      <td>1</td>\n",
       "      <td>0</td>\n",
       "      <td>0</td>\n",
       "      <td>0</td>\n",
       "      <td>0</td>\n",
       "      <td>0</td>\n",
       "      <td>0</td>\n",
       "    </tr>\n",
       "    <tr>\n",
       "      <th>110144</th>\n",
       "      <td>1.444554</td>\n",
       "      <td>0</td>\n",
       "      <td>1.823666</td>\n",
       "      <td>1</td>\n",
       "      <td>1</td>\n",
       "      <td>-0.418815</td>\n",
       "      <td>0</td>\n",
       "      <td>-0.779436</td>\n",
       "      <td>0.770563</td>\n",
       "      <td>0.248649</td>\n",
       "      <td>...</td>\n",
       "      <td>0</td>\n",
       "      <td>0</td>\n",
       "      <td>1</td>\n",
       "      <td>0</td>\n",
       "      <td>0</td>\n",
       "      <td>0</td>\n",
       "      <td>0</td>\n",
       "      <td>1</td>\n",
       "      <td>0</td>\n",
       "      <td>0</td>\n",
       "    </tr>\n",
       "    <tr>\n",
       "      <th>110145</th>\n",
       "      <td>0.562200</td>\n",
       "      <td>1</td>\n",
       "      <td>-0.662367</td>\n",
       "      <td>0</td>\n",
       "      <td>0</td>\n",
       "      <td>2.621662</td>\n",
       "      <td>0</td>\n",
       "      <td>1.929901</td>\n",
       "      <td>-0.281790</td>\n",
       "      <td>-0.516704</td>\n",
       "      <td>...</td>\n",
       "      <td>1</td>\n",
       "      <td>0</td>\n",
       "      <td>0</td>\n",
       "      <td>0</td>\n",
       "      <td>0</td>\n",
       "      <td>0</td>\n",
       "      <td>0</td>\n",
       "      <td>0</td>\n",
       "      <td>0</td>\n",
       "      <td>1</td>\n",
       "    </tr>\n",
       "    <tr>\n",
       "      <th>110146</th>\n",
       "      <td>-1.509010</td>\n",
       "      <td>0</td>\n",
       "      <td>-1.130811</td>\n",
       "      <td>0</td>\n",
       "      <td>0</td>\n",
       "      <td>1.499512</td>\n",
       "      <td>0</td>\n",
       "      <td>1.325890</td>\n",
       "      <td>0.333797</td>\n",
       "      <td>1.779355</td>\n",
       "      <td>...</td>\n",
       "      <td>0</td>\n",
       "      <td>0</td>\n",
       "      <td>0</td>\n",
       "      <td>0</td>\n",
       "      <td>1</td>\n",
       "      <td>0</td>\n",
       "      <td>0</td>\n",
       "      <td>0</td>\n",
       "      <td>0</td>\n",
       "      <td>0</td>\n",
       "    </tr>\n",
       "    <tr>\n",
       "      <th>110147</th>\n",
       "      <td>0.441457</td>\n",
       "      <td>1</td>\n",
       "      <td>0.031629</td>\n",
       "      <td>0</td>\n",
       "      <td>0</td>\n",
       "      <td>-0.418815</td>\n",
       "      <td>0</td>\n",
       "      <td>0.794933</td>\n",
       "      <td>0.333797</td>\n",
       "      <td>-0.516704</td>\n",
       "      <td>...</td>\n",
       "      <td>1</td>\n",
       "      <td>0</td>\n",
       "      <td>0</td>\n",
       "      <td>1</td>\n",
       "      <td>0</td>\n",
       "      <td>0</td>\n",
       "      <td>0</td>\n",
       "      <td>0</td>\n",
       "      <td>0</td>\n",
       "      <td>0</td>\n",
       "    </tr>\n",
       "  </tbody>\n",
       "</table>\n",
       "<p>36349 rows × 40 columns</p>\n",
       "</div>"
      ],
      "text/plain": [
       "        app_date  sex       age  car  car_type  decline_app_cnt  good_work  \\\n",
       "73799   0.487897    1 -0.888776    1         1        -0.418815          0   \n",
       "73800  -1.351115    0  0.120447    0         0         4.539989          0   \n",
       "73801   0.497185    1  0.972731    1         1        -0.418815          0   \n",
       "73802  -0.617368    1  1.362924    0         0        -0.418815          0   \n",
       "73803  -0.608080    0  0.031629    0         0        -0.418815          0   \n",
       "...          ...  ...       ...  ...       ...              ...        ...   \n",
       "110143  0.571488    0 -0.059496    0         0         1.499512          0   \n",
       "110144  1.444554    0  1.823666    1         1        -0.418815          0   \n",
       "110145  0.562200    1 -0.662367    0         0         2.621662          0   \n",
       "110146 -1.509010    0 -1.130811    0         0         1.499512          0   \n",
       "110147  0.441457    1  0.031629    0         0        -0.418815          0   \n",
       "\n",
       "        score_bki  bki_request_cnt  region_rating  ...  first_time_2  \\\n",
       "73799   -0.735587         0.770563      -0.516704  ...             0   \n",
       "73800    0.800039         0.333797      -0.516704  ...             0   \n",
       "73801    0.426908        -0.281790      -0.516704  ...             0   \n",
       "73802   -0.940432        -0.281790      -1.282058  ...             0   \n",
       "73803   -1.167347        -1.334144       1.779355  ...             0   \n",
       "...           ...              ...            ...  ...           ...   \n",
       "110143   0.319505         0.770563      -0.516704  ...             0   \n",
       "110144  -0.779436         0.770563       0.248649  ...             0   \n",
       "110145   1.929901        -0.281790      -0.516704  ...             1   \n",
       "110146   1.325890         0.333797       1.779355  ...             0   \n",
       "110147   0.794933         0.333797      -0.516704  ...             1   \n",
       "\n",
       "        first_time_3  first_time_4  app_weekday_0  app_weekday_1  \\\n",
       "73799              0             1              0              0   \n",
       "73800              1             0              0              0   \n",
       "73801              1             0              0              0   \n",
       "73802              1             0              1              0   \n",
       "73803              1             0              0              1   \n",
       "...              ...           ...            ...            ...   \n",
       "110143             0             0              1              0   \n",
       "110144             0             1              0              0   \n",
       "110145             0             0              0              0   \n",
       "110146             0             0              0              1   \n",
       "110147             0             0              1              0   \n",
       "\n",
       "        app_weekday_2  app_weekday_3  app_weekday_4  app_weekday_5  \\\n",
       "73799               0              0              0              1   \n",
       "73800               0              0              1              0   \n",
       "73801               0              0              0              0   \n",
       "73802               0              0              0              0   \n",
       "73803               0              0              0              0   \n",
       "...               ...            ...            ...            ...   \n",
       "110143              0              0              0              0   \n",
       "110144              0              0              1              0   \n",
       "110145              0              0              0              0   \n",
       "110146              0              0              0              0   \n",
       "110147              0              0              0              0   \n",
       "\n",
       "        app_weekday_6  \n",
       "73799               0  \n",
       "73800               0  \n",
       "73801               1  \n",
       "73802               0  \n",
       "73803               0  \n",
       "...               ...  \n",
       "110143              0  \n",
       "110144              0  \n",
       "110145              1  \n",
       "110146              0  \n",
       "110147              0  \n",
       "\n",
       "[36349 rows x 40 columns]"
      ]
     },
     "execution_count": 72,
     "metadata": {},
     "output_type": "execute_result"
    }
   ],
   "source": [
    "x_pred"
   ]
  },
  {
   "cell_type": "code",
   "execution_count": 73,
   "metadata": {
    "execution": {
     "iopub.execute_input": "2021-09-27T19:06:51.277937Z",
     "iopub.status.busy": "2021-09-27T19:06:51.277389Z",
     "iopub.status.idle": "2021-09-27T19:06:51.285456Z",
     "shell.execute_reply": "2021-09-27T19:06:51.284594Z",
     "shell.execute_reply.started": "2021-09-27T19:06:51.277893Z"
    }
   },
   "outputs": [
    {
     "data": {
      "text/plain": [
       "array([0., 0., 0., ..., 0., 0., 0.])"
      ]
     },
     "execution_count": 73,
     "metadata": {},
     "output_type": "execute_result"
    }
   ],
   "source": [
    "y_pred"
   ]
  },
  {
   "cell_type": "code",
   "execution_count": 74,
   "metadata": {
    "execution": {
     "iopub.execute_input": "2021-09-27T19:06:51.287731Z",
     "iopub.status.busy": "2021-09-27T19:06:51.287158Z",
     "iopub.status.idle": "2021-09-27T19:06:51.299558Z",
     "shell.execute_reply": "2021-09-27T19:06:51.298470Z",
     "shell.execute_reply.started": "2021-09-27T19:06:51.287677Z"
    }
   },
   "outputs": [
    {
     "data": {
      "text/plain": [
       "array([0.04026953, 0.34357085, 0.06355177, ..., 0.34593068, 0.18496809,\n",
       "       0.26348417])"
      ]
     },
     "execution_count": 74,
     "metadata": {},
     "output_type": "execute_result"
    }
   ],
   "source": [
    "y_pred_proba[:,1]"
   ]
  },
  {
   "cell_type": "code",
   "execution_count": 75,
   "metadata": {
    "execution": {
     "iopub.execute_input": "2021-09-27T19:06:51.302879Z",
     "iopub.status.busy": "2021-09-27T19:06:51.301599Z",
     "iopub.status.idle": "2021-09-27T19:06:51.314004Z",
     "shell.execute_reply": "2021-09-27T19:06:51.312890Z",
     "shell.execute_reply.started": "2021-09-27T19:06:51.302823Z"
    }
   },
   "outputs": [
    {
     "data": {
      "text/plain": [
       "36349"
      ]
     },
     "execution_count": 75,
     "metadata": {},
     "output_type": "execute_result"
    }
   ],
   "source": [
    "len(y_pred)"
   ]
  },
  {
   "cell_type": "code",
   "execution_count": 76,
   "metadata": {
    "execution": {
     "iopub.execute_input": "2021-09-27T19:06:51.317151Z",
     "iopub.status.busy": "2021-09-27T19:06:51.316392Z",
     "iopub.status.idle": "2021-09-27T19:06:51.337987Z",
     "shell.execute_reply": "2021-09-27T19:06:51.336933Z",
     "shell.execute_reply.started": "2021-09-27T19:06:51.317099Z"
    }
   },
   "outputs": [
    {
     "data": {
      "text/html": [
       "<div>\n",
       "<style scoped>\n",
       "    .dataframe tbody tr th:only-of-type {\n",
       "        vertical-align: middle;\n",
       "    }\n",
       "\n",
       "    .dataframe tbody tr th {\n",
       "        vertical-align: top;\n",
       "    }\n",
       "\n",
       "    .dataframe thead th {\n",
       "        text-align: right;\n",
       "    }\n",
       "</style>\n",
       "<table border=\"1\" class=\"dataframe\">\n",
       "  <thead>\n",
       "    <tr style=\"text-align: right;\">\n",
       "      <th></th>\n",
       "      <th>client_id</th>\n",
       "      <th>default</th>\n",
       "    </tr>\n",
       "  </thead>\n",
       "  <tbody>\n",
       "    <tr>\n",
       "      <th>0</th>\n",
       "      <td>74835</td>\n",
       "      <td>0.040270</td>\n",
       "    </tr>\n",
       "    <tr>\n",
       "      <th>1</th>\n",
       "      <td>17527</td>\n",
       "      <td>0.343571</td>\n",
       "    </tr>\n",
       "    <tr>\n",
       "      <th>2</th>\n",
       "      <td>75683</td>\n",
       "      <td>0.063552</td>\n",
       "    </tr>\n",
       "    <tr>\n",
       "      <th>3</th>\n",
       "      <td>26883</td>\n",
       "      <td>0.090152</td>\n",
       "    </tr>\n",
       "    <tr>\n",
       "      <th>4</th>\n",
       "      <td>28862</td>\n",
       "      <td>0.025914</td>\n",
       "    </tr>\n",
       "    <tr>\n",
       "      <th>...</th>\n",
       "      <td>...</td>\n",
       "      <td>...</td>\n",
       "    </tr>\n",
       "    <tr>\n",
       "      <th>36344</th>\n",
       "      <td>83775</td>\n",
       "      <td>0.342792</td>\n",
       "    </tr>\n",
       "    <tr>\n",
       "      <th>36345</th>\n",
       "      <td>106254</td>\n",
       "      <td>0.015395</td>\n",
       "    </tr>\n",
       "    <tr>\n",
       "      <th>36346</th>\n",
       "      <td>81852</td>\n",
       "      <td>0.345931</td>\n",
       "    </tr>\n",
       "    <tr>\n",
       "      <th>36347</th>\n",
       "      <td>1971</td>\n",
       "      <td>0.184968</td>\n",
       "    </tr>\n",
       "    <tr>\n",
       "      <th>36348</th>\n",
       "      <td>69044</td>\n",
       "      <td>0.263484</td>\n",
       "    </tr>\n",
       "  </tbody>\n",
       "</table>\n",
       "<p>36349 rows × 2 columns</p>\n",
       "</div>"
      ],
      "text/plain": [
       "       client_id   default\n",
       "0          74835  0.040270\n",
       "1          17527  0.343571\n",
       "2          75683  0.063552\n",
       "3          26883  0.090152\n",
       "4          28862  0.025914\n",
       "...          ...       ...\n",
       "36344      83775  0.342792\n",
       "36345     106254  0.015395\n",
       "36346      81852  0.345931\n",
       "36347       1971  0.184968\n",
       "36348      69044  0.263484\n",
       "\n",
       "[36349 rows x 2 columns]"
      ]
     },
     "execution_count": 76,
     "metadata": {},
     "output_type": "execute_result"
    }
   ],
   "source": [
    "submission_proba = df_test.client_id.to_frame()\n",
    "submission_proba['default'] = y_pred_proba[:,1]\n",
    "submission_proba"
   ]
  },
  {
   "cell_type": "code",
   "execution_count": 77,
   "metadata": {
    "execution": {
     "iopub.execute_input": "2021-09-27T19:06:51.341209Z",
     "iopub.status.busy": "2021-09-27T19:06:51.340509Z",
     "iopub.status.idle": "2021-09-27T19:06:51.486436Z",
     "shell.execute_reply": "2021-09-27T19:06:51.485562Z",
     "shell.execute_reply.started": "2021-09-27T19:06:51.341160Z"
    }
   },
   "outputs": [],
   "source": [
    "submission_proba.to_csv('submission.csv', index = False)"
   ]
  },
  {
   "cell_type": "code",
   "execution_count": null,
   "metadata": {},
   "outputs": [],
   "source": []
  }
 ],
 "metadata": {
  "kernelspec": {
   "display_name": "Python 3",
   "language": "python",
   "name": "python3"
  },
  "language_info": {
   "codemirror_mode": {
    "name": "ipython",
    "version": 3
   },
   "file_extension": ".py",
   "mimetype": "text/x-python",
   "name": "python",
   "nbconvert_exporter": "python",
   "pygments_lexer": "ipython3",
   "version": "3.8.3"
  }
 },
 "nbformat": 4,
 "nbformat_minor": 4
}
