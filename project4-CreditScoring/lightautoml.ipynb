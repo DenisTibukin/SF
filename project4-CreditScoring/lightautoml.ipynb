{
 "cells": [
  {
   "cell_type": "markdown",
   "metadata": {},
   "source": [
    "## Официальный github репозиторий с библиотекой LightAutoML находится [тут](https://github.com/sberbank-ai-lab/LightAutoML)\n",
    "\n",
    "# Шаг 0.0. Установка LightAutoML"
   ]
  },
  {
   "cell_type": "markdown",
   "metadata": {},
   "source": [
    "Данный шаг требуется, если работа ведется не со скачанным из github репозитория кодом, а, например, в Google Colab/Kaggle kernels или вы хотите установить LightAutoML на свою машину: "
   ]
  },
  {
   "cell_type": "code",
   "execution_count": null,
   "metadata": {
    "execution": {
     "iopub.execute_input": "2021-09-22T19:28:26.55276Z",
     "iopub.status.busy": "2021-09-22T19:28:26.55208Z",
     "iopub.status.idle": "2021-09-22T19:28:47.987891Z",
     "shell.execute_reply": "2021-09-22T19:28:47.986843Z",
     "shell.execute_reply.started": "2021-09-22T19:28:26.552712Z"
    }
   },
   "outputs": [],
   "source": [
    "!pip install -U lightautoml"
   ]
  },
  {
   "cell_type": "markdown",
   "metadata": {},
   "source": [
    "# Шаг 0.1. Импорт нужных библиотек\n",
    "\n",
    "Здесь мы импортируем все то, что будем использовать в процессе работы:\n",
    "- Стандартные библиотеки питона для логгинга, закачки данных и т.п.\n",
    "- Стандартные DS библиотеки типа numpy, pandas и scikit-learn, a также torch (в следующей ячейке поймем зачем)\n",
    "- Модули нашего LightAutoML, такие как пресеты, таск и декоратор отчетов"
   ]
  },
  {
   "cell_type": "code",
   "execution_count": null,
   "metadata": {
    "execution": {
     "iopub.execute_input": "2021-09-22T19:28:55.429059Z",
     "iopub.status.busy": "2021-09-22T19:28:55.428708Z",
     "iopub.status.idle": "2021-09-22T19:29:05.082007Z",
     "shell.execute_reply": "2021-09-22T19:29:05.081363Z",
     "shell.execute_reply.started": "2021-09-22T19:28:55.429024Z"
    }
   },
   "outputs": [],
   "source": [
    "# Стандартные питоновские библиотеки\n",
    "import os\n",
    "import time\n",
    "import requests\n",
    "\n",
    "# Дополнительное полезное\n",
    "import numpy as np\n",
    "import pandas as pd\n",
    "from sklearn.metrics import roc_auc_score\n",
    "from sklearn.model_selection import train_test_split\n",
    "import torch\n",
    "\n",
    "# Импорт пресетов, таска и профайлера\n",
    "from lightautoml.automl.presets.tabular_presets import TabularUtilizedAutoML\n",
    "from lightautoml.tasks import Task"
   ]
  },
  {
   "cell_type": "markdown",
   "metadata": {},
   "source": [
    "# Шаг 0.2. Используемые константы\n",
    "\n",
    "Заранее зададим некоторые параметры-константы, которые будем использовать в процессе решения:\n",
    "- `N_THREADS` - количество виртуальных ядер ЦПУ, которые выделяются для решения задачи\n",
    "- `RANDOM_STATE` - случайный сид для воспроизводимости\n",
    "- `TEST_SIZE` - доля данных, которую отложим в houldout\n",
    "- `TIMEOUT` - лимит по времени работы (в секундах), который выделяется на решение задачи\n",
    "- `TARGET_NAME` - название колонки с целевой переменной"
   ]
  },
  {
   "cell_type": "code",
   "execution_count": null,
   "metadata": {
    "execution": {
     "iopub.execute_input": "2021-09-22T19:29:05.083603Z",
     "iopub.status.busy": "2021-09-22T19:29:05.083278Z",
     "iopub.status.idle": "2021-09-22T19:29:05.087215Z",
     "shell.execute_reply": "2021-09-22T19:29:05.086436Z",
     "shell.execute_reply.started": "2021-09-22T19:29:05.083575Z"
    }
   },
   "outputs": [],
   "source": [
    "N_THREADS = 4 \n",
    "RANDOM_STATE = 42\n",
    "TIMEOUT = 8 * 3600\n",
    "TARGET_NAME = 'default'"
   ]
  },
  {
   "cell_type": "markdown",
   "metadata": {},
   "source": [
    "# Шаг 0.3. Предварительный сетап используемых библиотек\n",
    "\n",
    "Для большей гарантии воспроизводимости зафиксируем случайный сид из numpy, а также установим максимальное количество потоков для Torch (который очень любит раскатываться на все доступные потоки сервера):"
   ]
  },
  {
   "cell_type": "code",
   "execution_count": null,
   "metadata": {
    "execution": {
     "iopub.execute_input": "2021-09-22T19:29:05.088488Z",
     "iopub.status.busy": "2021-09-22T19:29:05.088188Z",
     "iopub.status.idle": "2021-09-22T19:29:05.112423Z",
     "shell.execute_reply": "2021-09-22T19:29:05.111521Z",
     "shell.execute_reply.started": "2021-09-22T19:29:05.088463Z"
    }
   },
   "outputs": [],
   "source": [
    "np.random.seed(RANDOM_STATE)\n",
    "torch.set_num_threads(N_THREADS)"
   ]
  },
  {
   "cell_type": "markdown",
   "metadata": {},
   "source": [
    "# Шаг 0.4. Загрузка данных "
   ]
  },
  {
   "cell_type": "markdown",
   "metadata": {},
   "source": [
    "Загрузим файлы с данными, которые будем в дальнейшем использовать:"
   ]
  },
  {
   "cell_type": "code",
   "execution_count": null,
   "metadata": {
    "execution": {
     "iopub.execute_input": "2021-09-22T19:30:34.374069Z",
     "iopub.status.busy": "2021-09-22T19:30:34.373588Z",
     "iopub.status.idle": "2021-09-22T19:30:34.585271Z",
     "shell.execute_reply": "2021-09-22T19:30:34.58461Z",
     "shell.execute_reply.started": "2021-09-22T19:30:34.374038Z"
    }
   },
   "outputs": [],
   "source": [
    "%%time\n",
    "\n",
    "train_data = pd.read_csv('train.csv')\n",
    "train_data.head()"
   ]
  },
  {
   "cell_type": "code",
   "execution_count": null,
   "metadata": {
    "execution": {
     "iopub.execute_input": "2021-09-22T19:30:48.961532Z",
     "iopub.status.busy": "2021-09-22T19:30:48.961248Z",
     "iopub.status.idle": "2021-09-22T19:30:49.094853Z",
     "shell.execute_reply": "2021-09-22T19:30:49.094056Z",
     "shell.execute_reply.started": "2021-09-22T19:30:48.961503Z"
    }
   },
   "outputs": [],
   "source": [
    "test_data = pd.read_csv('test.csv')\n",
    "test_data"
   ]
  },
  {
   "cell_type": "markdown",
   "metadata": {},
   "source": [
    "# Шаг 0.5. Приведем колонку с датой к нормальному виду"
   ]
  },
  {
   "cell_type": "code",
   "execution_count": null,
   "metadata": {
    "execution": {
     "iopub.execute_input": "2021-09-22T19:30:51.545227Z",
     "iopub.status.busy": "2021-09-22T19:30:51.544878Z",
     "iopub.status.idle": "2021-09-22T19:30:52.394004Z",
     "shell.execute_reply": "2021-09-22T19:30:52.39307Z",
     "shell.execute_reply.started": "2021-09-22T19:30:51.545174Z"
    }
   },
   "outputs": [],
   "source": [
    "for data in [train_data, test_data]:\n",
    "    data['app_date'] = pd.to_datetime(data['app_date'], format = '%d%b%Y').astype(str)"
   ]
  },
  {
   "cell_type": "markdown",
   "metadata": {},
   "source": [
    "# === Построение LightAutoML модели ===\n",
    "\n",
    "\n",
    "# Шаг 1. Создадим Task\n",
    "\n",
    "В ячейке ниже мы создадим объект типа Task - класса, позволяющего сообщить LightAutoML тип решаемой задачи, а также при необходимости подходящие лосс и метрику качества (более подробно об их задании можно прочитать по [ссылке](https://lightautoml.readthedocs.io/en/latest/generated/lightautoml.tasks.base.Task.html#lightautoml.tasks.base.Task) в нашей документации):"
   ]
  },
  {
   "cell_type": "code",
   "execution_count": null,
   "metadata": {
    "execution": {
     "iopub.execute_input": "2021-09-22T19:31:13.770272Z",
     "iopub.status.busy": "2021-09-22T19:31:13.769928Z",
     "iopub.status.idle": "2021-09-22T19:31:13.780241Z",
     "shell.execute_reply": "2021-09-22T19:31:13.77931Z",
     "shell.execute_reply.started": "2021-09-22T19:31:13.77023Z"
    }
   },
   "outputs": [],
   "source": [
    "task = Task('binary', )"
   ]
  },
  {
   "cell_type": "markdown",
   "metadata": {},
   "source": [
    "# Шаг 2. Установим роли для признаков"
   ]
  },
  {
   "cell_type": "markdown",
   "metadata": {},
   "source": [
    "Для того, чтобы LightAutoML стало понятно, что именно делать с данными, **обязательно** нужно задать какая именно колонка является целевой. Информацию об остальных колонках можно указывать, но это не является обязательным - в LightAutoML встроен автоматический типизатор колонок."
   ]
  },
  {
   "cell_type": "code",
   "execution_count": null,
   "metadata": {
    "execution": {
     "iopub.execute_input": "2021-09-22T19:31:24.075156Z",
     "iopub.status.busy": "2021-09-22T19:31:24.074855Z",
     "iopub.status.idle": "2021-09-22T19:31:24.079201Z",
     "shell.execute_reply": "2021-09-22T19:31:24.078421Z",
     "shell.execute_reply.started": "2021-09-22T19:31:24.075123Z"
    }
   },
   "outputs": [],
   "source": [
    "roles = {'target': TARGET_NAME,\n",
    "         'drop': ['client_id']\n",
    "         }"
   ]
  },
  {
   "cell_type": "markdown",
   "metadata": {},
   "source": [
    "# Шаг 3. Потратим максимум из timeout - TabularUtilizedAutoML пресет\n",
    "\n",
    "Предложим LightAutoML потратить timeout максимально на создание стабильной и качественной модели - будем использовать для этого `TabularUtilizedAutoML` пресет. Он обладает абсолютно таким же API, как и `TabularAutoML`, поэтому с точки зрения написания нового кода для запуска это будет быстро:"
   ]
  },
  {
   "cell_type": "code",
   "execution_count": null,
   "metadata": {
    "execution": {
     "iopub.execute_input": "2021-09-22T19:31:25.5964Z",
     "iopub.status.busy": "2021-09-22T19:31:25.595863Z",
     "iopub.status.idle": "2021-09-22T19:32:12.988204Z",
     "shell.execute_reply": "2021-09-22T19:32:12.987268Z",
     "shell.execute_reply.started": "2021-09-22T19:31:25.596347Z"
    }
   },
   "outputs": [],
   "source": [
    "%%time \n",
    "\n",
    "automl = TabularUtilizedAutoML(task = task, \n",
    "                               timeout = TIMEOUT,\n",
    "                               cpu_limit = N_THREADS,\n",
    "                               reader_params = {'n_jobs': N_THREADS, 'random_state': RANDOM_STATE},\n",
    "                              )\n",
    "oof_pred = automl.fit_predict(train_data, roles = roles)\n",
    "print('oof_pred:\\n{}\\nShape = {}'.format(oof_pred, oof_pred.shape))"
   ]
  },
  {
   "cell_type": "markdown",
   "metadata": {},
   "source": [
    "# Шаг 4. Важности признаков в полученной модели \n",
    "\n",
    "Для подсчета важности признаков в LightAutoML реализованы 2 метода:\n",
    "- Быстрый (`fast`) - использует важности признаков с модели-селектора признаков LightGBM. Работает очень быстро, фактически всегда (кроме кейсов, когда отборщик был принудительно отключен), не требует дополнительных выборок с таргетом\n",
    "- Точный (`accurate`) - считает permutation importance каждого признака для всей модели на переданной выборке. Работает всегда, но может это делать довольно долго (сильно зависит от самой финальной модели, объема дополнительной выборки и т.п.)"
   ]
  },
  {
   "cell_type": "code",
   "execution_count": null,
   "metadata": {},
   "outputs": [],
   "source": [
    "%%time\n",
    "\n",
    "# Fast feature importances calculation\n",
    "fast_fi = automl.get_feature_scores('fast')\n",
    "fast_fi.set_index('Feature')['Importance'].plot.bar(figsize = (20, 10), grid = True)"
   ]
  },
  {
   "cell_type": "markdown",
   "metadata": {},
   "source": [
    "# Шаг 5. Выполним предсказание на тестовую выборку и посмотрим на метрику качества"
   ]
  },
  {
   "cell_type": "code",
   "execution_count": null,
   "metadata": {},
   "outputs": [],
   "source": [
    "%%time\n",
    "\n",
    "test_pred = automl.predict(test_data)\n",
    "print('Prediction for test data:\\n{}\\nShape = {}'\n",
    "              .format(test_pred, test_pred.shape))"
   ]
  },
  {
   "cell_type": "code",
   "execution_count": null,
   "metadata": {},
   "outputs": [],
   "source": [
    "# logging.info('Check scores...')\n",
    "# print('OOF score: {}'.format(roc_auc_score(train_data[TARGET_NAME].values, oof_pred.data[:, 0])))"
   ]
  },
  {
   "cell_type": "markdown",
   "metadata": {},
   "source": [
    "# Шаг 6. Подготовим файл с сабмитом"
   ]
  },
  {
   "cell_type": "code",
   "execution_count": null,
   "metadata": {},
   "outputs": [],
   "source": [
    "submission = test_data[['client_id']]\n",
    "submission['default'] = test_pred.data[:, 0]\n",
    "submission.to_csv('submissionLAMA.csv', index = False)"
   ]
  },
  {
   "cell_type": "code",
   "execution_count": null,
   "metadata": {},
   "outputs": [],
   "source": [
    "submission['default'].describe()"
   ]
  },
  {
   "cell_type": "code",
   "execution_count": null,
   "metadata": {},
   "outputs": [],
   "source": [
    "submission"
   ]
  },
  {
   "cell_type": "markdown",
   "metadata": {},
   "source": [
    "# Дополнительные материалы "
   ]
  },
  {
   "cell_type": "markdown",
   "metadata": {},
   "source": [
    "- [Github репозиторий LightAutoML](https://github.com/sberbank-ai-lab/LightAutoML)\n",
    "- [Документация](https://lightautoml.readthedocs.io/en/latest)"
   ]
  }
 ],
 "metadata": {
  "kernelspec": {
   "display_name": "Python 3",
   "language": "python",
   "name": "python3"
  },
  "language_info": {
   "codemirror_mode": {
    "name": "ipython",
    "version": 3
   },
   "file_extension": ".py",
   "mimetype": "text/x-python",
   "name": "python",
   "nbconvert_exporter": "python",
   "pygments_lexer": "ipython3",
   "version": "3.8.3"
  }
 },
 "nbformat": 4,
 "nbformat_minor": 4
}
