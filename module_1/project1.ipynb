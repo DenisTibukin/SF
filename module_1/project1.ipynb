{
 "cells": [
  {
   "cell_type": "code",
   "execution_count": 1,
   "metadata": {
    "_cell_guid": "b1076dfc-b9ad-4769-8c92-a6c4dae69d19",
    "_uuid": "8f2839f25d086af736a60e9eeb907d3b93b6e0e5",
    "colab": {},
    "colab_type": "code",
    "id": "U2D2gTdJVp90"
   },
   "outputs": [],
   "source": [
    "#import numpy as np\n",
    "import pandas as pd\n",
    "#import seaborn as sns\n",
    "#import matplotlib.pyplot as plt\n",
    "#import collections"
   ]
  },
  {
   "cell_type": "code",
   "execution_count": 2,
   "metadata": {
    "_cell_guid": "79c7e3d0-c299-4dcb-8224-4455121ee9b0",
    "_uuid": "d629ff2d2480ee46fbb7e2d37f6b5fab8052498a",
    "colab": {},
    "colab_type": "code",
    "id": "oyGfxL3eVp9-"
   },
   "outputs": [
    {
     "data": {
      "text/html": [
       "<div>\n",
       "<style scoped>\n",
       "    .dataframe tbody tr th:only-of-type {\n",
       "        vertical-align: middle;\n",
       "    }\n",
       "\n",
       "    .dataframe tbody tr th {\n",
       "        vertical-align: top;\n",
       "    }\n",
       "\n",
       "    .dataframe thead th {\n",
       "        text-align: right;\n",
       "    }\n",
       "</style>\n",
       "<table border=\"1\" class=\"dataframe\">\n",
       "  <thead>\n",
       "    <tr style=\"text-align: right;\">\n",
       "      <th></th>\n",
       "      <th>imdb_id</th>\n",
       "      <th>budget</th>\n",
       "      <th>revenue</th>\n",
       "      <th>original_title</th>\n",
       "      <th>cast</th>\n",
       "      <th>director</th>\n",
       "      <th>tagline</th>\n",
       "      <th>overview</th>\n",
       "      <th>runtime</th>\n",
       "      <th>genres</th>\n",
       "      <th>production_companies</th>\n",
       "      <th>release_date</th>\n",
       "      <th>vote_average</th>\n",
       "      <th>release_year</th>\n",
       "    </tr>\n",
       "  </thead>\n",
       "  <tbody>\n",
       "    <tr>\n",
       "      <th>1350</th>\n",
       "      <td>tt0398375</td>\n",
       "      <td>70000000</td>\n",
       "      <td>88933562</td>\n",
       "      <td>Rumor Has It...</td>\n",
       "      <td>Jennifer Aniston|Kevin Costner|Shirley MacLain...</td>\n",
       "      <td>Rob Reiner</td>\n",
       "      <td>Based on a true rumor.</td>\n",
       "      <td>Sarah Huttinger's return home with her fiance ...</td>\n",
       "      <td>97</td>\n",
       "      <td>Comedy</td>\n",
       "      <td>Village Roadshow Pictures|Section Eight|Spring...</td>\n",
       "      <td>12/23/2005</td>\n",
       "      <td>5.2</td>\n",
       "      <td>2005</td>\n",
       "    </tr>\n",
       "    <tr>\n",
       "      <th>815</th>\n",
       "      <td>tt1412386</td>\n",
       "      <td>10000000</td>\n",
       "      <td>136836156</td>\n",
       "      <td>The Best Exotic Marigold Hotel</td>\n",
       "      <td>Bill Nighy|Maggie Smith|Tom Wilkinson|Judi Den...</td>\n",
       "      <td>John Madden</td>\n",
       "      <td>Share the journey. Share the laughter.</td>\n",
       "      <td>British retirees travel to India to take up re...</td>\n",
       "      <td>124</td>\n",
       "      <td>Drama|Comedy</td>\n",
       "      <td>Participant Media|Imagenation Abu Dhabi FZ</td>\n",
       "      <td>11/28/2011</td>\n",
       "      <td>6.8</td>\n",
       "      <td>2011</td>\n",
       "    </tr>\n",
       "    <tr>\n",
       "      <th>614</th>\n",
       "      <td>tt0489099</td>\n",
       "      <td>85000000</td>\n",
       "      <td>222231186</td>\n",
       "      <td>Jumper</td>\n",
       "      <td>Hayden Christensen|Jamie Bell|Samuel L. Jackso...</td>\n",
       "      <td>Doug Liman</td>\n",
       "      <td>anywhere is possible.</td>\n",
       "      <td>David Rice is a man who knows no boundaries, a...</td>\n",
       "      <td>88</td>\n",
       "      <td>Adventure|Fantasy|Science Fiction</td>\n",
       "      <td>Dune Entertainment|Hypnotic|New Regency Pictures</td>\n",
       "      <td>2/10/2008</td>\n",
       "      <td>5.9</td>\n",
       "      <td>2008</td>\n",
       "    </tr>\n",
       "    <tr>\n",
       "      <th>33</th>\n",
       "      <td>tt1051904</td>\n",
       "      <td>58000000</td>\n",
       "      <td>150170815</td>\n",
       "      <td>Goosebumps</td>\n",
       "      <td>Jack Black|Dylan Minnette|Odeya Rush|Amy Ryan|...</td>\n",
       "      <td>Rob Letterman</td>\n",
       "      <td>The stories are alive.</td>\n",
       "      <td>A teenager teams up with the daughter of young...</td>\n",
       "      <td>103</td>\n",
       "      <td>Adventure|Horror|Comedy</td>\n",
       "      <td>Columbia Pictures|Original Film|Scholastic Ent...</td>\n",
       "      <td>8/5/2015</td>\n",
       "      <td>6.2</td>\n",
       "      <td>2015</td>\n",
       "    </tr>\n",
       "    <tr>\n",
       "      <th>1076</th>\n",
       "      <td>tt1433822</td>\n",
       "      <td>17000000</td>\n",
       "      <td>9627492</td>\n",
       "      <td>The Apparition</td>\n",
       "      <td>Ashley Greene|Sebastian Stan|Tom Felton|Julian...</td>\n",
       "      <td>Todd Lincoln</td>\n",
       "      <td>Once You Believe You Die</td>\n",
       "      <td>Plagued by frightening occurrences in their ho...</td>\n",
       "      <td>82</td>\n",
       "      <td>Horror|Thriller</td>\n",
       "      <td>StudioCanal|Dark Castle Entertainment|Warner B...</td>\n",
       "      <td>8/23/2012</td>\n",
       "      <td>4.4</td>\n",
       "      <td>2012</td>\n",
       "    </tr>\n",
       "  </tbody>\n",
       "</table>\n",
       "</div>"
      ],
      "text/plain": [
       "        imdb_id    budget    revenue                  original_title  \\\n",
       "1350  tt0398375  70000000   88933562                 Rumor Has It...   \n",
       "815   tt1412386  10000000  136836156  The Best Exotic Marigold Hotel   \n",
       "614   tt0489099  85000000  222231186                          Jumper   \n",
       "33    tt1051904  58000000  150170815                      Goosebumps   \n",
       "1076  tt1433822  17000000    9627492                  The Apparition   \n",
       "\n",
       "                                                   cast       director  \\\n",
       "1350  Jennifer Aniston|Kevin Costner|Shirley MacLain...     Rob Reiner   \n",
       "815   Bill Nighy|Maggie Smith|Tom Wilkinson|Judi Den...    John Madden   \n",
       "614   Hayden Christensen|Jamie Bell|Samuel L. Jackso...     Doug Liman   \n",
       "33    Jack Black|Dylan Minnette|Odeya Rush|Amy Ryan|...  Rob Letterman   \n",
       "1076  Ashley Greene|Sebastian Stan|Tom Felton|Julian...  Todd Lincoln    \n",
       "\n",
       "                                     tagline  \\\n",
       "1350                  Based on a true rumor.   \n",
       "815   Share the journey. Share the laughter.   \n",
       "614                    anywhere is possible.   \n",
       "33                    The stories are alive.   \n",
       "1076                Once You Believe You Die   \n",
       "\n",
       "                                               overview  runtime  \\\n",
       "1350  Sarah Huttinger's return home with her fiance ...       97   \n",
       "815   British retirees travel to India to take up re...      124   \n",
       "614   David Rice is a man who knows no boundaries, a...       88   \n",
       "33    A teenager teams up with the daughter of young...      103   \n",
       "1076  Plagued by frightening occurrences in their ho...       82   \n",
       "\n",
       "                                 genres  \\\n",
       "1350                             Comedy   \n",
       "815                        Drama|Comedy   \n",
       "614   Adventure|Fantasy|Science Fiction   \n",
       "33              Adventure|Horror|Comedy   \n",
       "1076                    Horror|Thriller   \n",
       "\n",
       "                                   production_companies release_date  \\\n",
       "1350  Village Roadshow Pictures|Section Eight|Spring...   12/23/2005   \n",
       "815          Participant Media|Imagenation Abu Dhabi FZ   11/28/2011   \n",
       "614    Dune Entertainment|Hypnotic|New Regency Pictures    2/10/2008   \n",
       "33    Columbia Pictures|Original Film|Scholastic Ent...     8/5/2015   \n",
       "1076  StudioCanal|Dark Castle Entertainment|Warner B...    8/23/2012   \n",
       "\n",
       "      vote_average  release_year  \n",
       "1350           5.2          2005  \n",
       "815            6.8          2011  \n",
       "614            5.9          2008  \n",
       "33             6.2          2015  \n",
       "1076           4.4          2012  "
      ]
     },
     "execution_count": 2,
     "metadata": {},
     "output_type": "execute_result"
    }
   ],
   "source": [
    "data = pd.read_csv('movie_bd_v5.csv')\n",
    "data.sample(5)"
   ]
  },
  {
   "cell_type": "code",
   "execution_count": 3,
   "metadata": {
    "colab": {},
    "colab_type": "code",
    "id": "CoYUnagMVp-C"
   },
   "outputs": [
    {
     "data": {
      "text/html": [
       "<div>\n",
       "<style scoped>\n",
       "    .dataframe tbody tr th:only-of-type {\n",
       "        vertical-align: middle;\n",
       "    }\n",
       "\n",
       "    .dataframe tbody tr th {\n",
       "        vertical-align: top;\n",
       "    }\n",
       "\n",
       "    .dataframe thead th {\n",
       "        text-align: right;\n",
       "    }\n",
       "</style>\n",
       "<table border=\"1\" class=\"dataframe\">\n",
       "  <thead>\n",
       "    <tr style=\"text-align: right;\">\n",
       "      <th></th>\n",
       "      <th>budget</th>\n",
       "      <th>revenue</th>\n",
       "      <th>runtime</th>\n",
       "      <th>vote_average</th>\n",
       "      <th>release_year</th>\n",
       "    </tr>\n",
       "  </thead>\n",
       "  <tbody>\n",
       "    <tr>\n",
       "      <th>count</th>\n",
       "      <td>1.889000e+03</td>\n",
       "      <td>1.889000e+03</td>\n",
       "      <td>1889.000000</td>\n",
       "      <td>1889.000000</td>\n",
       "      <td>1889.000000</td>\n",
       "    </tr>\n",
       "    <tr>\n",
       "      <th>mean</th>\n",
       "      <td>5.431083e+07</td>\n",
       "      <td>1.553653e+08</td>\n",
       "      <td>109.658549</td>\n",
       "      <td>6.140762</td>\n",
       "      <td>2007.860773</td>\n",
       "    </tr>\n",
       "    <tr>\n",
       "      <th>std</th>\n",
       "      <td>4.858721e+07</td>\n",
       "      <td>2.146698e+08</td>\n",
       "      <td>18.017041</td>\n",
       "      <td>0.764763</td>\n",
       "      <td>4.468841</td>\n",
       "    </tr>\n",
       "    <tr>\n",
       "      <th>min</th>\n",
       "      <td>5.000000e+06</td>\n",
       "      <td>2.033165e+06</td>\n",
       "      <td>63.000000</td>\n",
       "      <td>3.300000</td>\n",
       "      <td>2000.000000</td>\n",
       "    </tr>\n",
       "    <tr>\n",
       "      <th>25%</th>\n",
       "      <td>2.000000e+07</td>\n",
       "      <td>3.456058e+07</td>\n",
       "      <td>97.000000</td>\n",
       "      <td>5.600000</td>\n",
       "      <td>2004.000000</td>\n",
       "    </tr>\n",
       "    <tr>\n",
       "      <th>50%</th>\n",
       "      <td>3.800000e+07</td>\n",
       "      <td>8.361541e+07</td>\n",
       "      <td>107.000000</td>\n",
       "      <td>6.100000</td>\n",
       "      <td>2008.000000</td>\n",
       "    </tr>\n",
       "    <tr>\n",
       "      <th>75%</th>\n",
       "      <td>7.200000e+07</td>\n",
       "      <td>1.782626e+08</td>\n",
       "      <td>120.000000</td>\n",
       "      <td>6.600000</td>\n",
       "      <td>2012.000000</td>\n",
       "    </tr>\n",
       "    <tr>\n",
       "      <th>max</th>\n",
       "      <td>3.800000e+08</td>\n",
       "      <td>2.781506e+09</td>\n",
       "      <td>214.000000</td>\n",
       "      <td>8.100000</td>\n",
       "      <td>2015.000000</td>\n",
       "    </tr>\n",
       "  </tbody>\n",
       "</table>\n",
       "</div>"
      ],
      "text/plain": [
       "             budget       revenue      runtime  vote_average  release_year\n",
       "count  1.889000e+03  1.889000e+03  1889.000000   1889.000000   1889.000000\n",
       "mean   5.431083e+07  1.553653e+08   109.658549      6.140762   2007.860773\n",
       "std    4.858721e+07  2.146698e+08    18.017041      0.764763      4.468841\n",
       "min    5.000000e+06  2.033165e+06    63.000000      3.300000   2000.000000\n",
       "25%    2.000000e+07  3.456058e+07    97.000000      5.600000   2004.000000\n",
       "50%    3.800000e+07  8.361541e+07   107.000000      6.100000   2008.000000\n",
       "75%    7.200000e+07  1.782626e+08   120.000000      6.600000   2012.000000\n",
       "max    3.800000e+08  2.781506e+09   214.000000      8.100000   2015.000000"
      ]
     },
     "execution_count": 3,
     "metadata": {},
     "output_type": "execute_result"
    }
   ],
   "source": [
    "data.describe()"
   ]
  },
  {
   "cell_type": "markdown",
   "metadata": {
    "colab_type": "text",
    "id": "DTIt7ezGVp-G"
   },
   "source": [
    "# Предобработка"
   ]
  },
  {
   "cell_type": "code",
   "execution_count": 4,
   "metadata": {
    "colab": {},
    "colab_type": "code",
    "id": "jNb40DwKVp-H"
   },
   "outputs": [],
   "source": [
    "answers = {}  # создадим словарь для ответов"
   ]
  },
  {
   "cell_type": "code",
   "execution_count": 5,
   "metadata": {},
   "outputs": [],
   "source": [
    "# add profit column:\n",
    "data.insert(3, 'profit', data.revenue - data.budget)"
   ]
  },
  {
   "cell_type": "code",
   "execution_count": 6,
   "metadata": {},
   "outputs": [
    {
     "name": "stderr",
     "output_type": "stream",
     "text": [
      "<ipython-input-6-0389be5e37d8>:9: SettingWithCopyWarning: \n",
      "A value is trying to be set on a copy of a slice from a DataFrame\n",
      "\n",
      "See the caveats in the documentation: https://pandas.pydata.org/pandas-docs/stable/user_guide/indexing.html#returning-a-view-versus-a-copy\n",
      "  data.production_companies[i] = data.production_companies[i]\\\n"
     ]
    }
   ],
   "source": [
    "def spl(cell):\n",
    "    # function to split multiple values in string to lists\n",
    "    cell = cell.split('|')\n",
    "    return cell\n",
    "\n",
    "\n",
    "#removing problem symbols ()+ from production companies names\n",
    "for i in data.index:\n",
    "    data.production_companies[i] = data.production_companies[i]\\\n",
    "    .replace('(','_').replace(')','_').replace('+','_')"
   ]
  },
  {
   "cell_type": "code",
   "execution_count": 7,
   "metadata": {},
   "outputs": [
    {
     "data": {
      "text/html": [
       "<div>\n",
       "<style scoped>\n",
       "    .dataframe tbody tr th:only-of-type {\n",
       "        vertical-align: middle;\n",
       "    }\n",
       "\n",
       "    .dataframe tbody tr th {\n",
       "        vertical-align: top;\n",
       "    }\n",
       "\n",
       "    .dataframe thead th {\n",
       "        text-align: right;\n",
       "    }\n",
       "</style>\n",
       "<table border=\"1\" class=\"dataframe\">\n",
       "  <thead>\n",
       "    <tr style=\"text-align: right;\">\n",
       "      <th></th>\n",
       "      <th>imdb_id</th>\n",
       "      <th>budget</th>\n",
       "      <th>revenue</th>\n",
       "      <th>profit</th>\n",
       "      <th>original_title</th>\n",
       "      <th>cast</th>\n",
       "      <th>director</th>\n",
       "      <th>tagline</th>\n",
       "      <th>overview</th>\n",
       "      <th>runtime</th>\n",
       "      <th>genres</th>\n",
       "      <th>production_companies</th>\n",
       "      <th>release_date</th>\n",
       "      <th>vote_average</th>\n",
       "      <th>release_year</th>\n",
       "    </tr>\n",
       "  </thead>\n",
       "  <tbody>\n",
       "    <tr>\n",
       "      <th>1823</th>\n",
       "      <td>tt0181984</td>\n",
       "      <td>26000000</td>\n",
       "      <td>28780255</td>\n",
       "      <td>2780255</td>\n",
       "      <td>Boiler Room</td>\n",
       "      <td>Giovanni Ribisi|Vin Diesel|Nia Long|Tom Everet...</td>\n",
       "      <td>Ben Younger</td>\n",
       "      <td>Welcome to the new American dream.</td>\n",
       "      <td>A college dropout gets a job as a broker for a...</td>\n",
       "      <td>118</td>\n",
       "      <td>Crime|Drama|Thriller</td>\n",
       "      <td>New Line Cinema</td>\n",
       "      <td>2/18/2000</td>\n",
       "      <td>6.5</td>\n",
       "      <td>2000</td>\n",
       "    </tr>\n",
       "    <tr>\n",
       "      <th>1405</th>\n",
       "      <td>tt0318649</td>\n",
       "      <td>130000000</td>\n",
       "      <td>119269486</td>\n",
       "      <td>-10730514</td>\n",
       "      <td>Sahara</td>\n",
       "      <td>Matthew McConaughey|PenÃ©lope Cruz|Steve Zahn|...</td>\n",
       "      <td>Breck Eisner</td>\n",
       "      <td>Dirk Pitt. Adventure has a new name.</td>\n",
       "      <td>Scouring the ocean depths for treasure-laden s...</td>\n",
       "      <td>124</td>\n",
       "      <td>Action|Adventure|Comedy|Drama|Mystery</td>\n",
       "      <td>Paramount Pictures|Bristol Bay Productions|Bal...</td>\n",
       "      <td>4/6/2005</td>\n",
       "      <td>5.6</td>\n",
       "      <td>2005</td>\n",
       "    </tr>\n",
       "    <tr>\n",
       "      <th>67</th>\n",
       "      <td>tt3530002</td>\n",
       "      <td>25000000</td>\n",
       "      <td>52395996</td>\n",
       "      <td>27395996</td>\n",
       "      <td>The Night Before</td>\n",
       "      <td>Joseph Gordon-Levitt|Seth Rogen|Anthony Mackie...</td>\n",
       "      <td>Jonathan Levine</td>\n",
       "      <td>Their past, present and future. All in one night.</td>\n",
       "      <td>In New York City for their annual tradition of...</td>\n",
       "      <td>100</td>\n",
       "      <td>Comedy</td>\n",
       "      <td>Sony Pictures|Point Grey Pictures|Good Universe</td>\n",
       "      <td>11/20/2015</td>\n",
       "      <td>6.1</td>\n",
       "      <td>2015</td>\n",
       "    </tr>\n",
       "    <tr>\n",
       "      <th>590</th>\n",
       "      <td>tt0166276</td>\n",
       "      <td>75000000</td>\n",
       "      <td>5409517</td>\n",
       "      <td>-69590483</td>\n",
       "      <td>Monkeybone</td>\n",
       "      <td>Brendan Fraser|Bridget Fonda|John Turturro|Chr...</td>\n",
       "      <td>Henry Selick</td>\n",
       "      <td>If It Yells, If It Swings, It's Got To Be Monk...</td>\n",
       "      <td>After a car crash sends repressed cartoonist S...</td>\n",
       "      <td>93</td>\n",
       "      <td>Adventure|Fantasy|Animation|Action|Comedy</td>\n",
       "      <td>20th Century Fox|1492 Pictures</td>\n",
       "      <td>2/23/2001</td>\n",
       "      <td>4.0</td>\n",
       "      <td>2001</td>\n",
       "    </tr>\n",
       "    <tr>\n",
       "      <th>1757</th>\n",
       "      <td>tt0804522</td>\n",
       "      <td>27500000</td>\n",
       "      <td>24748670</td>\n",
       "      <td>-2751330</td>\n",
       "      <td>Rendition</td>\n",
       "      <td>Omar Metwally|Reese Witherspoon|Jake Gyllenhaa...</td>\n",
       "      <td>Gavin Hood</td>\n",
       "      <td>What if someone you love...just disappeared?</td>\n",
       "      <td>When an Egyptian terrorism suspect \"disappears...</td>\n",
       "      <td>120</td>\n",
       "      <td>Drama|Thriller</td>\n",
       "      <td>Anonymous Content|Level 1 Entertainment|MID Fo...</td>\n",
       "      <td>9/7/2007</td>\n",
       "      <td>5.7</td>\n",
       "      <td>2007</td>\n",
       "    </tr>\n",
       "  </tbody>\n",
       "</table>\n",
       "</div>"
      ],
      "text/plain": [
       "        imdb_id     budget    revenue    profit    original_title  \\\n",
       "1823  tt0181984   26000000   28780255   2780255       Boiler Room   \n",
       "1405  tt0318649  130000000  119269486 -10730514            Sahara   \n",
       "67    tt3530002   25000000   52395996  27395996  The Night Before   \n",
       "590   tt0166276   75000000    5409517 -69590483        Monkeybone   \n",
       "1757  tt0804522   27500000   24748670  -2751330         Rendition   \n",
       "\n",
       "                                                   cast         director  \\\n",
       "1823  Giovanni Ribisi|Vin Diesel|Nia Long|Tom Everet...      Ben Younger   \n",
       "1405  Matthew McConaughey|PenÃ©lope Cruz|Steve Zahn|...     Breck Eisner   \n",
       "67    Joseph Gordon-Levitt|Seth Rogen|Anthony Mackie...  Jonathan Levine   \n",
       "590   Brendan Fraser|Bridget Fonda|John Turturro|Chr...     Henry Selick   \n",
       "1757  Omar Metwally|Reese Witherspoon|Jake Gyllenhaa...       Gavin Hood   \n",
       "\n",
       "                                                tagline  \\\n",
       "1823                 Welcome to the new American dream.   \n",
       "1405               Dirk Pitt. Adventure has a new name.   \n",
       "67    Their past, present and future. All in one night.   \n",
       "590   If It Yells, If It Swings, It's Got To Be Monk...   \n",
       "1757       What if someone you love...just disappeared?   \n",
       "\n",
       "                                               overview  runtime  \\\n",
       "1823  A college dropout gets a job as a broker for a...      118   \n",
       "1405  Scouring the ocean depths for treasure-laden s...      124   \n",
       "67    In New York City for their annual tradition of...      100   \n",
       "590   After a car crash sends repressed cartoonist S...       93   \n",
       "1757  When an Egyptian terrorism suspect \"disappears...      120   \n",
       "\n",
       "                                         genres  \\\n",
       "1823                       Crime|Drama|Thriller   \n",
       "1405      Action|Adventure|Comedy|Drama|Mystery   \n",
       "67                                       Comedy   \n",
       "590   Adventure|Fantasy|Animation|Action|Comedy   \n",
       "1757                             Drama|Thriller   \n",
       "\n",
       "                                   production_companies release_date  \\\n",
       "1823                                    New Line Cinema    2/18/2000   \n",
       "1405  Paramount Pictures|Bristol Bay Productions|Bal...     4/6/2005   \n",
       "67      Sony Pictures|Point Grey Pictures|Good Universe   11/20/2015   \n",
       "590                      20th Century Fox|1492 Pictures    2/23/2001   \n",
       "1757  Anonymous Content|Level 1 Entertainment|MID Fo...     9/7/2007   \n",
       "\n",
       "      vote_average  release_year  \n",
       "1823           6.5          2000  \n",
       "1405           5.6          2005  \n",
       "67             6.1          2015  \n",
       "590            4.0          2001  \n",
       "1757           5.7          2007  "
      ]
     },
     "execution_count": 7,
     "metadata": {},
     "output_type": "execute_result"
    }
   ],
   "source": [
    "data.sample(5)"
   ]
  },
  {
   "cell_type": "markdown",
   "metadata": {},
   "source": [
    "# 1. У какого фильма из списка самый большой бюджет?"
   ]
  },
  {
   "cell_type": "code",
   "execution_count": 8,
   "metadata": {
    "colab": {},
    "colab_type": "code",
    "id": "dZwb3m28Vp-S"
   },
   "outputs": [
    {
     "data": {
      "text/plain": [
       "723    Pirates of the Caribbean: On Stranger Tides\n",
       "Name: original_title, dtype: object"
      ]
     },
     "execution_count": 8,
     "metadata": {},
     "output_type": "execute_result"
    }
   ],
   "source": [
    "data[data.budget == data.budget.max()].original_title"
   ]
  },
  {
   "cell_type": "code",
   "execution_count": 9,
   "metadata": {},
   "outputs": [],
   "source": [
    "answers['1'] = 'Pirates of the Caribbean: On Stranger Tides (tt1298650)'"
   ]
  },
  {
   "cell_type": "markdown",
   "metadata": {
    "colab_type": "text",
    "id": "FNRbbI3vVp-c"
   },
   "source": [
    "# 2. Какой из фильмов самый длительный (в минутах)?"
   ]
  },
  {
   "cell_type": "code",
   "execution_count": 10,
   "metadata": {
    "colab": {},
    "colab_type": "code",
    "id": "ot-VX2XrVp-g"
   },
   "outputs": [
    {
     "data": {
      "text/plain": [
       "1157    Gods and Generals\n",
       "Name: original_title, dtype: object"
      ]
     },
     "execution_count": 10,
     "metadata": {},
     "output_type": "execute_result"
    }
   ],
   "source": [
    "data[data.runtime == data.runtime.max()].original_title"
   ]
  },
  {
   "cell_type": "code",
   "execution_count": 11,
   "metadata": {
    "colab": {},
    "colab_type": "code",
    "id": "vHAoEXNTVp-d"
   },
   "outputs": [],
   "source": [
    "answers['2'] = 'Gods and Generals (tt0279111)'"
   ]
  },
  {
   "cell_type": "markdown",
   "metadata": {
    "colab_type": "text",
    "id": "bapLlpW8Vp-k"
   },
   "source": [
    "# 3. Какой из фильмов самый короткий (в минутах)?\n",
    "\n",
    "\n",
    "\n"
   ]
  },
  {
   "cell_type": "code",
   "execution_count": 12,
   "metadata": {
    "colab": {},
    "colab_type": "code",
    "id": "YBxaSHuAVp-l"
   },
   "outputs": [
    {
     "data": {
      "text/plain": [
       "768    Winnie the Pooh\n",
       "Name: original_title, dtype: object"
      ]
     },
     "execution_count": 12,
     "metadata": {},
     "output_type": "execute_result"
    }
   ],
   "source": [
    "data[data.runtime == data.runtime.min()].original_title"
   ]
  },
  {
   "cell_type": "code",
   "execution_count": 13,
   "metadata": {},
   "outputs": [],
   "source": [
    "answers['3'] = 'Winnie the Pooh (tt1449283)'"
   ]
  },
  {
   "cell_type": "markdown",
   "metadata": {
    "colab_type": "text",
    "id": "TfQbxbfNVp-p"
   },
   "source": [
    "# 4. Какова средняя длительность фильмов?\n"
   ]
  },
  {
   "cell_type": "code",
   "execution_count": 14,
   "metadata": {
    "colab": {},
    "colab_type": "code",
    "id": "5K6dKZYVVp-q"
   },
   "outputs": [
    {
     "data": {
      "text/plain": [
       "110"
      ]
     },
     "execution_count": 14,
     "metadata": {},
     "output_type": "execute_result"
    }
   ],
   "source": [
    "round(data.runtime.mean())"
   ]
  },
  {
   "cell_type": "code",
   "execution_count": 15,
   "metadata": {},
   "outputs": [],
   "source": [
    "answers['4'] = '110'"
   ]
  },
  {
   "cell_type": "markdown",
   "metadata": {
    "colab_type": "text",
    "id": "r5TvbnT_Vp-u"
   },
   "source": [
    "# 5. Каково медианное значение длительности фильмов? "
   ]
  },
  {
   "cell_type": "code",
   "execution_count": 16,
   "metadata": {
    "colab": {},
    "colab_type": "code",
    "id": "iBROplKnVp-v"
   },
   "outputs": [
    {
     "data": {
      "text/plain": [
       "107"
      ]
     },
     "execution_count": 16,
     "metadata": {},
     "output_type": "execute_result"
    }
   ],
   "source": [
    "round(data.runtime.median())"
   ]
  },
  {
   "cell_type": "code",
   "execution_count": 17,
   "metadata": {},
   "outputs": [],
   "source": [
    "answers['5'] = '107'"
   ]
  },
  {
   "cell_type": "markdown",
   "metadata": {
    "colab_type": "text",
    "id": "39P-deDSVp-y"
   },
   "source": [
    "# 6. Какой самый прибыльный фильм?\n",
    "#### Внимание! Здесь и далее под «прибылью» или «убытками» понимается разность между сборами и бюджетом фильма. (прибыль = сборы - бюджет) в нашем датасете это будет (profit = revenue - budget) "
   ]
  },
  {
   "cell_type": "code",
   "execution_count": 18,
   "metadata": {
    "colab": {},
    "colab_type": "code",
    "id": "UYZh4T9WVp-y"
   },
   "outputs": [
    {
     "data": {
      "text/plain": [
       "239    Avatar\n",
       "Name: original_title, dtype: object"
      ]
     },
     "execution_count": 18,
     "metadata": {},
     "output_type": "execute_result"
    }
   ],
   "source": [
    "data[data.profit == data.profit.max()].original_title"
   ]
  },
  {
   "cell_type": "code",
   "execution_count": 19,
   "metadata": {},
   "outputs": [],
   "source": [
    "answers['6'] = 'Avatar (tt0499549)'"
   ]
  },
  {
   "cell_type": "markdown",
   "metadata": {
    "colab_type": "text",
    "id": "M99JmIX4Vp-2"
   },
   "source": [
    "# 7. Какой фильм самый убыточный? "
   ]
  },
  {
   "cell_type": "code",
   "execution_count": 20,
   "metadata": {
    "colab": {},
    "colab_type": "code",
    "id": "w-D2m4XPVp-3"
   },
   "outputs": [
    {
     "data": {
      "text/plain": [
       "1245    The Lone Ranger\n",
       "Name: original_title, dtype: object"
      ]
     },
     "execution_count": 20,
     "metadata": {},
     "output_type": "execute_result"
    }
   ],
   "source": [
    "data[data.profit == data.profit.min()].original_title"
   ]
  },
  {
   "cell_type": "code",
   "execution_count": 21,
   "metadata": {},
   "outputs": [],
   "source": [
    "answers['7'] = 'The Lone Ranger (tt1210819)'"
   ]
  },
  {
   "cell_type": "markdown",
   "metadata": {
    "colab_type": "text",
    "id": "wEOM5ERVVp-6"
   },
   "source": [
    "# 8. У скольких фильмов из датасета объем сборов оказался выше бюджета?"
   ]
  },
  {
   "cell_type": "code",
   "execution_count": 22,
   "metadata": {
    "colab": {},
    "colab_type": "code",
    "id": "y00_7HD6Vp-7"
   },
   "outputs": [
    {
     "data": {
      "text/plain": [
       "1478"
      ]
     },
     "execution_count": 22,
     "metadata": {},
     "output_type": "execute_result"
    }
   ],
   "source": [
    "len(data[data.profit > 0])"
   ]
  },
  {
   "cell_type": "code",
   "execution_count": 23,
   "metadata": {},
   "outputs": [],
   "source": [
    "answers['8'] = '1478'"
   ]
  },
  {
   "cell_type": "markdown",
   "metadata": {
    "colab_type": "text",
    "id": "xhpspA9KVp_A"
   },
   "source": [
    "# 9. Какой фильм оказался самым кассовым в 2008 году?"
   ]
  },
  {
   "cell_type": "code",
   "execution_count": 24,
   "metadata": {
    "colab": {},
    "colab_type": "code",
    "id": "MoUyQr9RVp_B"
   },
   "outputs": [
    {
     "data": {
      "text/plain": [
       "599    The Dark Knight\n",
       "Name: original_title, dtype: object"
      ]
     },
     "execution_count": 24,
     "metadata": {},
     "output_type": "execute_result"
    }
   ],
   "source": [
    "data2008 = data[data.release_year == 2008]\n",
    "data2008[data2008.profit == data2008.profit.max()].original_title"
   ]
  },
  {
   "cell_type": "code",
   "execution_count": 25,
   "metadata": {},
   "outputs": [],
   "source": [
    "answers['9'] = 'The Dark Knight (tt0468569)'"
   ]
  },
  {
   "cell_type": "markdown",
   "metadata": {
    "colab_type": "text",
    "id": "Zi4hDKidVp_F"
   },
   "source": [
    "# 10. Самый убыточный фильм за период с 2012 по 2014 г. (включительно)?\n"
   ]
  },
  {
   "cell_type": "code",
   "execution_count": 26,
   "metadata": {
    "colab": {},
    "colab_type": "code",
    "id": "XqyRmufJVp_F"
   },
   "outputs": [
    {
     "data": {
      "text/plain": [
       "1245    The Lone Ranger\n",
       "Name: original_title, dtype: object"
      ]
     },
     "execution_count": 26,
     "metadata": {},
     "output_type": "execute_result"
    }
   ],
   "source": [
    "years = [2012, 2013, 2014]\n",
    "data_years = data[data.release_year.isin(years)]\n",
    "data_years[data_years.profit == data_years.profit.min()].original_title"
   ]
  },
  {
   "cell_type": "markdown",
   "metadata": {
    "colab_type": "text",
    "id": "Ax6g2C8SVp_M"
   },
   "source": [
    "ВАРИАНТ 2"
   ]
  },
  {
   "cell_type": "code",
   "execution_count": 27,
   "metadata": {},
   "outputs": [
    {
     "data": {
      "text/plain": [
       "1245    The Lone Ranger\n",
       "Name: original_title, dtype: object"
      ]
     },
     "execution_count": 27,
     "metadata": {},
     "output_type": "execute_result"
    }
   ],
   "source": [
    "data12_14 = data[(data.release_year >= 2012)\n",
    "                 & (data.release_year <= 2014)]\n",
    "data12_14[data12_14.profit == data12_14.profit.min()].original_title"
   ]
  },
  {
   "cell_type": "code",
   "execution_count": 28,
   "metadata": {},
   "outputs": [],
   "source": [
    "answers['10'] = 'The Lone Ranger (tt1210819)'"
   ]
  },
  {
   "cell_type": "markdown",
   "metadata": {
    "colab_type": "text",
    "id": "EA7Sa9dkVp_I"
   },
   "source": [
    "# 11. Какого жанра фильмов больше всего?"
   ]
  },
  {
   "cell_type": "code",
   "execution_count": 29,
   "metadata": {
    "colab": {},
    "colab_type": "code",
    "id": "zsJAwJ8QVp_J",
    "scrolled": true
   },
   "outputs": [
    {
     "data": {
      "text/plain": [
       "Drama              782\n",
       "Comedy             683\n",
       "Thriller           596\n",
       "Action             582\n",
       "Adventure          415\n",
       "Crime              315\n",
       "Romance            308\n",
       "Family             260\n",
       "Science Fiction    248\n",
       "Fantasy            222\n",
       "Horror             176\n",
       "Mystery            168\n",
       "Animation          139\n",
       "Music               64\n",
       "History             62\n",
       "War                 58\n",
       "Western             19\n",
       "Documentary          8\n",
       "Foreign              2\n",
       "dtype: int64"
      ]
     },
     "execution_count": 29,
     "metadata": {},
     "output_type": "execute_result"
    }
   ],
   "source": [
    "genres = []\n",
    "\n",
    "for genre in data.genres.apply(spl):\n",
    "    genres.extend(genre)\n",
    "\n",
    "genres = pd.Series(genres)\n",
    "genres.value_counts()"
   ]
  },
  {
   "cell_type": "code",
   "execution_count": 30,
   "metadata": {},
   "outputs": [],
   "source": [
    "answers['11'] = 'Drama'"
   ]
  },
  {
   "cell_type": "markdown",
   "metadata": {
    "colab_type": "text",
    "id": "T9_bPWpkVp_Q"
   },
   "source": [
    "# 12. Фильмы какого жанра чаще всего становятся прибыльными? "
   ]
  },
  {
   "cell_type": "code",
   "execution_count": 31,
   "metadata": {},
   "outputs": [
    {
     "data": {
      "text/plain": [
       "Drama              560\n",
       "Comedy             551\n",
       "Thriller           446\n",
       "Action             444\n",
       "Adventure          337\n",
       "Romance            242\n",
       "Crime              231\n",
       "Family             226\n",
       "Science Fiction    195\n",
       "Fantasy            188\n",
       "Horror             150\n",
       "Animation          120\n",
       "Mystery            119\n",
       "Music               47\n",
       "History             46\n",
       "War                 41\n",
       "Western             12\n",
       "Documentary          7\n",
       "dtype: int64"
      ]
     },
     "execution_count": 31,
     "metadata": {},
     "output_type": "execute_result"
    }
   ],
   "source": [
    "profit_genres = []\n",
    "for genre in data[data.profit > 0].genres.apply(spl):\n",
    "    profit_genres.extend(genre)\n",
    "\n",
    "profit_genres = pd.Series(profit_genres)\n",
    "profit_genres.value_counts()"
   ]
  },
  {
   "cell_type": "code",
   "execution_count": 32,
   "metadata": {},
   "outputs": [],
   "source": [
    "answers['12'] = 'Drama'"
   ]
  },
  {
   "cell_type": "markdown",
   "metadata": {
    "colab_type": "text",
    "id": "Ax6g2C8SVp_M"
   },
   "source": [
    "ВАРИАНТ 2 (поиск жанра, который пропорционально чаще становится прибыльным)"
   ]
  },
  {
   "cell_type": "code",
   "execution_count": 33,
   "metadata": {},
   "outputs": [
    {
     "data": {
      "text/plain": [
       "Documentary        0.875000\n",
       "Family             0.869231\n",
       "Animation          0.863309\n",
       "Horror             0.852273\n",
       "Fantasy            0.846847\n",
       "Adventure          0.812048\n",
       "Comedy             0.806735\n",
       "Science Fiction    0.786290\n",
       "Romance            0.785714\n",
       "Action             0.762887\n",
       "Thriller           0.748322\n",
       "History            0.741935\n",
       "Music              0.734375\n",
       "Crime              0.733333\n",
       "Drama              0.716113\n",
       "Mystery            0.708333\n",
       "War                0.706897\n",
       "Western            0.631579\n",
       "Foreign            0.000000\n",
       "dtype: float64"
      ]
     },
     "execution_count": 33,
     "metadata": {},
     "output_type": "execute_result"
    }
   ],
   "source": [
    "profit_genres.value_counts().div(genres.value_counts(),\n",
    "                                 fill_value=0).sort_values(ascending=False)"
   ]
  },
  {
   "cell_type": "markdown",
   "metadata": {
    "colab_type": "text",
    "id": "0F23bgsDVp_U"
   },
   "source": [
    "# 13. У какого режиссера самые большие суммарные кассовые сборы?"
   ]
  },
  {
   "cell_type": "code",
   "execution_count": 34,
   "metadata": {
    "colab": {},
    "colab_type": "code",
    "id": "K6Z3J8ygVp_X"
   },
   "outputs": [],
   "source": [
    "# list of all unique directors\n",
    "directors = []\n",
    "for director in data.director.apply(spl):\n",
    "    directors.extend(director)\n",
    "directors = pd.Series(directors).unique()"
   ]
  },
  {
   "cell_type": "code",
   "execution_count": 35,
   "metadata": {},
   "outputs": [
    {
     "data": {
      "text/plain": [
       "Peter Jackson        6490593685\n",
       "Christopher Nolan    4167548502\n",
       "David Yates          4154295625\n",
       "Michael Bay          3886938960\n",
       "J.J. Abrams          3579169916\n",
       "                        ...    \n",
       "David MichÃ´d           2295423\n",
       "Steven Shainberg        2281089\n",
       "Paul Schrader           2062066\n",
       "Keanu Reeves            2054941\n",
       "Simon Hunter            2033165\n",
       "Length: 997, dtype: int64"
      ]
     },
     "execution_count": 35,
     "metadata": {},
     "output_type": "execute_result"
    }
   ],
   "source": [
    "directors_revenue = pd.Series(0, directors)\n",
    "\n",
    "for d in directors:\n",
    "    directors_revenue[d] = data[data.director.str.contains(d)].revenue.sum()\n",
    "directors_revenue.sort_values(ascending=False)"
   ]
  },
  {
   "cell_type": "code",
   "execution_count": 36,
   "metadata": {},
   "outputs": [],
   "source": [
    "answers['13'] = 'Peter Jackson'"
   ]
  },
  {
   "cell_type": "markdown",
   "metadata": {
    "colab_type": "text",
    "id": "PsYC9FgRVp_a"
   },
   "source": [
    "# 14. Какой режисер снял больше всего фильмов в стиле Action?"
   ]
  },
  {
   "cell_type": "code",
   "execution_count": 37,
   "metadata": {},
   "outputs": [
    {
     "data": {
      "text/plain": [
       "Robert Rodriguez      9\n",
       "Michael Bay           7\n",
       "Paul W.S. Anderson    7\n",
       "Ridley Scott          6\n",
       "Antoine Fuqua         6\n",
       "                     ..\n",
       "Stephen T. Kay        1\n",
       "Joe Wright            1\n",
       "Peter Segal           1\n",
       "Kurt Wimmer           1\n",
       "David Leland          1\n",
       "Length: 364, dtype: int64"
      ]
     },
     "execution_count": 37,
     "metadata": {},
     "output_type": "execute_result"
    }
   ],
   "source": [
    "action_directors = []\n",
    "for director in data[data.genres.str.contains('Action')].director.apply(spl):\n",
    "    action_directors.extend(director)\n",
    "action_directors = pd.Series(action_directors)\n",
    "action_directors.value_counts()"
   ]
  },
  {
   "cell_type": "code",
   "execution_count": 38,
   "metadata": {},
   "outputs": [],
   "source": [
    "answers['14'] = 'Robert Rodriguez'"
   ]
  },
  {
   "cell_type": "markdown",
   "metadata": {
    "colab_type": "text",
    "id": "PQ0KciD7Vp_f"
   },
   "source": [
    "# 15. Фильмы с каким актером принесли самые высокие кассовые сборы в 2012 году? "
   ]
  },
  {
   "cell_type": "code",
   "execution_count": 39,
   "metadata": {
    "colab": {},
    "colab_type": "code",
    "id": "aga62oeKVp_g"
   },
   "outputs": [],
   "source": [
    "# list of all unique actors\n",
    "actors = []\n",
    "for actor in data.cast.apply(spl):\n",
    "    actors.extend(actor)\n",
    "actors = pd.Series(actors).unique()"
   ]
  },
  {
   "cell_type": "code",
   "execution_count": 40,
   "metadata": {},
   "outputs": [
    {
     "data": {
      "text/plain": [
       "Chris Hemsworth       2027450773\n",
       "Denis Leary           1629460639\n",
       "Anne Hathaway         1522851057\n",
       "Robert Downey Jr.     1519557910\n",
       "Mark Ruffalo          1519557910\n",
       "                         ...    \n",
       "Ron Eldard                     0\n",
       "Desmond Harrington             0\n",
       "Julianna Margulies             0\n",
       "Gabriel Byrne                  0\n",
       "Gregory Smith                  0\n",
       "Length: 3406, dtype: int64"
      ]
     },
     "execution_count": 40,
     "metadata": {},
     "output_type": "execute_result"
    }
   ],
   "source": [
    "cast2012revenue = pd.Series(0, actors)\n",
    "\n",
    "for actor in actors:\n",
    "    cast2012revenue[actor] = data[(data.release_year == 2012)\n",
    "                            & (data.cast.str.contains(actor))].revenue.sum()\n",
    "cast2012revenue.sort_values(ascending=False)"
   ]
  },
  {
   "cell_type": "markdown",
   "metadata": {
    "colab_type": "text",
    "id": "Ax6g2C8SVp_M"
   },
   "source": [
    "ВАРИАНТ 2"
   ]
  },
  {
   "cell_type": "code",
   "execution_count": 41,
   "metadata": {},
   "outputs": [
    {
     "data": {
      "text/plain": [
       "Chris Hemsworth       2027450773\n",
       "Denis Leary           1629460639\n",
       "Anne Hathaway         1522851057\n",
       "Scarlett Johansson    1519557910\n",
       "Robert Downey Jr.     1519557910\n",
       "                         ...    \n",
       "Michael Nyqvist          3428048\n",
       "Danny Huston             2106557\n",
       "Sami Gayle               2106557\n",
       "Josh Lucas               2106557\n",
       "Nicolas Cage             2106557\n",
       "Length: 466, dtype: int64"
      ]
     },
     "execution_count": 41,
     "metadata": {},
     "output_type": "execute_result"
    }
   ],
   "source": [
    "actors2012 = []\n",
    "for i in data.cast.apply(spl)[data.release_year == 2012]:\n",
    "    actors2012.extend(i)\n",
    "actors2012 = pd.Series(actors2012)\n",
    "actors2012 = actors2012.drop_duplicates()\n",
    "actors2012 = pd.Series(0, index=actors2012)\n",
    "\n",
    "for actor in actors2012.keys():\n",
    "    for i, row in data[data.release_year == 2012].iterrows():\n",
    "        if actor in row['cast']:\n",
    "            actors2012[actor] += row['revenue']\n",
    "actors2012.sort_values(ascending=False)"
   ]
  },
  {
   "cell_type": "code",
   "execution_count": 42,
   "metadata": {},
   "outputs": [],
   "source": [
    "answers['15'] = 'Chris Hemsworth'"
   ]
  },
  {
   "cell_type": "markdown",
   "metadata": {
    "colab_type": "text",
    "id": "mWHyyL7QVp_j"
   },
   "source": [
    "# 16. Какой актер снялся в большем количестве высокобюджетных фильмов?"
   ]
  },
  {
   "cell_type": "code",
   "execution_count": 43,
   "metadata": {
    "colab": {},
    "colab_type": "code",
    "id": "qQtmHKTFVp_k"
   },
   "outputs": [
    {
     "data": {
      "text/plain": [
       "Matt Damon               18\n",
       "Adam Sandler             17\n",
       "Angelina Jolie           16\n",
       "Tom Cruise               15\n",
       "Eddie Murphy             15\n",
       "                         ..\n",
       "Jorma Taccone             1\n",
       "James Kidnie              1\n",
       "Nikolaj Coster-Waldau     1\n",
       "Dan Fogler                1\n",
       "William Atherton          1\n",
       "Length: 1505, dtype: int64"
      ]
     },
     "execution_count": 43,
     "metadata": {},
     "output_type": "execute_result"
    }
   ],
   "source": [
    "expensive_actors = []\n",
    "for actor in data[data.budget > data.budget.mean()].cast.apply(spl):\n",
    "    expensive_actors.extend(actor)\n",
    "expensive_actors = pd.Series(expensive_actors)\n",
    "expensive_actors.value_counts()"
   ]
  },
  {
   "cell_type": "code",
   "execution_count": 44,
   "metadata": {},
   "outputs": [],
   "source": [
    "answers['16'] = 'Matt Damon'"
   ]
  },
  {
   "cell_type": "markdown",
   "metadata": {
    "colab_type": "text",
    "id": "NIh6AaW5Vp_n"
   },
   "source": [
    "# 17. В фильмах какого жанра больше всего снимался Nicolas Cage? "
   ]
  },
  {
   "cell_type": "code",
   "execution_count": 45,
   "metadata": {
    "colab": {},
    "colab_type": "code",
    "id": "H74SJDIBVp_n"
   },
   "outputs": [
    {
     "data": {
      "text/plain": [
       "Action             17\n",
       "Thriller           15\n",
       "Drama              12\n",
       "Crime              10\n",
       "Fantasy             8\n",
       "Adventure           7\n",
       "Comedy              6\n",
       "Science Fiction     4\n",
       "Animation           3\n",
       "Mystery             3\n",
       "Family              3\n",
       "History             2\n",
       "Romance             1\n",
       "War                 1\n",
       "Horror              1\n",
       "dtype: int64"
      ]
     },
     "execution_count": 45,
     "metadata": {},
     "output_type": "execute_result"
    }
   ],
   "source": [
    "nc_genres = []\n",
    "for genre in data[data.cast.str.contains('Nicolas Cage')].genres.apply(spl):\n",
    "    nc_genres.extend(genre)\n",
    "nc_genres = pd.Series(nc_genres)\n",
    "nc_genres.value_counts()"
   ]
  },
  {
   "cell_type": "code",
   "execution_count": 46,
   "metadata": {},
   "outputs": [],
   "source": [
    "answers['17'] = 'Action'"
   ]
  },
  {
   "cell_type": "markdown",
   "metadata": {
    "colab_type": "text",
    "id": "RqOmPRfWVp_q"
   },
   "source": [
    "# 18. Самый убыточный фильм от Paramount Pictures"
   ]
  },
  {
   "cell_type": "code",
   "execution_count": 47,
   "metadata": {
    "colab": {},
    "colab_type": "code",
    "id": "9E_B0Y96Vp_r"
   },
   "outputs": [
    {
     "data": {
      "text/plain": [
       "925    K-19: The Widowmaker\n",
       "Name: original_title, dtype: object"
      ]
     },
     "execution_count": 47,
     "metadata": {},
     "output_type": "execute_result"
    }
   ],
   "source": [
    "data_pp = data[(data.production_companies.str.contains('Paramount Pictures'))]\n",
    "data_pp[data_pp.profit == data_pp.profit.min()].original_title"
   ]
  },
  {
   "cell_type": "code",
   "execution_count": 48,
   "metadata": {},
   "outputs": [],
   "source": [
    "answers['18'] = 'K-19: The Widowmaker (tt0267626)'"
   ]
  },
  {
   "cell_type": "markdown",
   "metadata": {
    "colab_type": "text",
    "id": "vS8Ur6ddVp_u"
   },
   "source": [
    "# 19. Какой год стал самым успешным по суммарным кассовым сборам?"
   ]
  },
  {
   "cell_type": "code",
   "execution_count": 49,
   "metadata": {
    "colab": {},
    "colab_type": "code",
    "id": "Dnbt4GdIVp_v"
   },
   "outputs": [
    {
     "data": {
      "text/plain": [
       "release_year\n",
       "2015    2.156712e+08\n",
       "2012    2.079189e+08\n",
       "2014    1.934369e+08\n",
       "2013    1.719541e+08\n",
       "2010    1.672318e+08\n",
       "2011    1.585790e+08\n",
       "2009    1.546702e+08\n",
       "2008    1.508494e+08\n",
       "2003    1.494388e+08\n",
       "2004    1.437012e+08\n",
       "2007    1.397108e+08\n",
       "2002    1.321155e+08\n",
       "2005    1.265242e+08\n",
       "2001    1.263861e+08\n",
       "2000    1.184900e+08\n",
       "2006    1.163389e+08\n",
       "Name: revenue, dtype: float64"
      ]
     },
     "execution_count": 49,
     "metadata": {},
     "output_type": "execute_result"
    }
   ],
   "source": [
    "data.pivot_table('revenue', 'release_year').revenue.sort_values(\n",
    "    ascending=False)"
   ]
  },
  {
   "cell_type": "code",
   "execution_count": 50,
   "metadata": {},
   "outputs": [],
   "source": [
    "answers['19'] = '2015'"
   ]
  },
  {
   "cell_type": "markdown",
   "metadata": {
    "colab_type": "text",
    "id": "JAzJh4QAVp_z"
   },
   "source": [
    "# 20. Какой самый прибыльный год для студии Warner Bros?"
   ]
  },
  {
   "cell_type": "code",
   "execution_count": 51,
   "metadata": {
    "colab": {},
    "colab_type": "code",
    "id": "wgVu02DEVp_0"
   },
   "outputs": [
    {
     "data": {
      "text/plain": [
       "release_year\n",
       "2014    2295464519\n",
       "2007    2201675217\n",
       "2008    2134595031\n",
       "2010    1974712985\n",
       "2011    1871393682\n",
       "2003    1855493377\n",
       "2009    1822454136\n",
       "2013    1636453400\n",
       "2004    1631933725\n",
       "2005    1551980298\n",
       "2001    1343545668\n",
       "2012    1258020056\n",
       "2002    1022709901\n",
       "2015     870368348\n",
       "2006     620170743\n",
       "2000     452631386\n",
       "Name: profit, dtype: int64"
      ]
     },
     "execution_count": 51,
     "metadata": {},
     "output_type": "execute_result"
    }
   ],
   "source": [
    "data[data.production_companies.str.contains('Warner Bros')].pivot_table(\n",
    "    values='profit', index='release_year', aggfunc='sum')\\\n",
    ".profit.sort_values(ascending=False)"
   ]
  },
  {
   "cell_type": "code",
   "execution_count": 52,
   "metadata": {},
   "outputs": [],
   "source": [
    "answers['20'] = '2014'"
   ]
  },
  {
   "cell_type": "markdown",
   "metadata": {
    "colab_type": "text",
    "id": "8Im1S2HRVp_4"
   },
   "source": [
    "# 21. В каком месяце за все годы суммарно вышло больше всего фильмов?"
   ]
  },
  {
   "cell_type": "code",
   "execution_count": 53,
   "metadata": {},
   "outputs": [
    {
     "data": {
      "text/plain": [
       "9     227\n",
       "12    190\n",
       "10    186\n",
       "8     161\n",
       "3     156\n",
       "4     149\n",
       "6     147\n",
       "11    146\n",
       "7     142\n",
       "5     140\n",
       "2     135\n",
       "1     110\n",
       "Name: release_date, dtype: int64"
      ]
     },
     "execution_count": 53,
     "metadata": {},
     "output_type": "execute_result"
    }
   ],
   "source": [
    "months = data.release_date.apply(lambda x: x.split('/')[0])\n",
    "months.value_counts()"
   ]
  },
  {
   "cell_type": "code",
   "execution_count": 54,
   "metadata": {},
   "outputs": [],
   "source": [
    "answers['21'] = 'Сентябрь'"
   ]
  },
  {
   "cell_type": "markdown",
   "metadata": {
    "colab_type": "text",
    "id": "uAJsZ_NeVp_7"
   },
   "source": [
    "# 22. Сколько суммарно вышло фильмов летом? (за июнь, июль, август)"
   ]
  },
  {
   "cell_type": "code",
   "execution_count": 55,
   "metadata": {
    "colab": {},
    "colab_type": "code",
    "id": "Aa-hEREoVp_8"
   },
   "outputs": [
    {
     "data": {
      "text/plain": [
       "450"
      ]
     },
     "execution_count": 55,
     "metadata": {},
     "output_type": "execute_result"
    }
   ],
   "source": [
    "months.value_counts()[['6','7','8']].sum()"
   ]
  },
  {
   "cell_type": "code",
   "execution_count": 56,
   "metadata": {},
   "outputs": [],
   "source": [
    "answers['22'] = '450'"
   ]
  },
  {
   "cell_type": "markdown",
   "metadata": {
    "colab_type": "text",
    "id": "G94ppOY1VqAA"
   },
   "source": [
    "# 23. Для какого режиссера зима – самое продуктивное время года? "
   ]
  },
  {
   "cell_type": "code",
   "execution_count": 57,
   "metadata": {
    "colab": {},
    "colab_type": "code",
    "id": "RhNTsamuVqAB"
   },
   "outputs": [
    {
     "data": {
      "text/plain": [
       "Peter Jackson        7\n",
       "Steven Soderbergh    6\n",
       "Clint Eastwood       6\n",
       "Shawn Levy           4\n",
       "Nancy Meyers         4\n",
       "                    ..\n",
       "Alexander Payne      1\n",
       "Brian Taylor         1\n",
       "Tommy Wirkola        1\n",
       "Tyler Perry          1\n",
       "Philip Kaufman       1\n",
       "Length: 358, dtype: int64"
      ]
     },
     "execution_count": 57,
     "metadata": {},
     "output_type": "execute_result"
    }
   ],
   "source": [
    "data['release_month'] = months\n",
    "winter_directors = []\n",
    "for director in data[data.release_month.isin(['1', '2', '12'])].director\\\n",
    "        .apply(spl):\n",
    "    winter_directors.extend(director)\n",
    "winter_directors = pd.Series(winter_directors)\n",
    "winter_directors.value_counts()"
   ]
  },
  {
   "cell_type": "code",
   "execution_count": 58,
   "metadata": {},
   "outputs": [],
   "source": [
    "answers['23'] = 'Peter Jackson'"
   ]
  },
  {
   "cell_type": "markdown",
   "metadata": {
    "colab_type": "text",
    "id": "RBo0JVjVVqAF"
   },
   "source": [
    "# 24. Какая студия дает самые длинные названия своим фильмам по количеству символов?"
   ]
  },
  {
   "cell_type": "code",
   "execution_count": 59,
   "metadata": {},
   "outputs": [
    {
     "name": "stderr",
     "output_type": "stream",
     "text": [
      "<ipython-input-59-1f786cc0fa4b>:10: SettingWithCopyWarning: \n",
      "A value is trying to be set on a copy of a slice from a DataFrame\n",
      "\n",
      "See the caveats in the documentation: https://pandas.pydata.org/pandas-docs/stable/user_guide/indexing.html#returning-a-view-versus-a-copy\n",
      "  companies.title_lenght_max[i] = \\\n"
     ]
    },
    {
     "data": {
      "text/html": [
       "<div>\n",
       "<style scoped>\n",
       "    .dataframe tbody tr th:only-of-type {\n",
       "        vertical-align: middle;\n",
       "    }\n",
       "\n",
       "    .dataframe tbody tr th {\n",
       "        vertical-align: top;\n",
       "    }\n",
       "\n",
       "    .dataframe thead th {\n",
       "        text-align: right;\n",
       "    }\n",
       "</style>\n",
       "<table border=\"1\" class=\"dataframe\">\n",
       "  <thead>\n",
       "    <tr style=\"text-align: right;\">\n",
       "      <th></th>\n",
       "      <th>company</th>\n",
       "      <th>title_lenght_max</th>\n",
       "    </tr>\n",
       "  </thead>\n",
       "  <tbody>\n",
       "    <tr>\n",
       "      <th>1505</th>\n",
       "      <td>Four By Two Productions</td>\n",
       "      <td>83</td>\n",
       "    </tr>\n",
       "    <tr>\n",
       "      <th>25</th>\n",
       "      <td>Twentieth Century Fox Film Corporation</td>\n",
       "      <td>83</td>\n",
       "    </tr>\n",
       "    <tr>\n",
       "      <th>674</th>\n",
       "      <td>Twentieth Century Fox</td>\n",
       "      <td>83</td>\n",
       "    </tr>\n",
       "    <tr>\n",
       "      <th>451</th>\n",
       "      <td>Walt Disney</td>\n",
       "      <td>62</td>\n",
       "    </tr>\n",
       "    <tr>\n",
       "      <th>406</th>\n",
       "      <td>Disney</td>\n",
       "      <td>62</td>\n",
       "    </tr>\n",
       "    <tr>\n",
       "      <th>...</th>\n",
       "      <td>...</td>\n",
       "      <td>...</td>\n",
       "    </tr>\n",
       "    <tr>\n",
       "      <th>1376</th>\n",
       "      <td>Everest Entertainment</td>\n",
       "      <td>3</td>\n",
       "    </tr>\n",
       "    <tr>\n",
       "      <th>158</th>\n",
       "      <td>Berlanti Productions</td>\n",
       "      <td>3</td>\n",
       "    </tr>\n",
       "    <tr>\n",
       "      <th>1296</th>\n",
       "      <td>XM2 Productions</td>\n",
       "      <td>2</td>\n",
       "    </tr>\n",
       "    <tr>\n",
       "      <th>953</th>\n",
       "      <td>Ixtlan Productions</td>\n",
       "      <td>2</td>\n",
       "    </tr>\n",
       "    <tr>\n",
       "      <th>955</th>\n",
       "      <td>Global Entertainment Group</td>\n",
       "      <td>2</td>\n",
       "    </tr>\n",
       "  </tbody>\n",
       "</table>\n",
       "<p>1771 rows × 2 columns</p>\n",
       "</div>"
      ],
      "text/plain": [
       "                                     company  title_lenght_max\n",
       "1505                 Four By Two Productions                83\n",
       "25    Twentieth Century Fox Film Corporation                83\n",
       "674                    Twentieth Century Fox                83\n",
       "451                              Walt Disney                62\n",
       "406                                   Disney                62\n",
       "...                                      ...               ...\n",
       "1376                   Everest Entertainment                 3\n",
       "158                     Berlanti Productions                 3\n",
       "1296                         XM2 Productions                 2\n",
       "953                       Ixtlan Productions                 2\n",
       "955               Global Entertainment Group                 2\n",
       "\n",
       "[1771 rows x 2 columns]"
      ]
     },
     "execution_count": 59,
     "metadata": {},
     "output_type": "execute_result"
    }
   ],
   "source": [
    "companies = []\n",
    "# making of DataFrame for production companies \n",
    "for company in data.production_companies.apply(spl):\n",
    "    companies.extend(company)\n",
    "companies = pd.Series(companies).unique()\n",
    "companies = pd.DataFrame(companies, columns=['company'])\n",
    "companies['title_lenght_max'] = 0\n",
    "\n",
    "for i in companies.index:\n",
    "    companies.title_lenght_max[i] = \\\n",
    "        data[data.production_companies.str.contains(companies.company[i])]\\\n",
    "        .original_title.str.len().max()\n",
    "\n",
    "companies.sort_values(by='title_lenght_max', ascending=False)"
   ]
  },
  {
   "cell_type": "code",
   "execution_count": 60,
   "metadata": {
    "colab": {},
    "colab_type": "code",
    "id": "QRGS8L0iVqAG"
   },
   "outputs": [],
   "source": [
    "answers['24'] = 'Four By Two Productions'"
   ]
  },
  {
   "cell_type": "markdown",
   "metadata": {
    "colab_type": "text",
    "id": "9G0hbvR7VqAK"
   },
   "source": [
    "# 25. Описание фильмов какой студии в среднем самые длинные по количеству слов?"
   ]
  },
  {
   "cell_type": "code",
   "execution_count": 61,
   "metadata": {
    "colab": {},
    "colab_type": "code",
    "id": "Ge2GsLNxVqAK"
   },
   "outputs": [
    {
     "name": "stderr",
     "output_type": "stream",
     "text": [
      "<ipython-input-61-9a479f850e1f>:4: SettingWithCopyWarning: \n",
      "A value is trying to be set on a copy of a slice from a DataFrame\n",
      "\n",
      "See the caveats in the documentation: https://pandas.pydata.org/pandas-docs/stable/user_guide/indexing.html#returning-a-view-versus-a-copy\n",
      "  companies.overview_lenght_mean[i] \\\n"
     ]
    },
    {
     "data": {
      "text/html": [
       "<div>\n",
       "<style scoped>\n",
       "    .dataframe tbody tr th:only-of-type {\n",
       "        vertical-align: middle;\n",
       "    }\n",
       "\n",
       "    .dataframe tbody tr th {\n",
       "        vertical-align: top;\n",
       "    }\n",
       "\n",
       "    .dataframe thead th {\n",
       "        text-align: right;\n",
       "    }\n",
       "</style>\n",
       "<table border=\"1\" class=\"dataframe\">\n",
       "  <thead>\n",
       "    <tr style=\"text-align: right;\">\n",
       "      <th></th>\n",
       "      <th>company</th>\n",
       "      <th>title_lenght_max</th>\n",
       "      <th>overview_lenght_mean</th>\n",
       "    </tr>\n",
       "  </thead>\n",
       "  <tbody>\n",
       "    <tr>\n",
       "      <th>950</th>\n",
       "      <td>Midnight Picture Show</td>\n",
       "      <td>23</td>\n",
       "      <td>175</td>\n",
       "    </tr>\n",
       "    <tr>\n",
       "      <th>1445</th>\n",
       "      <td>Room 9 Entertainment</td>\n",
       "      <td>21</td>\n",
       "      <td>161</td>\n",
       "    </tr>\n",
       "    <tr>\n",
       "      <th>1232</th>\n",
       "      <td>Heineken Branded Entertainment</td>\n",
       "      <td>19</td>\n",
       "      <td>161</td>\n",
       "    </tr>\n",
       "    <tr>\n",
       "      <th>1141</th>\n",
       "      <td>98 MPH Productions</td>\n",
       "      <td>10</td>\n",
       "      <td>159</td>\n",
       "    </tr>\n",
       "    <tr>\n",
       "      <th>1039</th>\n",
       "      <td>Brookwell-McNamara Entertainment</td>\n",
       "      <td>11</td>\n",
       "      <td>156</td>\n",
       "    </tr>\n",
       "    <tr>\n",
       "      <th>...</th>\n",
       "      <td>...</td>\n",
       "      <td>...</td>\n",
       "      <td>...</td>\n",
       "    </tr>\n",
       "    <tr>\n",
       "      <th>685</th>\n",
       "      <td>Henceforth</td>\n",
       "      <td>16</td>\n",
       "      <td>13</td>\n",
       "    </tr>\n",
       "    <tr>\n",
       "      <th>687</th>\n",
       "      <td>London Boulevard</td>\n",
       "      <td>16</td>\n",
       "      <td>13</td>\n",
       "    </tr>\n",
       "    <tr>\n",
       "      <th>686</th>\n",
       "      <td>Projection Pictures</td>\n",
       "      <td>16</td>\n",
       "      <td>13</td>\n",
       "    </tr>\n",
       "    <tr>\n",
       "      <th>1144</th>\n",
       "      <td>Motion Picture Corporation of America</td>\n",
       "      <td>9</td>\n",
       "      <td>11</td>\n",
       "    </tr>\n",
       "    <tr>\n",
       "      <th>816</th>\n",
       "      <td>Empire Pictures</td>\n",
       "      <td>7</td>\n",
       "      <td>11</td>\n",
       "    </tr>\n",
       "  </tbody>\n",
       "</table>\n",
       "<p>1771 rows × 3 columns</p>\n",
       "</div>"
      ],
      "text/plain": [
       "                                    company  title_lenght_max  \\\n",
       "950                   Midnight Picture Show                23   \n",
       "1445                   Room 9 Entertainment                21   \n",
       "1232         Heineken Branded Entertainment                19   \n",
       "1141                     98 MPH Productions                10   \n",
       "1039       Brookwell-McNamara Entertainment                11   \n",
       "...                                     ...               ...   \n",
       "685                              Henceforth                16   \n",
       "687                        London Boulevard                16   \n",
       "686                     Projection Pictures                16   \n",
       "1144  Motion Picture Corporation of America                 9   \n",
       "816                         Empire Pictures                 7   \n",
       "\n",
       "      overview_lenght_mean  \n",
       "950                    175  \n",
       "1445                   161  \n",
       "1232                   161  \n",
       "1141                   159  \n",
       "1039                   156  \n",
       "...                    ...  \n",
       "685                     13  \n",
       "687                     13  \n",
       "686                     13  \n",
       "1144                    11  \n",
       "816                     11  \n",
       "\n",
       "[1771 rows x 3 columns]"
      ]
     },
     "execution_count": 61,
     "metadata": {},
     "output_type": "execute_result"
    }
   ],
   "source": [
    "companies['overview_lenght_mean'] = 0\n",
    "\n",
    "for i in companies.index:\n",
    "    companies.overview_lenght_mean[i] \\\n",
    "        = data[data.production_companies.str.contains(companies.company[i])]\\\n",
    "        .overview.str.split(' ').str.len().mean()\n",
    "\n",
    "companies.sort_values(by='overview_lenght_mean', ascending=False)"
   ]
  },
  {
   "cell_type": "code",
   "execution_count": 62,
   "metadata": {},
   "outputs": [],
   "source": [
    "answers['25'] = 'Midnight Picture Show'"
   ]
  },
  {
   "cell_type": "markdown",
   "metadata": {
    "colab_type": "text",
    "id": "FJ1AFt90VqAP"
   },
   "source": [
    "# 26. Какие фильмы входят в 1 процент лучших по рейтингу? \n",
    "по vote_average"
   ]
  },
  {
   "cell_type": "code",
   "execution_count": 63,
   "metadata": {
    "colab": {},
    "colab_type": "code",
    "id": "8qmJVq4CVqAQ"
   },
   "outputs": [
    {
     "data": {
      "text/plain": [
       "599                                   The Dark Knight\n",
       "118                                      Interstellar\n",
       "125                                The Imitation Game\n",
       "9                                          Inside Out\n",
       "34                                               Room\n",
       "1183                          The Wolf of Wall Street\n",
       "128                                         Gone Girl\n",
       "1191                                 12 Years a Slave\n",
       "119                           Guardians of the Galaxy\n",
       "1081    The Lord of the Rings: The Return of the King\n",
       "1800                                          Memento\n",
       "370                                         Inception\n",
       "872                                       The Pianist\n",
       "138                          The Grand Budapest Hotel\n",
       "1188                                              Her\n",
       "28                                          Spotlight\n",
       "124                                        Big Hero 6\n",
       "177                            The Fault in Our Stars\n",
       "Name: original_title, dtype: object"
      ]
     },
     "execution_count": 63,
     "metadata": {},
     "output_type": "execute_result"
    }
   ],
   "source": [
    "data.sort_values('vote_average', ascending=False)\\\n",
    "    .original_title[:int(len(data)/100)]"
   ]
  },
  {
   "cell_type": "code",
   "execution_count": 64,
   "metadata": {},
   "outputs": [],
   "source": [
    "answers['26'] = 'Inside Out, The Dark Knight, 12 Years a Slave'"
   ]
  },
  {
   "cell_type": "markdown",
   "metadata": {
    "colab_type": "text",
    "id": "MdXsUXbCVqAV"
   },
   "source": [
    "# 27. Какие актеры чаще всего снимаются в одном фильме вместе?\n"
   ]
  },
  {
   "cell_type": "code",
   "execution_count": 65,
   "metadata": {},
   "outputs": [
    {
     "data": {
      "text/plain": [
       "Emma Watson|Rupert Grint             8\n",
       "Daniel Radcliffe|Rupert Grint        8\n",
       "Daniel Radcliffe|Emma Watson         8\n",
       "Emma Watson|Daniel Radcliffe         8\n",
       "Rupert Grint|Daniel Radcliffe        8\n",
       "                                    ..\n",
       "Raven-SymonÃ©|Kyla Pratt             1\n",
       "Elizabeth Olsen|Samuel L. Jackson    1\n",
       "Melissa Leo|Jake Gyllenhaal          1\n",
       "Jennifer Jason Leigh|Liam Aiken      1\n",
       "Kat Dennings|Aaron Yoo               1\n",
       "Length: 35884, dtype: int64"
      ]
     },
     "execution_count": 65,
     "metadata": {},
     "output_type": "execute_result"
    }
   ],
   "source": [
    "actor_pairs = []\n",
    "for actor in actors:\n",
    "    for cast in data.cast.apply(spl):\n",
    "        if actor in cast:\n",
    "            for i in cast:\n",
    "                if actor == i:\n",
    "                    continue\n",
    "                else:\n",
    "                    pair = [actor, i]\n",
    "                    actor_pairs.append(pair)\n",
    "                \n",
    "actor_pairs = pd.Series(actor_pairs)\n",
    "actor_pairs = actor_pairs.apply(lambda x: '|'.join(x))\n",
    "actor_pairs.value_counts()"
   ]
  },
  {
   "cell_type": "code",
   "execution_count": 66,
   "metadata": {},
   "outputs": [],
   "source": [
    "answers['27'] = 'Daniel Radcliffe & Rupert Grint'"
   ]
  },
  {
   "cell_type": "markdown",
   "metadata": {
    "colab_type": "text",
    "id": "U0nONFnGVqAX"
   },
   "source": [
    "# Submission"
   ]
  },
  {
   "cell_type": "code",
   "execution_count": 67,
   "metadata": {
    "colab": {},
    "colab_type": "code",
    "id": "IfcaRO9-VqAX",
    "outputId": "0f132912-32bb-4196-c98c-abfbc4ad5a5f"
   },
   "outputs": [
    {
     "data": {
      "text/plain": [
       "{'1': 'Pirates of the Caribbean: On Stranger Tides (tt1298650)',\n",
       " '2': 'Gods and Generals (tt0279111)',\n",
       " '3': 'Winnie the Pooh (tt1449283)',\n",
       " '4': '110',\n",
       " '5': '107',\n",
       " '6': 'Avatar (tt0499549)',\n",
       " '7': 'The Lone Ranger (tt1210819)',\n",
       " '8': '1478',\n",
       " '9': 'The Dark Knight (tt0468569)',\n",
       " '10': 'The Lone Ranger (tt1210819)',\n",
       " '11': 'Drama',\n",
       " '12': 'Drama',\n",
       " '13': 'Peter Jackson',\n",
       " '14': 'Robert Rodriguez',\n",
       " '15': 'Chris Hemsworth',\n",
       " '16': 'Matt Damon',\n",
       " '17': 'Action',\n",
       " '18': 'K-19: The Widowmaker (tt0267626)',\n",
       " '19': '2015',\n",
       " '20': '2014',\n",
       " '21': 'Сентябрь',\n",
       " '22': '450',\n",
       " '23': 'Peter Jackson',\n",
       " '24': 'Four By Two Productions',\n",
       " '25': 'Midnight Picture Show',\n",
       " '26': 'Inside Out, The Dark Knight, 12 Years a Slave',\n",
       " '27': 'Daniel Radcliffe & Rupert Grint'}"
      ]
     },
     "execution_count": 67,
     "metadata": {},
     "output_type": "execute_result"
    }
   ],
   "source": [
    "# в конце можно посмотреть свои ответы к каждому вопросу\n",
    "answers"
   ]
  },
  {
   "cell_type": "code",
   "execution_count": 68,
   "metadata": {
    "colab": {},
    "colab_type": "code",
    "id": "SiRmHPl8VqAd"
   },
   "outputs": [
    {
     "data": {
      "text/plain": [
       "27"
      ]
     },
     "execution_count": 68,
     "metadata": {},
     "output_type": "execute_result"
    }
   ],
   "source": [
    "# и убедиться что ни чего не пропустил)\n",
    "len(answers)"
   ]
  }
 ],
 "metadata": {
  "colab": {
   "name": "Copy of [SF-DST] Movies IMBD v4.1 TEMPLATE.ipynb",
   "provenance": []
  },
  "kernelspec": {
   "display_name": "Python 3",
   "language": "python",
   "name": "python3"
  },
  "language_info": {
   "codemirror_mode": {
    "name": "ipython",
    "version": 3
   },
   "file_extension": ".py",
   "mimetype": "text/x-python",
   "name": "python",
   "nbconvert_exporter": "python",
   "pygments_lexer": "ipython3",
   "version": "3.8.3"
  }
 },
 "nbformat": 4,
 "nbformat_minor": 1
}
